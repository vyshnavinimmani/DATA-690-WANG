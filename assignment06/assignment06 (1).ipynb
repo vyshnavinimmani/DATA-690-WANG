{
  "cells": [
    {
      "cell_type": "code",
      "metadata": {
        "tags": [],
        "cell_id": "00000-1469459d-5b66-4f6a-bf45-02ff54f36b07",
        "deepnote_to_be_reexecuted": false,
        "source_hash": "c3e3dea3",
        "execution_start": 1615866330751,
        "execution_millis": 0,
        "deepnote_cell_type": "code"
      },
      "source": "# Start writing code here...\nimport pandas as pd\nimport numpy as np\n",
      "execution_count": 1,
      "outputs": []
    },
    {
      "cell_type": "code",
      "source": "# Reading the data\ndata=pd.read_html(\"https://www.genealogybranches.com/censuscosts.html\")",
      "metadata": {
        "tags": [],
        "cell_id": "00001-e81ed023-58a0-429e-88b2-ffd61820bde6",
        "deepnote_to_be_reexecuted": false,
        "source_hash": "8861515f",
        "execution_start": 1615866342170,
        "execution_millis": 224,
        "deepnote_cell_type": "code"
      },
      "outputs": [],
      "execution_count": 2
    },
    {
      "cell_type": "code",
      "source": "data",
      "metadata": {
        "tags": [],
        "cell_id": "00002-32e482a4-6c66-40aa-8f74-eb38bd30c27d",
        "deepnote_to_be_reexecuted": false,
        "source_hash": "e6928a8f",
        "execution_start": 1615866350195,
        "execution_millis": 6,
        "deepnote_cell_type": "code"
      },
      "outputs": [
        {
          "output_type": "execute_result",
          "execution_count": 3,
          "data": {
            "text/plain": "[              0                 1               2                        3\n 0   Census Year  Total Population     Census Cost  Average Cost Per Person\n 1          1790           3929214         $44,377               1.13 cents\n 2          1800           5308483         $66,109               1.24 cents\n 3          1810           7239881        $178,445               2.46 cents\n 4          1820           9633822        $208,526               2.16 cents\n 5          1830          12866020        $378,545               2.94 cents\n 6          1840          17069458        $833,371               4.88 cents\n 7          1850          23191876      $1,423,351               6.14 cents\n 8          1860          31443321      $1,969,377               6.26 cents\n 9          1870          38558371      $3,421,198               8.87 cents\n 10         1880          50155783      $5,790,678              11.54 cents\n 11         1890          62979766     $11,547,127              18.33 cents\n 12         1900          76303387     $11,854,000              15.54 cents\n 13         1910          91972266     $15,968,000              17.07 cents\n 14         1920         105710620     $25,117,000              23.76 cents\n 15         1930         122775046     $40,156,000              32.71 cents\n 16         1940         131669275     $67,527,000              51.29 cents\n 17         1950         151325798     $91,462,000              60.44 cents\n 18         1960         179323175    $127,934,000              71.34 cents\n 19         1970         203302031    $247,653,000                    $1.22\n 20         1980         226542199  $1,078,488,000                    $4.76\n 21         1990         248718301  $2,492,830,000                   $10.02\n 22         2000         281421906    $4.5 Billion                   $15.99\n 23        2010*         308745538     $13 Billion                   $42.11,\n                                                    0\n 0  The U.S. population reached 300,000,000 on 17 ...]"
          },
          "metadata": {}
        }
      ],
      "execution_count": 3
    },
    {
      "cell_type": "code",
      "source": "print(\"Number of HTML tables is \",len(data))   # to find how many number of tables ",
      "metadata": {
        "tags": [],
        "cell_id": "00003-3a029f79-ff43-4d54-a18e-b92e462bcfdb",
        "deepnote_to_be_reexecuted": false,
        "source_hash": "47763d20",
        "execution_start": 1615866379418,
        "execution_millis": 3,
        "deepnote_cell_type": "code"
      },
      "outputs": [
        {
          "name": "stdout",
          "text": "Number of HTML tables is  2\n",
          "output_type": "stream"
        }
      ],
      "execution_count": 4
    },
    {
      "cell_type": "code",
      "source": "#to expolre the first table in the data table\ndata_table1=data[0]\ndata_table1.head()",
      "metadata": {
        "tags": [],
        "cell_id": "00004-51debd78-d7cf-48b3-b736-f9401e02f074",
        "deepnote_to_be_reexecuted": false,
        "source_hash": "8067ef42",
        "execution_start": 1615866399078,
        "execution_millis": 11,
        "deepnote_cell_type": "code"
      },
      "outputs": [
        {
          "output_type": "execute_result",
          "execution_count": 5,
          "data": {
            "application/vnd.deepnote.dataframe.v2+json": {
              "row_count": 5,
              "column_count": 4,
              "columns": [
                {
                  "name": 0,
                  "dtype": "object",
                  "stats": {
                    "unique_count": 5,
                    "nan_count": 0,
                    "categories": [
                      {
                        "name": "Census Year",
                        "count": 1
                      },
                      {
                        "name": "1790",
                        "count": 1
                      },
                      {
                        "name": "3 others",
                        "count": 3
                      }
                    ]
                  }
                },
                {
                  "name": 1,
                  "dtype": "object",
                  "stats": {
                    "unique_count": 5,
                    "nan_count": 0,
                    "categories": [
                      {
                        "name": "Total Population",
                        "count": 1
                      },
                      {
                        "name": "3929214",
                        "count": 1
                      },
                      {
                        "name": "3 others",
                        "count": 3
                      }
                    ]
                  }
                },
                {
                  "name": 2,
                  "dtype": "object",
                  "stats": {
                    "unique_count": 5,
                    "nan_count": 0,
                    "categories": [
                      {
                        "name": "Census Cost",
                        "count": 1
                      },
                      {
                        "name": "$44,377",
                        "count": 1
                      },
                      {
                        "name": "3 others",
                        "count": 3
                      }
                    ]
                  }
                },
                {
                  "name": 3,
                  "dtype": "object",
                  "stats": {
                    "unique_count": 5,
                    "nan_count": 0,
                    "categories": [
                      {
                        "name": "Average Cost Per Person",
                        "count": 1
                      },
                      {
                        "name": "1.13 cents",
                        "count": 1
                      },
                      {
                        "name": "3 others",
                        "count": 3
                      }
                    ]
                  }
                },
                {
                  "name": "_deepnote_index_column",
                  "dtype": "int64"
                }
              ],
              "rows_top": [
                {
                  "0": "Census Year",
                  "1": "Total Population",
                  "2": "Census Cost",
                  "3": "Average Cost Per Person",
                  "_deepnote_index_column": 0
                },
                {
                  "0": "1790",
                  "1": "3929214",
                  "2": "$44,377",
                  "3": "1.13 cents",
                  "_deepnote_index_column": 1
                },
                {
                  "0": "1800",
                  "1": "5308483",
                  "2": "$66,109",
                  "3": "1.24 cents",
                  "_deepnote_index_column": 2
                },
                {
                  "0": "1810",
                  "1": "7239881",
                  "2": "$178,445",
                  "3": "2.46 cents",
                  "_deepnote_index_column": 3
                },
                {
                  "0": "1820",
                  "1": "9633822",
                  "2": "$208,526",
                  "3": "2.16 cents",
                  "_deepnote_index_column": 4
                }
              ],
              "rows_bottom": null
            },
            "text/plain": "             0                 1            2                        3\n0  Census Year  Total Population  Census Cost  Average Cost Per Person\n1         1790           3929214      $44,377               1.13 cents\n2         1800           5308483      $66,109               1.24 cents\n3         1810           7239881     $178,445               2.46 cents\n4         1820           9633822     $208,526               2.16 cents",
            "text/html": "<div>\n<style scoped>\n    .dataframe tbody tr th:only-of-type {\n        vertical-align: middle;\n    }\n\n    .dataframe tbody tr th {\n        vertical-align: top;\n    }\n\n    .dataframe thead th {\n        text-align: right;\n    }\n</style>\n<table border=\"1\" class=\"dataframe\">\n  <thead>\n    <tr style=\"text-align: right;\">\n      <th></th>\n      <th>0</th>\n      <th>1</th>\n      <th>2</th>\n      <th>3</th>\n    </tr>\n  </thead>\n  <tbody>\n    <tr>\n      <th>0</th>\n      <td>Census Year</td>\n      <td>Total Population</td>\n      <td>Census Cost</td>\n      <td>Average Cost Per Person</td>\n    </tr>\n    <tr>\n      <th>1</th>\n      <td>1790</td>\n      <td>3929214</td>\n      <td>$44,377</td>\n      <td>1.13 cents</td>\n    </tr>\n    <tr>\n      <th>2</th>\n      <td>1800</td>\n      <td>5308483</td>\n      <td>$66,109</td>\n      <td>1.24 cents</td>\n    </tr>\n    <tr>\n      <th>3</th>\n      <td>1810</td>\n      <td>7239881</td>\n      <td>$178,445</td>\n      <td>2.46 cents</td>\n    </tr>\n    <tr>\n      <th>4</th>\n      <td>1820</td>\n      <td>9633822</td>\n      <td>$208,526</td>\n      <td>2.16 cents</td>\n    </tr>\n  </tbody>\n</table>\n</div>"
          },
          "metadata": {}
        }
      ],
      "execution_count": 5
    },
    {
      "cell_type": "code",
      "source": "#to explore the second table in the data table\ndata_table2 = data[1]\ndata_table2.head()",
      "metadata": {
        "tags": [],
        "cell_id": "00005-b3947f92-3972-4bbe-95ad-a447bf536c9c",
        "deepnote_to_be_reexecuted": false,
        "source_hash": "26dd3e1",
        "execution_start": 1615866427609,
        "execution_millis": 4,
        "deepnote_cell_type": "code"
      },
      "outputs": [
        {
          "output_type": "execute_result",
          "execution_count": 6,
          "data": {
            "application/vnd.deepnote.dataframe.v2+json": {
              "row_count": 1,
              "column_count": 1,
              "columns": [
                {
                  "name": 0,
                  "dtype": "object",
                  "stats": {
                    "unique_count": 1,
                    "nan_count": 0,
                    "categories": [
                      {
                        "name": "The U.S. population reached 300,000,000 on 17 October 2006. At the end of 2015, it was at 319,958,045. At the end of 2017, it was at 326,971,209. Source (except 2010)... Gauthier, Jason G., Measuring America: The Decennial Censuses From 1790-2000, (US Bureau of the Census/Dept of Commerce), Washington: US Government Printing Office, 2002, Appendix A, Page A-1.The numbers in the fourth column are not included in the book and were added by me. * The 2010 census cost was taken from GAO (U.S. Government Accountability Office) report number GAO-11-496T, 2010 Census: Preliminary Lessons Learned Highlight the Need for Fundamental Reforms (April 6, 2011): \"At about $13 billion, 2010 was the costliest U.S. Census in history.\" The official census day for 2010 was April 1, 2010. The total population figure (308,745,538) was announced by the U.S. Census Bureau on Dec. 21, 2010. See: 2010 Census - Resident Population Data The 1940 Census 1940 census records were released on April 2, 2012. For details see:1940 Census Records and InformationFor information on census records for other years see: U.S. Census Records 1790-1940",
                        "count": 1
                      }
                    ]
                  }
                },
                {
                  "name": "_deepnote_index_column",
                  "dtype": "int64"
                }
              ],
              "rows_top": [
                {
                  "0": "The U.S. population reached 300,000,000 on 17 October 2006. At the end of 2015, it was at 319,958,045. At the end of 2017, it was at 326,971,209. Source (except 2010)... Gauthier, Jason G., Measuring America: The Decennial Censuses From 1790-2000, (US Bureau of the Census/Dept of Commerce), Washington: US Government Printing Office, 2002, Appendix A, Page A-1.The numbers in the fourth column are not included in the book and were added by me. * The 2010 census cost was taken from GAO (U.S. Government Accountability Office) report number GAO-11-496T, 2010 Census: Preliminary Lessons Learned Highlight the Need for Fundamental Reforms (April 6, 2011): \"At about $13 billion, 2010 was the costliest U.S. Census in history.\" The official census day for 2010 was April 1, 2010. The total population figure (308,745,538) was announced by the U.S. Census Bureau on Dec. 21, 2010. See: 2010 Census - Resident Population Data The 1940 Census 1940 census records were released on April 2, 2012. For details see:1940 Census Records and InformationFor information on census records for other years see: U.S. Census Records 1790-1940",
                  "_deepnote_index_column": 0
                }
              ],
              "rows_bottom": null
            },
            "text/plain": "                                                   0\n0  The U.S. population reached 300,000,000 on 17 ...",
            "text/html": "<div>\n<style scoped>\n    .dataframe tbody tr th:only-of-type {\n        vertical-align: middle;\n    }\n\n    .dataframe tbody tr th {\n        vertical-align: top;\n    }\n\n    .dataframe thead th {\n        text-align: right;\n    }\n</style>\n<table border=\"1\" class=\"dataframe\">\n  <thead>\n    <tr style=\"text-align: right;\">\n      <th></th>\n      <th>0</th>\n    </tr>\n  </thead>\n  <tbody>\n    <tr>\n      <th>0</th>\n      <td>The U.S. population reached 300,000,000 on 17 ...</td>\n    </tr>\n  </tbody>\n</table>\n</div>"
          },
          "metadata": {}
        }
      ],
      "execution_count": 6
    },
    {
      "cell_type": "code",
      "source": "#exploring the useful dataframe and checking the rows and columns count\nprint(\"the shape of table 1 is\",data_table1.shape)\nprint(\"the shape of table 2 is\",data_table2.shape)",
      "metadata": {
        "tags": [],
        "cell_id": "00006-0d5d020a-250e-4ad3-a225-fbc1d1d7e83c",
        "deepnote_to_be_reexecuted": false,
        "source_hash": "49bcb7b8",
        "execution_start": 1615866450687,
        "execution_millis": 7,
        "deepnote_cell_type": "code"
      },
      "outputs": [
        {
          "name": "stdout",
          "text": "the shape of table 1 is (24, 4)\nthe shape of table 2 is (1, 1)\n",
          "output_type": "stream"
        }
      ],
      "execution_count": 7
    },
    {
      "cell_type": "code",
      "source": "print(data_table1)",
      "metadata": {
        "tags": [],
        "cell_id": "00007-ea232ca3-2876-4808-b1b7-41d26ae20be9",
        "deepnote_to_be_reexecuted": false,
        "source_hash": "56af5a2f",
        "execution_start": 1615866471134,
        "execution_millis": 5,
        "deepnote_cell_type": "code"
      },
      "outputs": [
        {
          "name": "stdout",
          "text": "              0                 1               2                        3\n0   Census Year  Total Population     Census Cost  Average Cost Per Person\n1          1790           3929214         $44,377               1.13 cents\n2          1800           5308483         $66,109               1.24 cents\n3          1810           7239881        $178,445               2.46 cents\n4          1820           9633822        $208,526               2.16 cents\n5          1830          12866020        $378,545               2.94 cents\n6          1840          17069458        $833,371               4.88 cents\n7          1850          23191876      $1,423,351               6.14 cents\n8          1860          31443321      $1,969,377               6.26 cents\n9          1870          38558371      $3,421,198               8.87 cents\n10         1880          50155783      $5,790,678              11.54 cents\n11         1890          62979766     $11,547,127              18.33 cents\n12         1900          76303387     $11,854,000              15.54 cents\n13         1910          91972266     $15,968,000              17.07 cents\n14         1920         105710620     $25,117,000              23.76 cents\n15         1930         122775046     $40,156,000              32.71 cents\n16         1940         131669275     $67,527,000              51.29 cents\n17         1950         151325798     $91,462,000              60.44 cents\n18         1960         179323175    $127,934,000              71.34 cents\n19         1970         203302031    $247,653,000                    $1.22\n20         1980         226542199  $1,078,488,000                    $4.76\n21         1990         248718301  $2,492,830,000                   $10.02\n22         2000         281421906    $4.5 Billion                   $15.99\n23        2010*         308745538     $13 Billion                   $42.11\n",
          "output_type": "stream"
        }
      ],
      "execution_count": 8
    },
    {
      "cell_type": "code",
      "source": "#printing first row\nfirst_row = data_table1.iloc[0]\nprint(first_row)",
      "metadata": {
        "tags": [],
        "cell_id": "00008-59cc9b1e-0404-42c4-a15d-86d4a1304dab",
        "deepnote_to_be_reexecuted": false,
        "source_hash": "5f0acb46",
        "execution_start": 1615866487545,
        "execution_millis": 3,
        "deepnote_cell_type": "code"
      },
      "outputs": [
        {
          "name": "stdout",
          "text": "0                Census Year\n1           Total Population\n2                Census Cost\n3    Average Cost Per Person\nName: 0, dtype: object\n",
          "output_type": "stream"
        }
      ],
      "execution_count": 9
    },
    {
      "cell_type": "code",
      "source": "data_table1.columns = first_row\ndata_table1.head()",
      "metadata": {
        "tags": [],
        "cell_id": "00009-95b6fd1e-8949-4c52-a782-bd5fdc7b743c",
        "deepnote_to_be_reexecuted": false,
        "source_hash": "43034a65",
        "execution_start": 1615866506085,
        "execution_millis": 6,
        "deepnote_cell_type": "code"
      },
      "outputs": [
        {
          "output_type": "execute_result",
          "execution_count": 10,
          "data": {
            "application/vnd.deepnote.dataframe.v2+json": {
              "row_count": 5,
              "column_count": 4,
              "columns": [
                {
                  "name": "Census Year",
                  "dtype": "object",
                  "stats": {
                    "unique_count": 5,
                    "nan_count": 0,
                    "categories": [
                      {
                        "name": "Census Year",
                        "count": 1
                      },
                      {
                        "name": "1790",
                        "count": 1
                      },
                      {
                        "name": "3 others",
                        "count": 3
                      }
                    ]
                  }
                },
                {
                  "name": "Total Population",
                  "dtype": "object",
                  "stats": {
                    "unique_count": 5,
                    "nan_count": 0,
                    "categories": [
                      {
                        "name": "Total Population",
                        "count": 1
                      },
                      {
                        "name": "3929214",
                        "count": 1
                      },
                      {
                        "name": "3 others",
                        "count": 3
                      }
                    ]
                  }
                },
                {
                  "name": "Census Cost",
                  "dtype": "object",
                  "stats": {
                    "unique_count": 5,
                    "nan_count": 0,
                    "categories": [
                      {
                        "name": "Census Cost",
                        "count": 1
                      },
                      {
                        "name": "$44,377",
                        "count": 1
                      },
                      {
                        "name": "3 others",
                        "count": 3
                      }
                    ]
                  }
                },
                {
                  "name": "Average Cost Per Person",
                  "dtype": "object",
                  "stats": {
                    "unique_count": 5,
                    "nan_count": 0,
                    "categories": [
                      {
                        "name": "Average Cost Per Person",
                        "count": 1
                      },
                      {
                        "name": "1.13 cents",
                        "count": 1
                      },
                      {
                        "name": "3 others",
                        "count": 3
                      }
                    ]
                  }
                },
                {
                  "name": "_deepnote_index_column",
                  "dtype": "int64"
                }
              ],
              "rows_top": [
                {
                  "Census Year": "Census Year",
                  "Total Population": "Total Population",
                  "Census Cost": "Census Cost",
                  "Average Cost Per Person": "Average Cost Per Person",
                  "_deepnote_index_column": 0
                },
                {
                  "Census Year": "1790",
                  "Total Population": "3929214",
                  "Census Cost": "$44,377",
                  "Average Cost Per Person": "1.13 cents",
                  "_deepnote_index_column": 1
                },
                {
                  "Census Year": "1800",
                  "Total Population": "5308483",
                  "Census Cost": "$66,109",
                  "Average Cost Per Person": "1.24 cents",
                  "_deepnote_index_column": 2
                },
                {
                  "Census Year": "1810",
                  "Total Population": "7239881",
                  "Census Cost": "$178,445",
                  "Average Cost Per Person": "2.46 cents",
                  "_deepnote_index_column": 3
                },
                {
                  "Census Year": "1820",
                  "Total Population": "9633822",
                  "Census Cost": "$208,526",
                  "Average Cost Per Person": "2.16 cents",
                  "_deepnote_index_column": 4
                }
              ],
              "rows_bottom": null
            },
            "text/plain": "0  Census Year  Total Population  Census Cost  Average Cost Per Person\n0  Census Year  Total Population  Census Cost  Average Cost Per Person\n1         1790           3929214      $44,377               1.13 cents\n2         1800           5308483      $66,109               1.24 cents\n3         1810           7239881     $178,445               2.46 cents\n4         1820           9633822     $208,526               2.16 cents",
            "text/html": "<div>\n<style scoped>\n    .dataframe tbody tr th:only-of-type {\n        vertical-align: middle;\n    }\n\n    .dataframe tbody tr th {\n        vertical-align: top;\n    }\n\n    .dataframe thead th {\n        text-align: right;\n    }\n</style>\n<table border=\"1\" class=\"dataframe\">\n  <thead>\n    <tr style=\"text-align: right;\">\n      <th></th>\n      <th>Census Year</th>\n      <th>Total Population</th>\n      <th>Census Cost</th>\n      <th>Average Cost Per Person</th>\n    </tr>\n  </thead>\n  <tbody>\n    <tr>\n      <th>0</th>\n      <td>Census Year</td>\n      <td>Total Population</td>\n      <td>Census Cost</td>\n      <td>Average Cost Per Person</td>\n    </tr>\n    <tr>\n      <th>1</th>\n      <td>1790</td>\n      <td>3929214</td>\n      <td>$44,377</td>\n      <td>1.13 cents</td>\n    </tr>\n    <tr>\n      <th>2</th>\n      <td>1800</td>\n      <td>5308483</td>\n      <td>$66,109</td>\n      <td>1.24 cents</td>\n    </tr>\n    <tr>\n      <th>3</th>\n      <td>1810</td>\n      <td>7239881</td>\n      <td>$178,445</td>\n      <td>2.46 cents</td>\n    </tr>\n    <tr>\n      <th>4</th>\n      <td>1820</td>\n      <td>9633822</td>\n      <td>$208,526</td>\n      <td>2.16 cents</td>\n    </tr>\n  </tbody>\n</table>\n</div>"
          },
          "metadata": {}
        }
      ],
      "execution_count": 10
    },
    {
      "cell_type": "code",
      "source": "#dropping first row as it contains duplicate values in  header\ndata_table1.drop([0], inplace=True)\ndata_table1.head()",
      "metadata": {
        "tags": [],
        "cell_id": "00010-46c15291-81e2-43d6-8082-474eedb16b7a",
        "deepnote_to_be_reexecuted": false,
        "source_hash": "a2c6eb33",
        "execution_start": 1615866623897,
        "execution_millis": 4,
        "deepnote_cell_type": "code"
      },
      "outputs": [
        {
          "output_type": "execute_result",
          "execution_count": 11,
          "data": {
            "application/vnd.deepnote.dataframe.v2+json": {
              "row_count": 5,
              "column_count": 4,
              "columns": [
                {
                  "name": "Census Year",
                  "dtype": "object",
                  "stats": {
                    "unique_count": 5,
                    "nan_count": 0,
                    "categories": [
                      {
                        "name": "1790",
                        "count": 1
                      },
                      {
                        "name": "1800",
                        "count": 1
                      },
                      {
                        "name": "3 others",
                        "count": 3
                      }
                    ]
                  }
                },
                {
                  "name": "Total Population",
                  "dtype": "object",
                  "stats": {
                    "unique_count": 5,
                    "nan_count": 0,
                    "categories": [
                      {
                        "name": "3929214",
                        "count": 1
                      },
                      {
                        "name": "5308483",
                        "count": 1
                      },
                      {
                        "name": "3 others",
                        "count": 3
                      }
                    ]
                  }
                },
                {
                  "name": "Census Cost",
                  "dtype": "object",
                  "stats": {
                    "unique_count": 5,
                    "nan_count": 0,
                    "categories": [
                      {
                        "name": "$44,377",
                        "count": 1
                      },
                      {
                        "name": "$66,109",
                        "count": 1
                      },
                      {
                        "name": "3 others",
                        "count": 3
                      }
                    ]
                  }
                },
                {
                  "name": "Average Cost Per Person",
                  "dtype": "object",
                  "stats": {
                    "unique_count": 5,
                    "nan_count": 0,
                    "categories": [
                      {
                        "name": "1.13 cents",
                        "count": 1
                      },
                      {
                        "name": "1.24 cents",
                        "count": 1
                      },
                      {
                        "name": "3 others",
                        "count": 3
                      }
                    ]
                  }
                },
                {
                  "name": "_deepnote_index_column",
                  "dtype": "int64"
                }
              ],
              "rows_top": [
                {
                  "Census Year": "1790",
                  "Total Population": "3929214",
                  "Census Cost": "$44,377",
                  "Average Cost Per Person": "1.13 cents",
                  "_deepnote_index_column": 1
                },
                {
                  "Census Year": "1800",
                  "Total Population": "5308483",
                  "Census Cost": "$66,109",
                  "Average Cost Per Person": "1.24 cents",
                  "_deepnote_index_column": 2
                },
                {
                  "Census Year": "1810",
                  "Total Population": "7239881",
                  "Census Cost": "$178,445",
                  "Average Cost Per Person": "2.46 cents",
                  "_deepnote_index_column": 3
                },
                {
                  "Census Year": "1820",
                  "Total Population": "9633822",
                  "Census Cost": "$208,526",
                  "Average Cost Per Person": "2.16 cents",
                  "_deepnote_index_column": 4
                },
                {
                  "Census Year": "1830",
                  "Total Population": "12866020",
                  "Census Cost": "$378,545",
                  "Average Cost Per Person": "2.94 cents",
                  "_deepnote_index_column": 5
                }
              ],
              "rows_bottom": null
            },
            "text/plain": "0 Census Year Total Population Census Cost Average Cost Per Person\n1        1790          3929214     $44,377              1.13 cents\n2        1800          5308483     $66,109              1.24 cents\n3        1810          7239881    $178,445              2.46 cents\n4        1820          9633822    $208,526              2.16 cents\n5        1830         12866020    $378,545              2.94 cents",
            "text/html": "<div>\n<style scoped>\n    .dataframe tbody tr th:only-of-type {\n        vertical-align: middle;\n    }\n\n    .dataframe tbody tr th {\n        vertical-align: top;\n    }\n\n    .dataframe thead th {\n        text-align: right;\n    }\n</style>\n<table border=\"1\" class=\"dataframe\">\n  <thead>\n    <tr style=\"text-align: right;\">\n      <th></th>\n      <th>Census Year</th>\n      <th>Total Population</th>\n      <th>Census Cost</th>\n      <th>Average Cost Per Person</th>\n    </tr>\n  </thead>\n  <tbody>\n    <tr>\n      <th>1</th>\n      <td>1790</td>\n      <td>3929214</td>\n      <td>$44,377</td>\n      <td>1.13 cents</td>\n    </tr>\n    <tr>\n      <th>2</th>\n      <td>1800</td>\n      <td>5308483</td>\n      <td>$66,109</td>\n      <td>1.24 cents</td>\n    </tr>\n    <tr>\n      <th>3</th>\n      <td>1810</td>\n      <td>7239881</td>\n      <td>$178,445</td>\n      <td>2.46 cents</td>\n    </tr>\n    <tr>\n      <th>4</th>\n      <td>1820</td>\n      <td>9633822</td>\n      <td>$208,526</td>\n      <td>2.16 cents</td>\n    </tr>\n    <tr>\n      <th>5</th>\n      <td>1830</td>\n      <td>12866020</td>\n      <td>$378,545</td>\n      <td>2.94 cents</td>\n    </tr>\n  </tbody>\n</table>\n</div>"
          },
          "metadata": {}
        }
      ],
      "execution_count": 11
    },
    {
      "cell_type": "code",
      "source": "#checking for null values\ndata_table1.isnull().any()",
      "metadata": {
        "tags": [],
        "cell_id": "00011-86bcd03f-e2e1-4afd-9f69-4840f56f6e3a",
        "deepnote_to_be_reexecuted": false,
        "source_hash": "3aac1f1",
        "execution_start": 1615866643681,
        "execution_millis": 3,
        "deepnote_cell_type": "code"
      },
      "outputs": [
        {
          "output_type": "execute_result",
          "execution_count": 12,
          "data": {
            "text/plain": "0\nCensus Year                False\nTotal Population           False\nCensus Cost                False\nAverage Cost Per Person    False\ndtype: bool"
          },
          "metadata": {}
        }
      ],
      "execution_count": 12
    },
    {
      "cell_type": "code",
      "source": "def cleanse_year(string):\n    string=string.replace(\"*\",\"\")\n    return string",
      "metadata": {
        "tags": [],
        "cell_id": "00012-c06bd5b7-0e59-455d-8f73-9f5e3fdfdee0",
        "deepnote_to_be_reexecuted": false,
        "source_hash": "25d42321",
        "execution_millis": 2,
        "execution_start": 1615866667003,
        "deepnote_cell_type": "code"
      },
      "outputs": [],
      "execution_count": 14
    },
    {
      "cell_type": "code",
      "source": "# testing strings\ncleanse_year(\"1989*\")",
      "metadata": {
        "tags": [],
        "cell_id": "00013-d647b9a4-895d-44fa-a131-75af7396b56e",
        "deepnote_to_be_reexecuted": false,
        "source_hash": "6a7ae50b",
        "execution_start": 1615866684385,
        "execution_millis": 6,
        "deepnote_cell_type": "code"
      },
      "outputs": [
        {
          "output_type": "execute_result",
          "execution_count": 15,
          "data": {
            "text/plain": "'1989'"
          },
          "metadata": {}
        }
      ],
      "execution_count": 15
    },
    {
      "cell_type": "code",
      "source": "data_table1['Census Year']=data_table1['Census Year'].apply(cleanse_year)\ndata_table1\n",
      "metadata": {
        "tags": [],
        "cell_id": "00014-cd3226e3-92b7-4949-b8ba-4c5acd330404",
        "deepnote_to_be_reexecuted": false,
        "source_hash": "c3b129ad",
        "execution_start": 1615866714206,
        "execution_millis": 17,
        "deepnote_cell_type": "code"
      },
      "outputs": [
        {
          "output_type": "execute_result",
          "execution_count": 16,
          "data": {
            "application/vnd.deepnote.dataframe.v2+json": {
              "row_count": 23,
              "column_count": 4,
              "columns": [
                {
                  "name": "Census Year",
                  "dtype": "object",
                  "stats": {
                    "unique_count": 23,
                    "nan_count": 0,
                    "categories": [
                      {
                        "name": "1790",
                        "count": 1
                      },
                      {
                        "name": "1800",
                        "count": 1
                      },
                      {
                        "name": "21 others",
                        "count": 21
                      }
                    ]
                  }
                },
                {
                  "name": "Total Population",
                  "dtype": "object",
                  "stats": {
                    "unique_count": 23,
                    "nan_count": 0,
                    "categories": [
                      {
                        "name": "3929214",
                        "count": 1
                      },
                      {
                        "name": "5308483",
                        "count": 1
                      },
                      {
                        "name": "21 others",
                        "count": 21
                      }
                    ]
                  }
                },
                {
                  "name": "Census Cost",
                  "dtype": "object",
                  "stats": {
                    "unique_count": 23,
                    "nan_count": 0,
                    "categories": [
                      {
                        "name": "$44,377",
                        "count": 1
                      },
                      {
                        "name": "$66,109",
                        "count": 1
                      },
                      {
                        "name": "21 others",
                        "count": 21
                      }
                    ]
                  }
                },
                {
                  "name": "Average Cost Per Person",
                  "dtype": "object",
                  "stats": {
                    "unique_count": 23,
                    "nan_count": 0,
                    "categories": [
                      {
                        "name": "1.13 cents",
                        "count": 1
                      },
                      {
                        "name": "1.24 cents",
                        "count": 1
                      },
                      {
                        "name": "21 others",
                        "count": 21
                      }
                    ]
                  }
                },
                {
                  "name": "_deepnote_index_column",
                  "dtype": "int64"
                }
              ],
              "rows_top": [
                {
                  "Census Year": "1790",
                  "Total Population": "3929214",
                  "Census Cost": "$44,377",
                  "Average Cost Per Person": "1.13 cents",
                  "_deepnote_index_column": 1
                },
                {
                  "Census Year": "1800",
                  "Total Population": "5308483",
                  "Census Cost": "$66,109",
                  "Average Cost Per Person": "1.24 cents",
                  "_deepnote_index_column": 2
                },
                {
                  "Census Year": "1810",
                  "Total Population": "7239881",
                  "Census Cost": "$178,445",
                  "Average Cost Per Person": "2.46 cents",
                  "_deepnote_index_column": 3
                },
                {
                  "Census Year": "1820",
                  "Total Population": "9633822",
                  "Census Cost": "$208,526",
                  "Average Cost Per Person": "2.16 cents",
                  "_deepnote_index_column": 4
                },
                {
                  "Census Year": "1830",
                  "Total Population": "12866020",
                  "Census Cost": "$378,545",
                  "Average Cost Per Person": "2.94 cents",
                  "_deepnote_index_column": 5
                },
                {
                  "Census Year": "1840",
                  "Total Population": "17069458",
                  "Census Cost": "$833,371",
                  "Average Cost Per Person": "4.88 cents",
                  "_deepnote_index_column": 6
                },
                {
                  "Census Year": "1850",
                  "Total Population": "23191876",
                  "Census Cost": "$1,423,351",
                  "Average Cost Per Person": "6.14 cents",
                  "_deepnote_index_column": 7
                },
                {
                  "Census Year": "1860",
                  "Total Population": "31443321",
                  "Census Cost": "$1,969,377",
                  "Average Cost Per Person": "6.26 cents",
                  "_deepnote_index_column": 8
                },
                {
                  "Census Year": "1870",
                  "Total Population": "38558371",
                  "Census Cost": "$3,421,198",
                  "Average Cost Per Person": "8.87 cents",
                  "_deepnote_index_column": 9
                },
                {
                  "Census Year": "1880",
                  "Total Population": "50155783",
                  "Census Cost": "$5,790,678",
                  "Average Cost Per Person": "11.54 cents",
                  "_deepnote_index_column": 10
                },
                {
                  "Census Year": "1890",
                  "Total Population": "62979766",
                  "Census Cost": "$11,547,127",
                  "Average Cost Per Person": "18.33 cents",
                  "_deepnote_index_column": 11
                },
                {
                  "Census Year": "1900",
                  "Total Population": "76303387",
                  "Census Cost": "$11,854,000",
                  "Average Cost Per Person": "15.54 cents",
                  "_deepnote_index_column": 12
                },
                {
                  "Census Year": "1910",
                  "Total Population": "91972266",
                  "Census Cost": "$15,968,000",
                  "Average Cost Per Person": "17.07 cents",
                  "_deepnote_index_column": 13
                },
                {
                  "Census Year": "1920",
                  "Total Population": "105710620",
                  "Census Cost": "$25,117,000",
                  "Average Cost Per Person": "23.76 cents",
                  "_deepnote_index_column": 14
                },
                {
                  "Census Year": "1930",
                  "Total Population": "122775046",
                  "Census Cost": "$40,156,000",
                  "Average Cost Per Person": "32.71 cents",
                  "_deepnote_index_column": 15
                },
                {
                  "Census Year": "1940",
                  "Total Population": "131669275",
                  "Census Cost": "$67,527,000",
                  "Average Cost Per Person": "51.29 cents",
                  "_deepnote_index_column": 16
                },
                {
                  "Census Year": "1950",
                  "Total Population": "151325798",
                  "Census Cost": "$91,462,000",
                  "Average Cost Per Person": "60.44 cents",
                  "_deepnote_index_column": 17
                },
                {
                  "Census Year": "1960",
                  "Total Population": "179323175",
                  "Census Cost": "$127,934,000",
                  "Average Cost Per Person": "71.34 cents",
                  "_deepnote_index_column": 18
                },
                {
                  "Census Year": "1970",
                  "Total Population": "203302031",
                  "Census Cost": "$247,653,000",
                  "Average Cost Per Person": "$1.22",
                  "_deepnote_index_column": 19
                },
                {
                  "Census Year": "1980",
                  "Total Population": "226542199",
                  "Census Cost": "$1,078,488,000",
                  "Average Cost Per Person": "$4.76",
                  "_deepnote_index_column": 20
                },
                {
                  "Census Year": "1990",
                  "Total Population": "248718301",
                  "Census Cost": "$2,492,830,000",
                  "Average Cost Per Person": "$10.02",
                  "_deepnote_index_column": 21
                },
                {
                  "Census Year": "2000",
                  "Total Population": "281421906",
                  "Census Cost": "$4.5 Billion",
                  "Average Cost Per Person": "$15.99",
                  "_deepnote_index_column": 22
                },
                {
                  "Census Year": "2010",
                  "Total Population": "308745538",
                  "Census Cost": "$13 Billion",
                  "Average Cost Per Person": "$42.11",
                  "_deepnote_index_column": 23
                }
              ],
              "rows_bottom": null
            },
            "text/plain": "0  Census Year Total Population     Census Cost Average Cost Per Person\n1         1790          3929214         $44,377              1.13 cents\n2         1800          5308483         $66,109              1.24 cents\n3         1810          7239881        $178,445              2.46 cents\n4         1820          9633822        $208,526              2.16 cents\n5         1830         12866020        $378,545              2.94 cents\n6         1840         17069458        $833,371              4.88 cents\n7         1850         23191876      $1,423,351              6.14 cents\n8         1860         31443321      $1,969,377              6.26 cents\n9         1870         38558371      $3,421,198              8.87 cents\n10        1880         50155783      $5,790,678             11.54 cents\n11        1890         62979766     $11,547,127             18.33 cents\n12        1900         76303387     $11,854,000             15.54 cents\n13        1910         91972266     $15,968,000             17.07 cents\n14        1920        105710620     $25,117,000             23.76 cents\n15        1930        122775046     $40,156,000             32.71 cents\n16        1940        131669275     $67,527,000             51.29 cents\n17        1950        151325798     $91,462,000             60.44 cents\n18        1960        179323175    $127,934,000             71.34 cents\n19        1970        203302031    $247,653,000                   $1.22\n20        1980        226542199  $1,078,488,000                   $4.76\n21        1990        248718301  $2,492,830,000                  $10.02\n22        2000        281421906    $4.5 Billion                  $15.99\n23        2010        308745538     $13 Billion                  $42.11",
            "text/html": "<div>\n<style scoped>\n    .dataframe tbody tr th:only-of-type {\n        vertical-align: middle;\n    }\n\n    .dataframe tbody tr th {\n        vertical-align: top;\n    }\n\n    .dataframe thead th {\n        text-align: right;\n    }\n</style>\n<table border=\"1\" class=\"dataframe\">\n  <thead>\n    <tr style=\"text-align: right;\">\n      <th></th>\n      <th>Census Year</th>\n      <th>Total Population</th>\n      <th>Census Cost</th>\n      <th>Average Cost Per Person</th>\n    </tr>\n  </thead>\n  <tbody>\n    <tr>\n      <th>1</th>\n      <td>1790</td>\n      <td>3929214</td>\n      <td>$44,377</td>\n      <td>1.13 cents</td>\n    </tr>\n    <tr>\n      <th>2</th>\n      <td>1800</td>\n      <td>5308483</td>\n      <td>$66,109</td>\n      <td>1.24 cents</td>\n    </tr>\n    <tr>\n      <th>3</th>\n      <td>1810</td>\n      <td>7239881</td>\n      <td>$178,445</td>\n      <td>2.46 cents</td>\n    </tr>\n    <tr>\n      <th>4</th>\n      <td>1820</td>\n      <td>9633822</td>\n      <td>$208,526</td>\n      <td>2.16 cents</td>\n    </tr>\n    <tr>\n      <th>5</th>\n      <td>1830</td>\n      <td>12866020</td>\n      <td>$378,545</td>\n      <td>2.94 cents</td>\n    </tr>\n    <tr>\n      <th>6</th>\n      <td>1840</td>\n      <td>17069458</td>\n      <td>$833,371</td>\n      <td>4.88 cents</td>\n    </tr>\n    <tr>\n      <th>7</th>\n      <td>1850</td>\n      <td>23191876</td>\n      <td>$1,423,351</td>\n      <td>6.14 cents</td>\n    </tr>\n    <tr>\n      <th>8</th>\n      <td>1860</td>\n      <td>31443321</td>\n      <td>$1,969,377</td>\n      <td>6.26 cents</td>\n    </tr>\n    <tr>\n      <th>9</th>\n      <td>1870</td>\n      <td>38558371</td>\n      <td>$3,421,198</td>\n      <td>8.87 cents</td>\n    </tr>\n    <tr>\n      <th>10</th>\n      <td>1880</td>\n      <td>50155783</td>\n      <td>$5,790,678</td>\n      <td>11.54 cents</td>\n    </tr>\n    <tr>\n      <th>11</th>\n      <td>1890</td>\n      <td>62979766</td>\n      <td>$11,547,127</td>\n      <td>18.33 cents</td>\n    </tr>\n    <tr>\n      <th>12</th>\n      <td>1900</td>\n      <td>76303387</td>\n      <td>$11,854,000</td>\n      <td>15.54 cents</td>\n    </tr>\n    <tr>\n      <th>13</th>\n      <td>1910</td>\n      <td>91972266</td>\n      <td>$15,968,000</td>\n      <td>17.07 cents</td>\n    </tr>\n    <tr>\n      <th>14</th>\n      <td>1920</td>\n      <td>105710620</td>\n      <td>$25,117,000</td>\n      <td>23.76 cents</td>\n    </tr>\n    <tr>\n      <th>15</th>\n      <td>1930</td>\n      <td>122775046</td>\n      <td>$40,156,000</td>\n      <td>32.71 cents</td>\n    </tr>\n    <tr>\n      <th>16</th>\n      <td>1940</td>\n      <td>131669275</td>\n      <td>$67,527,000</td>\n      <td>51.29 cents</td>\n    </tr>\n    <tr>\n      <th>17</th>\n      <td>1950</td>\n      <td>151325798</td>\n      <td>$91,462,000</td>\n      <td>60.44 cents</td>\n    </tr>\n    <tr>\n      <th>18</th>\n      <td>1960</td>\n      <td>179323175</td>\n      <td>$127,934,000</td>\n      <td>71.34 cents</td>\n    </tr>\n    <tr>\n      <th>19</th>\n      <td>1970</td>\n      <td>203302031</td>\n      <td>$247,653,000</td>\n      <td>$1.22</td>\n    </tr>\n    <tr>\n      <th>20</th>\n      <td>1980</td>\n      <td>226542199</td>\n      <td>$1,078,488,000</td>\n      <td>$4.76</td>\n    </tr>\n    <tr>\n      <th>21</th>\n      <td>1990</td>\n      <td>248718301</td>\n      <td>$2,492,830,000</td>\n      <td>$10.02</td>\n    </tr>\n    <tr>\n      <th>22</th>\n      <td>2000</td>\n      <td>281421906</td>\n      <td>$4.5 Billion</td>\n      <td>$15.99</td>\n    </tr>\n    <tr>\n      <th>23</th>\n      <td>2010</td>\n      <td>308745538</td>\n      <td>$13 Billion</td>\n      <td>$42.11</td>\n    </tr>\n  </tbody>\n</table>\n</div>"
          },
          "metadata": {}
        }
      ],
      "execution_count": 16
    },
    {
      "cell_type": "code",
      "source": "import math\n# define cleanse_cost function which can be used to clean the Census Cost column\ndef cleanse_cost(data_cost):\n    cost = data_cost.lstrip(\"$\").replace(\",\",\"\")\n    if  cost.find(\"Billion\") != -1:          # if  conatins billion\n        cost = cost.replace('Billion','')\n        cost = float(cost)* math.pow(10,8)\n    elif data_cost.find(\"Million\") != -1:     # elif  contains million \n        cost = cost.replace('Million','')\n        cost = float(cost)* math.pow(10,6)\n    return str(cost)\n\n#Testing cleanse_cost function\ncleanse_cost(\"1.3 Billion\")\n",
      "metadata": {
        "tags": [],
        "cell_id": "00015-7185e50d-a917-4acc-92fd-419d41dedf2b",
        "deepnote_to_be_reexecuted": false,
        "source_hash": "4b11dc79",
        "execution_start": 1615866744217,
        "execution_millis": 1,
        "deepnote_cell_type": "code"
      },
      "outputs": [
        {
          "output_type": "execute_result",
          "execution_count": 17,
          "data": {
            "text/plain": "'130000000.0'"
          },
          "metadata": {}
        }
      ],
      "execution_count": 17
    },
    {
      "cell_type": "code",
      "source": "#applying the cleanse cost function to Census Cost Column\ndata_table1[\"Census Cost\"] = data_table1[\"Census Cost\"].apply(cleanse_cost)\nprint(data_table1)",
      "metadata": {
        "tags": [],
        "cell_id": "00016-c993cfe4-3665-4b32-8e52-6d24892cfaff",
        "deepnote_to_be_reexecuted": false,
        "source_hash": "5b4e0b0",
        "execution_start": 1615866762009,
        "execution_millis": 5,
        "deepnote_cell_type": "code"
      },
      "outputs": [
        {
          "name": "stdout",
          "text": "0  Census Year Total Population   Census Cost Average Cost Per Person\n1         1790          3929214         44377              1.13 cents\n2         1800          5308483         66109              1.24 cents\n3         1810          7239881        178445              2.46 cents\n4         1820          9633822        208526              2.16 cents\n5         1830         12866020        378545              2.94 cents\n6         1840         17069458        833371              4.88 cents\n7         1850         23191876       1423351              6.14 cents\n8         1860         31443321       1969377              6.26 cents\n9         1870         38558371       3421198              8.87 cents\n10        1880         50155783       5790678             11.54 cents\n11        1890         62979766      11547127             18.33 cents\n12        1900         76303387      11854000             15.54 cents\n13        1910         91972266      15968000             17.07 cents\n14        1920        105710620      25117000             23.76 cents\n15        1930        122775046      40156000             32.71 cents\n16        1940        131669275      67527000             51.29 cents\n17        1950        151325798      91462000             60.44 cents\n18        1960        179323175     127934000             71.34 cents\n19        1970        203302031     247653000                   $1.22\n20        1980        226542199    1078488000                   $4.76\n21        1990        248718301    2492830000                  $10.02\n22        2000        281421906   450000000.0                  $15.99\n23        2010        308745538  1300000000.0                  $42.11\n",
          "output_type": "stream"
        }
      ],
      "execution_count": 18
    },
    {
      "cell_type": "code",
      "source": "#defining cleanse_population function which can be used to clean the Total Population column\ndef cleanse_population(population):\n   return int(population.replace(',',''))\n\n#testing the cleanse population function\n\ncleanse_population(\"324,000\")",
      "metadata": {
        "tags": [],
        "cell_id": "00017-f58e10cc-0ca6-48ab-afb7-009183d583c1",
        "deepnote_to_be_reexecuted": false,
        "source_hash": "93ec7c60",
        "execution_start": 1615866960893,
        "execution_millis": 4,
        "deepnote_cell_type": "code"
      },
      "outputs": [
        {
          "output_type": "execute_result",
          "execution_count": 19,
          "data": {
            "text/plain": "324000"
          },
          "metadata": {}
        }
      ],
      "execution_count": 19
    },
    {
      "cell_type": "code",
      "source": "#applying the cleanse population function to Total Population column\ndata_table1['Total Population'] = data_table1['Total Population'].apply(cleanse_population)\nprint(data_table1)",
      "metadata": {
        "tags": [],
        "cell_id": "00018-327d6231-c6e4-46ab-af6d-cb41659b385e",
        "deepnote_to_be_reexecuted": false,
        "source_hash": "2feebcee",
        "execution_start": 1615866983893,
        "execution_millis": 7,
        "deepnote_cell_type": "code"
      },
      "outputs": [
        {
          "name": "stdout",
          "text": "0  Census Year  Total Population   Census Cost Average Cost Per Person\n1         1790           3929214         44377              1.13 cents\n2         1800           5308483         66109              1.24 cents\n3         1810           7239881        178445              2.46 cents\n4         1820           9633822        208526              2.16 cents\n5         1830          12866020        378545              2.94 cents\n6         1840          17069458        833371              4.88 cents\n7         1850          23191876       1423351              6.14 cents\n8         1860          31443321       1969377              6.26 cents\n9         1870          38558371       3421198              8.87 cents\n10        1880          50155783       5790678             11.54 cents\n11        1890          62979766      11547127             18.33 cents\n12        1900          76303387      11854000             15.54 cents\n13        1910          91972266      15968000             17.07 cents\n14        1920         105710620      25117000             23.76 cents\n15        1930         122775046      40156000             32.71 cents\n16        1940         131669275      67527000             51.29 cents\n17        1950         151325798      91462000             60.44 cents\n18        1960         179323175     127934000             71.34 cents\n19        1970         203302031     247653000                   $1.22\n20        1980         226542199    1078488000                   $4.76\n21        1990         248718301    2492830000                  $10.02\n22        2000         281421906   450000000.0                  $15.99\n23        2010         308745538  1300000000.0                  $42.11\n",
          "output_type": "stream"
        }
      ],
      "execution_count": 20
    },
    {
      "cell_type": "code",
      "source": "#define cleanse function to clean average cost per person\ndef cleanse_avgcost(cost):\n  cost = cost.replace('$','')\n  cost = cost.replace('\\t','')\n  cost = cost.replace('\\n','')\n  if 'cents' in cost:\n    cost = cost.replace('cents','')\n    cost = float(cost)/100\n  return cost\n\n# testing the function cleanse_avgcost\ncleanse_avgcost(\"51.29 cents\")",
      "metadata": {
        "tags": [],
        "cell_id": "00019-ab66700a-79bd-4093-811e-6e064fec0898",
        "deepnote_to_be_reexecuted": false,
        "source_hash": "1cd3fad0",
        "execution_start": 1615867009561,
        "execution_millis": 5,
        "deepnote_cell_type": "code"
      },
      "outputs": [
        {
          "output_type": "execute_result",
          "execution_count": 21,
          "data": {
            "text/plain": "0.5129"
          },
          "metadata": {}
        }
      ],
      "execution_count": 21
    },
    {
      "cell_type": "code",
      "source": "# applying it to clean average cost per person \ndata_table1['Average Cost Per Person'] = data_table1['Average Cost Per Person'].apply(cleanse_avgcost)\nprint(data_table1)",
      "metadata": {
        "tags": [],
        "cell_id": "00020-cd38cf1e-0db7-466b-af5b-43e29b693f90",
        "deepnote_to_be_reexecuted": false,
        "source_hash": "2a4fc66a",
        "execution_start": 1615867032189,
        "execution_millis": 4,
        "deepnote_cell_type": "code"
      },
      "outputs": [
        {
          "name": "stdout",
          "text": "0  Census Year  Total Population   Census Cost Average Cost Per Person\n1         1790           3929214         44377                  0.0113\n2         1800           5308483         66109                  0.0124\n3         1810           7239881        178445                  0.0246\n4         1820           9633822        208526                  0.0216\n5         1830          12866020        378545                  0.0294\n6         1840          17069458        833371                  0.0488\n7         1850          23191876       1423351                  0.0614\n8         1860          31443321       1969377                  0.0626\n9         1870          38558371       3421198                  0.0887\n10        1880          50155783       5790678                  0.1154\n11        1890          62979766      11547127                  0.1833\n12        1900          76303387      11854000                  0.1554\n13        1910          91972266      15968000                  0.1707\n14        1920         105710620      25117000                  0.2376\n15        1930         122775046      40156000                  0.3271\n16        1940         131669275      67527000                  0.5129\n17        1950         151325798      91462000                  0.6044\n18        1960         179323175     127934000                  0.7134\n19        1970         203302031     247653000                    1.22\n20        1980         226542199    1078488000                    4.76\n21        1990         248718301    2492830000                   10.02\n22        2000         281421906   450000000.0                   15.99\n23        2010         308745538  1300000000.0                   42.11\n",
          "output_type": "stream"
        }
      ],
      "execution_count": 22
    },
    {
      "cell_type": "code",
      "source": "# save to csv file\ndata_table1.to_csv(\"census_cost_cleansed.csv\",index=False)",
      "metadata": {
        "tags": [],
        "cell_id": "00021-c6dc4639-1ee4-4684-bf67-56073ac90b62",
        "deepnote_to_be_reexecuted": false,
        "source_hash": "892327a0",
        "execution_start": 1615867056258,
        "execution_millis": 0,
        "deepnote_cell_type": "code"
      },
      "outputs": [],
      "execution_count": 23
    },
    {
      "cell_type": "code",
      "source": "data_clean = pd.read_csv(\"census_cost_cleansed.csv\")",
      "metadata": {
        "tags": [],
        "cell_id": "00022-42dd6eba-8fb3-4e70-b7d7-3d84f98d1f77",
        "deepnote_to_be_reexecuted": false,
        "source_hash": "1f52ef8e",
        "execution_start": 1615867073196,
        "execution_millis": 5,
        "deepnote_cell_type": "code"
      },
      "outputs": [],
      "execution_count": 24
    },
    {
      "cell_type": "code",
      "source": "#check if any null values\n\ndata_clean.isnull().any()",
      "metadata": {
        "tags": [],
        "cell_id": "00023-6c8f14b1-1ec3-44d5-9b3f-9ea59a576c39",
        "deepnote_to_be_reexecuted": false,
        "source_hash": "b94697bb",
        "execution_start": 1615867189733,
        "execution_millis": 4,
        "deepnote_cell_type": "code"
      },
      "outputs": [
        {
          "output_type": "execute_result",
          "execution_count": 25,
          "data": {
            "text/plain": "Census Year                False\nTotal Population           False\nCensus Cost                False\nAverage Cost Per Person    False\ndtype: bool"
          },
          "metadata": {}
        }
      ],
      "execution_count": 25
    },
    {
      "cell_type": "code",
      "source": "data_clean.isnull()",
      "metadata": {
        "tags": [],
        "cell_id": "00024-1fbe3f5c-e100-4a15-a9e1-1592762f699e",
        "deepnote_to_be_reexecuted": false,
        "source_hash": "4550e1b0",
        "execution_start": 1615867211781,
        "execution_millis": 48,
        "deepnote_cell_type": "code"
      },
      "outputs": [
        {
          "output_type": "execute_result",
          "execution_count": 26,
          "data": {
            "application/vnd.deepnote.dataframe.v2+json": {
              "row_count": 23,
              "column_count": 4,
              "columns": [
                {
                  "name": "Census Year",
                  "dtype": "bool",
                  "stats": {
                    "unique_count": 1,
                    "nan_count": 0,
                    "categories": [
                      {
                        "name": "False",
                        "count": 23
                      }
                    ]
                  }
                },
                {
                  "name": "Total Population",
                  "dtype": "bool",
                  "stats": {
                    "unique_count": 1,
                    "nan_count": 0,
                    "categories": [
                      {
                        "name": "False",
                        "count": 23
                      }
                    ]
                  }
                },
                {
                  "name": "Census Cost",
                  "dtype": "bool",
                  "stats": {
                    "unique_count": 1,
                    "nan_count": 0,
                    "categories": [
                      {
                        "name": "False",
                        "count": 23
                      }
                    ]
                  }
                },
                {
                  "name": "Average Cost Per Person",
                  "dtype": "bool",
                  "stats": {
                    "unique_count": 1,
                    "nan_count": 0,
                    "categories": [
                      {
                        "name": "False",
                        "count": 23
                      }
                    ]
                  }
                },
                {
                  "name": "_deepnote_index_column",
                  "dtype": "int64"
                }
              ],
              "rows_top": [
                {
                  "Census Year": false,
                  "Total Population": false,
                  "Census Cost": false,
                  "Average Cost Per Person": false,
                  "_deepnote_index_column": 0
                },
                {
                  "Census Year": false,
                  "Total Population": false,
                  "Census Cost": false,
                  "Average Cost Per Person": false,
                  "_deepnote_index_column": 1
                },
                {
                  "Census Year": false,
                  "Total Population": false,
                  "Census Cost": false,
                  "Average Cost Per Person": false,
                  "_deepnote_index_column": 2
                },
                {
                  "Census Year": false,
                  "Total Population": false,
                  "Census Cost": false,
                  "Average Cost Per Person": false,
                  "_deepnote_index_column": 3
                },
                {
                  "Census Year": false,
                  "Total Population": false,
                  "Census Cost": false,
                  "Average Cost Per Person": false,
                  "_deepnote_index_column": 4
                },
                {
                  "Census Year": false,
                  "Total Population": false,
                  "Census Cost": false,
                  "Average Cost Per Person": false,
                  "_deepnote_index_column": 5
                },
                {
                  "Census Year": false,
                  "Total Population": false,
                  "Census Cost": false,
                  "Average Cost Per Person": false,
                  "_deepnote_index_column": 6
                },
                {
                  "Census Year": false,
                  "Total Population": false,
                  "Census Cost": false,
                  "Average Cost Per Person": false,
                  "_deepnote_index_column": 7
                },
                {
                  "Census Year": false,
                  "Total Population": false,
                  "Census Cost": false,
                  "Average Cost Per Person": false,
                  "_deepnote_index_column": 8
                },
                {
                  "Census Year": false,
                  "Total Population": false,
                  "Census Cost": false,
                  "Average Cost Per Person": false,
                  "_deepnote_index_column": 9
                },
                {
                  "Census Year": false,
                  "Total Population": false,
                  "Census Cost": false,
                  "Average Cost Per Person": false,
                  "_deepnote_index_column": 10
                },
                {
                  "Census Year": false,
                  "Total Population": false,
                  "Census Cost": false,
                  "Average Cost Per Person": false,
                  "_deepnote_index_column": 11
                },
                {
                  "Census Year": false,
                  "Total Population": false,
                  "Census Cost": false,
                  "Average Cost Per Person": false,
                  "_deepnote_index_column": 12
                },
                {
                  "Census Year": false,
                  "Total Population": false,
                  "Census Cost": false,
                  "Average Cost Per Person": false,
                  "_deepnote_index_column": 13
                },
                {
                  "Census Year": false,
                  "Total Population": false,
                  "Census Cost": false,
                  "Average Cost Per Person": false,
                  "_deepnote_index_column": 14
                },
                {
                  "Census Year": false,
                  "Total Population": false,
                  "Census Cost": false,
                  "Average Cost Per Person": false,
                  "_deepnote_index_column": 15
                },
                {
                  "Census Year": false,
                  "Total Population": false,
                  "Census Cost": false,
                  "Average Cost Per Person": false,
                  "_deepnote_index_column": 16
                },
                {
                  "Census Year": false,
                  "Total Population": false,
                  "Census Cost": false,
                  "Average Cost Per Person": false,
                  "_deepnote_index_column": 17
                },
                {
                  "Census Year": false,
                  "Total Population": false,
                  "Census Cost": false,
                  "Average Cost Per Person": false,
                  "_deepnote_index_column": 18
                },
                {
                  "Census Year": false,
                  "Total Population": false,
                  "Census Cost": false,
                  "Average Cost Per Person": false,
                  "_deepnote_index_column": 19
                },
                {
                  "Census Year": false,
                  "Total Population": false,
                  "Census Cost": false,
                  "Average Cost Per Person": false,
                  "_deepnote_index_column": 20
                },
                {
                  "Census Year": false,
                  "Total Population": false,
                  "Census Cost": false,
                  "Average Cost Per Person": false,
                  "_deepnote_index_column": 21
                },
                {
                  "Census Year": false,
                  "Total Population": false,
                  "Census Cost": false,
                  "Average Cost Per Person": false,
                  "_deepnote_index_column": 22
                }
              ],
              "rows_bottom": null
            },
            "text/plain": "    Census Year  Total Population  Census Cost  Average Cost Per Person\n0         False             False        False                    False\n1         False             False        False                    False\n2         False             False        False                    False\n3         False             False        False                    False\n4         False             False        False                    False\n5         False             False        False                    False\n6         False             False        False                    False\n7         False             False        False                    False\n8         False             False        False                    False\n9         False             False        False                    False\n10        False             False        False                    False\n11        False             False        False                    False\n12        False             False        False                    False\n13        False             False        False                    False\n14        False             False        False                    False\n15        False             False        False                    False\n16        False             False        False                    False\n17        False             False        False                    False\n18        False             False        False                    False\n19        False             False        False                    False\n20        False             False        False                    False\n21        False             False        False                    False\n22        False             False        False                    False",
            "text/html": "<div>\n<style scoped>\n    .dataframe tbody tr th:only-of-type {\n        vertical-align: middle;\n    }\n\n    .dataframe tbody tr th {\n        vertical-align: top;\n    }\n\n    .dataframe thead th {\n        text-align: right;\n    }\n</style>\n<table border=\"1\" class=\"dataframe\">\n  <thead>\n    <tr style=\"text-align: right;\">\n      <th></th>\n      <th>Census Year</th>\n      <th>Total Population</th>\n      <th>Census Cost</th>\n      <th>Average Cost Per Person</th>\n    </tr>\n  </thead>\n  <tbody>\n    <tr>\n      <th>0</th>\n      <td>False</td>\n      <td>False</td>\n      <td>False</td>\n      <td>False</td>\n    </tr>\n    <tr>\n      <th>1</th>\n      <td>False</td>\n      <td>False</td>\n      <td>False</td>\n      <td>False</td>\n    </tr>\n    <tr>\n      <th>2</th>\n      <td>False</td>\n      <td>False</td>\n      <td>False</td>\n      <td>False</td>\n    </tr>\n    <tr>\n      <th>3</th>\n      <td>False</td>\n      <td>False</td>\n      <td>False</td>\n      <td>False</td>\n    </tr>\n    <tr>\n      <th>4</th>\n      <td>False</td>\n      <td>False</td>\n      <td>False</td>\n      <td>False</td>\n    </tr>\n    <tr>\n      <th>5</th>\n      <td>False</td>\n      <td>False</td>\n      <td>False</td>\n      <td>False</td>\n    </tr>\n    <tr>\n      <th>6</th>\n      <td>False</td>\n      <td>False</td>\n      <td>False</td>\n      <td>False</td>\n    </tr>\n    <tr>\n      <th>7</th>\n      <td>False</td>\n      <td>False</td>\n      <td>False</td>\n      <td>False</td>\n    </tr>\n    <tr>\n      <th>8</th>\n      <td>False</td>\n      <td>False</td>\n      <td>False</td>\n      <td>False</td>\n    </tr>\n    <tr>\n      <th>9</th>\n      <td>False</td>\n      <td>False</td>\n      <td>False</td>\n      <td>False</td>\n    </tr>\n    <tr>\n      <th>10</th>\n      <td>False</td>\n      <td>False</td>\n      <td>False</td>\n      <td>False</td>\n    </tr>\n    <tr>\n      <th>11</th>\n      <td>False</td>\n      <td>False</td>\n      <td>False</td>\n      <td>False</td>\n    </tr>\n    <tr>\n      <th>12</th>\n      <td>False</td>\n      <td>False</td>\n      <td>False</td>\n      <td>False</td>\n    </tr>\n    <tr>\n      <th>13</th>\n      <td>False</td>\n      <td>False</td>\n      <td>False</td>\n      <td>False</td>\n    </tr>\n    <tr>\n      <th>14</th>\n      <td>False</td>\n      <td>False</td>\n      <td>False</td>\n      <td>False</td>\n    </tr>\n    <tr>\n      <th>15</th>\n      <td>False</td>\n      <td>False</td>\n      <td>False</td>\n      <td>False</td>\n    </tr>\n    <tr>\n      <th>16</th>\n      <td>False</td>\n      <td>False</td>\n      <td>False</td>\n      <td>False</td>\n    </tr>\n    <tr>\n      <th>17</th>\n      <td>False</td>\n      <td>False</td>\n      <td>False</td>\n      <td>False</td>\n    </tr>\n    <tr>\n      <th>18</th>\n      <td>False</td>\n      <td>False</td>\n      <td>False</td>\n      <td>False</td>\n    </tr>\n    <tr>\n      <th>19</th>\n      <td>False</td>\n      <td>False</td>\n      <td>False</td>\n      <td>False</td>\n    </tr>\n    <tr>\n      <th>20</th>\n      <td>False</td>\n      <td>False</td>\n      <td>False</td>\n      <td>False</td>\n    </tr>\n    <tr>\n      <th>21</th>\n      <td>False</td>\n      <td>False</td>\n      <td>False</td>\n      <td>False</td>\n    </tr>\n    <tr>\n      <th>22</th>\n      <td>False</td>\n      <td>False</td>\n      <td>False</td>\n      <td>False</td>\n    </tr>\n  </tbody>\n</table>\n</div>"
          },
          "metadata": {}
        }
      ],
      "execution_count": 26
    },
    {
      "cell_type": "code",
      "source": "data_clean",
      "metadata": {
        "tags": [],
        "cell_id": "00025-b0b528dd-e0d4-4500-87df-43734b10a889",
        "deepnote_to_be_reexecuted": false,
        "source_hash": "f18f46c4",
        "execution_start": 1615867235550,
        "execution_millis": 43,
        "deepnote_cell_type": "code"
      },
      "outputs": [
        {
          "output_type": "execute_result",
          "execution_count": 27,
          "data": {
            "application/vnd.deepnote.dataframe.v2+json": {
              "row_count": 23,
              "column_count": 4,
              "columns": [
                {
                  "name": "Census Year",
                  "dtype": "int64",
                  "stats": {
                    "unique_count": 23,
                    "nan_count": 0,
                    "min": 1790,
                    "max": 2010,
                    "histogram": [
                      {
                        "bin_start": 1790,
                        "bin_end": 1812,
                        "count": 3
                      },
                      {
                        "bin_start": 1812,
                        "bin_end": 1834,
                        "count": 2
                      },
                      {
                        "bin_start": 1834,
                        "bin_end": 1856,
                        "count": 2
                      },
                      {
                        "bin_start": 1856,
                        "bin_end": 1878,
                        "count": 2
                      },
                      {
                        "bin_start": 1878,
                        "bin_end": 1900,
                        "count": 2
                      },
                      {
                        "bin_start": 1900,
                        "bin_end": 1922,
                        "count": 3
                      },
                      {
                        "bin_start": 1922,
                        "bin_end": 1944,
                        "count": 2
                      },
                      {
                        "bin_start": 1944,
                        "bin_end": 1966,
                        "count": 2
                      },
                      {
                        "bin_start": 1966,
                        "bin_end": 1988,
                        "count": 2
                      },
                      {
                        "bin_start": 1988,
                        "bin_end": 2010,
                        "count": 3
                      }
                    ]
                  }
                },
                {
                  "name": "Total Population",
                  "dtype": "int64",
                  "stats": {
                    "unique_count": 23,
                    "nan_count": 0,
                    "min": 3929214,
                    "max": 308745538,
                    "histogram": [
                      {
                        "bin_start": 3929214,
                        "bin_end": 34410846.4,
                        "count": 8
                      },
                      {
                        "bin_start": 34410846.4,
                        "bin_end": 64892478.8,
                        "count": 3
                      },
                      {
                        "bin_start": 64892478.8,
                        "bin_end": 95374111.19999999,
                        "count": 2
                      },
                      {
                        "bin_start": 95374111.19999999,
                        "bin_end": 125855743.6,
                        "count": 2
                      },
                      {
                        "bin_start": 125855743.6,
                        "bin_end": 156337376,
                        "count": 2
                      },
                      {
                        "bin_start": 156337376,
                        "bin_end": 186819008.39999998,
                        "count": 1
                      },
                      {
                        "bin_start": 186819008.39999998,
                        "bin_end": 217300640.79999998,
                        "count": 1
                      },
                      {
                        "bin_start": 217300640.79999998,
                        "bin_end": 247782273.2,
                        "count": 1
                      },
                      {
                        "bin_start": 247782273.2,
                        "bin_end": 278263905.59999996,
                        "count": 1
                      },
                      {
                        "bin_start": 278263905.59999996,
                        "bin_end": 308745538,
                        "count": 2
                      }
                    ]
                  }
                },
                {
                  "name": "Census Cost",
                  "dtype": "float64",
                  "stats": {
                    "unique_count": 23,
                    "nan_count": 0,
                    "min": 44377,
                    "max": 2492830000,
                    "histogram": [
                      {
                        "bin_start": 44377,
                        "bin_end": 249322939.3,
                        "count": 19
                      },
                      {
                        "bin_start": 249322939.3,
                        "bin_end": 498601501.6,
                        "count": 1
                      },
                      {
                        "bin_start": 498601501.6,
                        "bin_end": 747880063.9000001,
                        "count": 0
                      },
                      {
                        "bin_start": 747880063.9000001,
                        "bin_end": 997158626.2,
                        "count": 0
                      },
                      {
                        "bin_start": 997158626.2,
                        "bin_end": 1246437188.5,
                        "count": 1
                      },
                      {
                        "bin_start": 1246437188.5,
                        "bin_end": 1495715750.8000002,
                        "count": 1
                      },
                      {
                        "bin_start": 1495715750.8000002,
                        "bin_end": 1744994313.1000001,
                        "count": 0
                      },
                      {
                        "bin_start": 1744994313.1000001,
                        "bin_end": 1994272875.4,
                        "count": 0
                      },
                      {
                        "bin_start": 1994272875.4,
                        "bin_end": 2243551437.7000003,
                        "count": 0
                      },
                      {
                        "bin_start": 2243551437.7000003,
                        "bin_end": 2492830000,
                        "count": 1
                      }
                    ]
                  }
                },
                {
                  "name": "Average Cost Per Person",
                  "dtype": "float64",
                  "stats": {
                    "unique_count": 23,
                    "nan_count": 0,
                    "min": 0.0113,
                    "max": 42.11,
                    "histogram": [
                      {
                        "bin_start": 0.0113,
                        "bin_end": 4.221170000000001,
                        "count": 19
                      },
                      {
                        "bin_start": 4.221170000000001,
                        "bin_end": 8.431040000000001,
                        "count": 1
                      },
                      {
                        "bin_start": 8.431040000000001,
                        "bin_end": 12.640910000000002,
                        "count": 1
                      },
                      {
                        "bin_start": 12.640910000000002,
                        "bin_end": 16.85078,
                        "count": 1
                      },
                      {
                        "bin_start": 16.85078,
                        "bin_end": 21.060650000000003,
                        "count": 0
                      },
                      {
                        "bin_start": 21.060650000000003,
                        "bin_end": 25.27052,
                        "count": 0
                      },
                      {
                        "bin_start": 25.27052,
                        "bin_end": 29.48039,
                        "count": 0
                      },
                      {
                        "bin_start": 29.48039,
                        "bin_end": 33.69026,
                        "count": 0
                      },
                      {
                        "bin_start": 33.69026,
                        "bin_end": 37.900130000000004,
                        "count": 0
                      },
                      {
                        "bin_start": 37.900130000000004,
                        "bin_end": 42.11,
                        "count": 1
                      }
                    ]
                  }
                },
                {
                  "name": "_deepnote_index_column",
                  "dtype": "int64"
                }
              ],
              "rows_top": [
                {
                  "Census Year": 1790,
                  "Total Population": 3929214,
                  "Census Cost": 44377,
                  "Average Cost Per Person": 0.0113,
                  "_deepnote_index_column": 0
                },
                {
                  "Census Year": 1800,
                  "Total Population": 5308483,
                  "Census Cost": 66109,
                  "Average Cost Per Person": 0.0124,
                  "_deepnote_index_column": 1
                },
                {
                  "Census Year": 1810,
                  "Total Population": 7239881,
                  "Census Cost": 178445,
                  "Average Cost Per Person": 0.0246,
                  "_deepnote_index_column": 2
                },
                {
                  "Census Year": 1820,
                  "Total Population": 9633822,
                  "Census Cost": 208526,
                  "Average Cost Per Person": 0.0216,
                  "_deepnote_index_column": 3
                },
                {
                  "Census Year": 1830,
                  "Total Population": 12866020,
                  "Census Cost": 378545,
                  "Average Cost Per Person": 0.0294,
                  "_deepnote_index_column": 4
                },
                {
                  "Census Year": 1840,
                  "Total Population": 17069458,
                  "Census Cost": 833371,
                  "Average Cost Per Person": 0.0487999999999999,
                  "_deepnote_index_column": 5
                },
                {
                  "Census Year": 1850,
                  "Total Population": 23191876,
                  "Census Cost": 1423351,
                  "Average Cost Per Person": 0.0613999999999999,
                  "_deepnote_index_column": 6
                },
                {
                  "Census Year": 1860,
                  "Total Population": 31443321,
                  "Census Cost": 1969377,
                  "Average Cost Per Person": 0.0626,
                  "_deepnote_index_column": 7
                },
                {
                  "Census Year": 1870,
                  "Total Population": 38558371,
                  "Census Cost": 3421198,
                  "Average Cost Per Person": 0.0886999999999999,
                  "_deepnote_index_column": 8
                },
                {
                  "Census Year": 1880,
                  "Total Population": 50155783,
                  "Census Cost": 5790678,
                  "Average Cost Per Person": 0.1153999999999999,
                  "_deepnote_index_column": 9
                },
                {
                  "Census Year": 1890,
                  "Total Population": 62979766,
                  "Census Cost": 11547127,
                  "Average Cost Per Person": 0.1833,
                  "_deepnote_index_column": 10
                },
                {
                  "Census Year": 1900,
                  "Total Population": 76303387,
                  "Census Cost": 11854000,
                  "Average Cost Per Person": 0.1553999999999999,
                  "_deepnote_index_column": 11
                },
                {
                  "Census Year": 1910,
                  "Total Population": 91972266,
                  "Census Cost": 15968000,
                  "Average Cost Per Person": 0.1707,
                  "_deepnote_index_column": 12
                },
                {
                  "Census Year": 1920,
                  "Total Population": 105710620,
                  "Census Cost": 25117000,
                  "Average Cost Per Person": 0.2376,
                  "_deepnote_index_column": 13
                },
                {
                  "Census Year": 1930,
                  "Total Population": 122775046,
                  "Census Cost": 40156000,
                  "Average Cost Per Person": 0.3271,
                  "_deepnote_index_column": 14
                },
                {
                  "Census Year": 1940,
                  "Total Population": 131669275,
                  "Census Cost": 67527000,
                  "Average Cost Per Person": 0.5129,
                  "_deepnote_index_column": 15
                },
                {
                  "Census Year": 1950,
                  "Total Population": 151325798,
                  "Census Cost": 91462000,
                  "Average Cost Per Person": 0.6043999999999999,
                  "_deepnote_index_column": 16
                },
                {
                  "Census Year": 1960,
                  "Total Population": 179323175,
                  "Census Cost": 127934000,
                  "Average Cost Per Person": 0.7134,
                  "_deepnote_index_column": 17
                },
                {
                  "Census Year": 1970,
                  "Total Population": 203302031,
                  "Census Cost": 247653000,
                  "Average Cost Per Person": 1.22,
                  "_deepnote_index_column": 18
                },
                {
                  "Census Year": 1980,
                  "Total Population": 226542199,
                  "Census Cost": 1078488000,
                  "Average Cost Per Person": 4.76,
                  "_deepnote_index_column": 19
                },
                {
                  "Census Year": 1990,
                  "Total Population": 248718301,
                  "Census Cost": 2492830000,
                  "Average Cost Per Person": 10.02,
                  "_deepnote_index_column": 20
                },
                {
                  "Census Year": 2000,
                  "Total Population": 281421906,
                  "Census Cost": 450000000,
                  "Average Cost Per Person": 15.99,
                  "_deepnote_index_column": 21
                },
                {
                  "Census Year": 2010,
                  "Total Population": 308745538,
                  "Census Cost": 1300000000,
                  "Average Cost Per Person": 42.11,
                  "_deepnote_index_column": 22
                }
              ],
              "rows_bottom": null
            },
            "text/plain": "    Census Year  Total Population   Census Cost  Average Cost Per Person\n0          1790           3929214  4.437700e+04                   0.0113\n1          1800           5308483  6.610900e+04                   0.0124\n2          1810           7239881  1.784450e+05                   0.0246\n3          1820           9633822  2.085260e+05                   0.0216\n4          1830          12866020  3.785450e+05                   0.0294\n5          1840          17069458  8.333710e+05                   0.0488\n6          1850          23191876  1.423351e+06                   0.0614\n7          1860          31443321  1.969377e+06                   0.0626\n8          1870          38558371  3.421198e+06                   0.0887\n9          1880          50155783  5.790678e+06                   0.1154\n10         1890          62979766  1.154713e+07                   0.1833\n11         1900          76303387  1.185400e+07                   0.1554\n12         1910          91972266  1.596800e+07                   0.1707\n13         1920         105710620  2.511700e+07                   0.2376\n14         1930         122775046  4.015600e+07                   0.3271\n15         1940         131669275  6.752700e+07                   0.5129\n16         1950         151325798  9.146200e+07                   0.6044\n17         1960         179323175  1.279340e+08                   0.7134\n18         1970         203302031  2.476530e+08                   1.2200\n19         1980         226542199  1.078488e+09                   4.7600\n20         1990         248718301  2.492830e+09                  10.0200\n21         2000         281421906  4.500000e+08                  15.9900\n22         2010         308745538  1.300000e+09                  42.1100",
            "text/html": "<div>\n<style scoped>\n    .dataframe tbody tr th:only-of-type {\n        vertical-align: middle;\n    }\n\n    .dataframe tbody tr th {\n        vertical-align: top;\n    }\n\n    .dataframe thead th {\n        text-align: right;\n    }\n</style>\n<table border=\"1\" class=\"dataframe\">\n  <thead>\n    <tr style=\"text-align: right;\">\n      <th></th>\n      <th>Census Year</th>\n      <th>Total Population</th>\n      <th>Census Cost</th>\n      <th>Average Cost Per Person</th>\n    </tr>\n  </thead>\n  <tbody>\n    <tr>\n      <th>0</th>\n      <td>1790</td>\n      <td>3929214</td>\n      <td>4.437700e+04</td>\n      <td>0.0113</td>\n    </tr>\n    <tr>\n      <th>1</th>\n      <td>1800</td>\n      <td>5308483</td>\n      <td>6.610900e+04</td>\n      <td>0.0124</td>\n    </tr>\n    <tr>\n      <th>2</th>\n      <td>1810</td>\n      <td>7239881</td>\n      <td>1.784450e+05</td>\n      <td>0.0246</td>\n    </tr>\n    <tr>\n      <th>3</th>\n      <td>1820</td>\n      <td>9633822</td>\n      <td>2.085260e+05</td>\n      <td>0.0216</td>\n    </tr>\n    <tr>\n      <th>4</th>\n      <td>1830</td>\n      <td>12866020</td>\n      <td>3.785450e+05</td>\n      <td>0.0294</td>\n    </tr>\n    <tr>\n      <th>5</th>\n      <td>1840</td>\n      <td>17069458</td>\n      <td>8.333710e+05</td>\n      <td>0.0488</td>\n    </tr>\n    <tr>\n      <th>6</th>\n      <td>1850</td>\n      <td>23191876</td>\n      <td>1.423351e+06</td>\n      <td>0.0614</td>\n    </tr>\n    <tr>\n      <th>7</th>\n      <td>1860</td>\n      <td>31443321</td>\n      <td>1.969377e+06</td>\n      <td>0.0626</td>\n    </tr>\n    <tr>\n      <th>8</th>\n      <td>1870</td>\n      <td>38558371</td>\n      <td>3.421198e+06</td>\n      <td>0.0887</td>\n    </tr>\n    <tr>\n      <th>9</th>\n      <td>1880</td>\n      <td>50155783</td>\n      <td>5.790678e+06</td>\n      <td>0.1154</td>\n    </tr>\n    <tr>\n      <th>10</th>\n      <td>1890</td>\n      <td>62979766</td>\n      <td>1.154713e+07</td>\n      <td>0.1833</td>\n    </tr>\n    <tr>\n      <th>11</th>\n      <td>1900</td>\n      <td>76303387</td>\n      <td>1.185400e+07</td>\n      <td>0.1554</td>\n    </tr>\n    <tr>\n      <th>12</th>\n      <td>1910</td>\n      <td>91972266</td>\n      <td>1.596800e+07</td>\n      <td>0.1707</td>\n    </tr>\n    <tr>\n      <th>13</th>\n      <td>1920</td>\n      <td>105710620</td>\n      <td>2.511700e+07</td>\n      <td>0.2376</td>\n    </tr>\n    <tr>\n      <th>14</th>\n      <td>1930</td>\n      <td>122775046</td>\n      <td>4.015600e+07</td>\n      <td>0.3271</td>\n    </tr>\n    <tr>\n      <th>15</th>\n      <td>1940</td>\n      <td>131669275</td>\n      <td>6.752700e+07</td>\n      <td>0.5129</td>\n    </tr>\n    <tr>\n      <th>16</th>\n      <td>1950</td>\n      <td>151325798</td>\n      <td>9.146200e+07</td>\n      <td>0.6044</td>\n    </tr>\n    <tr>\n      <th>17</th>\n      <td>1960</td>\n      <td>179323175</td>\n      <td>1.279340e+08</td>\n      <td>0.7134</td>\n    </tr>\n    <tr>\n      <th>18</th>\n      <td>1970</td>\n      <td>203302031</td>\n      <td>2.476530e+08</td>\n      <td>1.2200</td>\n    </tr>\n    <tr>\n      <th>19</th>\n      <td>1980</td>\n      <td>226542199</td>\n      <td>1.078488e+09</td>\n      <td>4.7600</td>\n    </tr>\n    <tr>\n      <th>20</th>\n      <td>1990</td>\n      <td>248718301</td>\n      <td>2.492830e+09</td>\n      <td>10.0200</td>\n    </tr>\n    <tr>\n      <th>21</th>\n      <td>2000</td>\n      <td>281421906</td>\n      <td>4.500000e+08</td>\n      <td>15.9900</td>\n    </tr>\n    <tr>\n      <th>22</th>\n      <td>2010</td>\n      <td>308745538</td>\n      <td>1.300000e+09</td>\n      <td>42.1100</td>\n    </tr>\n  </tbody>\n</table>\n</div>"
          },
          "metadata": {}
        }
      ],
      "execution_count": 27
    },
    {
      "cell_type": "markdown",
      "source": "<a style='text-decoration:none;line-height:16px;display:flex;color:#5B5B62;padding:10px;justify-content:end;' href='https://deepnote.com?utm_source=created-in-deepnote-cell&projectId=db928347-f211-47ce-84a6-bd25f9c8d897' target=\"_blank\">\n<img style='display:inline;max-height:16px;margin:0px;margin-right:7.5px;' src='data:image/svg+xml;base64,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' > </img>\nCreated in <span style='font-weight:600;margin-left:4px;'>Deepnote</span></a>",
      "metadata": {
        "tags": [],
        "created_in_deepnote_cell": true,
        "deepnote_cell_type": "markdown"
      }
    }
  ],
  "nbformat": 4,
  "nbformat_minor": 2,
  "metadata": {
    "orig_nbformat": 2,
    "deepnote_notebook_id": "70256819-eea4-4f28-b0a5-f80f0f1d6b8c",
    "deepnote": {},
    "deepnote_execution_queue": []
  }
}