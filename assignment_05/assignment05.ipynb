{
 "cells": [
  {
   "cell_type": "markdown",
   "metadata": {},
   "source": [
    "**unitid**\n",
    "##It is Unit ID which is primary key unique for each college."
   ]
  },
  {
   "cell_type": "markdown",
   "metadata": {},
   "source": [
    "**instnm**\n",
    "##This is Institute name."
   ]
  },
  {
   "cell_type": "markdown",
   "metadata": {},
   "source": [
    "**city**\n",
    "##Location of the institution."
   ]
  },
  {
   "cell_type": "markdown",
   "metadata": {},
   "source": [
    "**stabbr**\n",
    "##State ID of the institution where it is located."
   ]
  },
  {
   "cell_type": "markdown",
   "metadata": {},
   "source": [
    "**zip**\n",
    "##Zip code of location where institute is located."
   ]
  },
  {
   "cell_type": "markdown",
   "metadata": {},
   "source": [
    "**adm_rate**\n",
    "##Admission rate of particular university"
   ]
  },
  {
   "cell_type": "markdown",
   "metadata": {},
   "source": [
    "**ugds**\n",
    "##Total share of enrollment of undergraduate degree students."
   ]
  },
  {
   "cell_type": "markdown",
   "metadata": {},
   "source": [
    "**tutionfee_in**\n",
    "##In-state tution fee"
   ]
  },
  {
   "cell_type": "markdown",
   "metadata": {},
   "source": [
    "**mn_earn_wne_p10**\n",
    "##mean earnings of students  not enrolled and  working after 10 years of entry."
   ]
  }
 ],
 "metadata": {
  "kernelspec": {
   "display_name": "Python 3",
   "language": "python",
   "name": "python3"
  },
  "language_info": {
   "codemirror_mode": {
    "name": "ipython",
    "version": 3
   },
   "file_extension": ".py",
   "mimetype": "text/x-python",
   "name": "python",
   "nbconvert_exporter": "python",
   "pygments_lexer": "ipython3",
   "version": "3.8.5"
  }
 },
 "nbformat": 4,
 "nbformat_minor": 4
}
