{
 "cells": [
  {
   "cell_type": "markdown",
   "metadata": {},
   "source": [
    "**UNITD**\n",
    "##### It is Unit ID which is primary key unique for each college."
   ]
  },
  {
   "cell_type": "markdown",
   "metadata": {},
   "source": [
    "**INSTNM**\n",
    "#### This is Institute name."
   ]
  },
  {
   "cell_type": "markdown",
   "metadata": {},
   "source": [
    "**CITY**\n",
    "#### Location of the institution."
   ]
  },
  {
   "cell_type": "markdown",
   "metadata": {},
   "source": [
    "**STABBR**\n",
    "#### State ID of the institution where it is located."
   ]
  },
  {
   "cell_type": "markdown",
   "metadata": {},
   "source": [
    "**ZIP**\n",
    "#### Zip code of location where institute is located."
   ]
  },
  {
   "cell_type": "markdown",
   "metadata": {},
   "source": [
    "**ADM_RATE**\n",
    "#### Admission rate of particular university"
   ]
  },
  {
   "cell_type": "markdown",
   "metadata": {},
   "source": [
    "**UGDS**\n",
    "#### Total share of enrollment of undergraduate degree students."
   ]
  },
  {
   "cell_type": "markdown",
   "metadata": {},
   "source": [
    "**TUTIONFEE_IN**\n",
    "#### In-state tution fee"
   ]
  },
  {
   "cell_type": "markdown",
   "metadata": {},
   "source": [
    "**MN_EARNWNE_P10**\n",
    "#### mean earnings of students  not enrolled and  working after 10 years of entry."
   ]
  }
 ],
 "metadata": {
  "kernelspec": {
   "display_name": "Python 3",
   "language": "python",
   "name": "python3"
  },
  "language_info": {
   "codemirror_mode": {
    "name": "ipython",
    "version": 3
   },
   "file_extension": ".py",
   "mimetype": "text/x-python",
   "name": "python",
   "nbconvert_exporter": "python",
   "pygments_lexer": "ipython3",
   "version": "3.8.5"
  }
 },
 "nbformat": 4,
 "nbformat_minor": 4
}
