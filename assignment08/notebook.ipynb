{
  "cells": [
    {
      "cell_type": "code",
      "metadata": {
        "tags": [],
        "cell_id": "00000-f7f20c32-d015-472d-9e27-18a385e26771",
        "deepnote_to_be_reexecuted": false,
        "source_hash": "c000e627",
        "execution_millis": 17054,
        "execution_start": 1618800114526,
        "deepnote_cell_type": "code"
      },
      "source": "# Start writing code here...\nimport os\nimport random\nimport pandas as pd\n! pip install bs4\n! pip install plotly --upgrade\nimport plotly.express as px\n\n",
      "execution_count": 1,
      "outputs": [
        {
          "name": "stdout",
          "text": "Collecting bs4\n  Downloading bs4-0.0.1.tar.gz (1.1 kB)\nCollecting beautifulsoup4\n  Downloading beautifulsoup4-4.9.3-py3-none-any.whl (115 kB)\n\u001b[K     |████████████████████████████████| 115 kB 8.9 MB/s \n\u001b[?25hCollecting soupsieve>1.2\n  Downloading soupsieve-2.2.1-py3-none-any.whl (33 kB)\nBuilding wheels for collected packages: bs4\n  Building wheel for bs4 (setup.py) ... \u001b[?25ldone\n\u001b[?25h  Created wheel for bs4: filename=bs4-0.0.1-py3-none-any.whl size=1273 sha256=a32b35f4fdba3b302beeb1d1a1de4c40ce099095b594b4c4aaf39940fa037146\n  Stored in directory: /root/.cache/pip/wheels/0a/9e/ba/20e5bbc1afef3a491f0b3bb74d508f99403aabe76eda2167ca\nSuccessfully built bs4\nInstalling collected packages: soupsieve, beautifulsoup4, bs4\nSuccessfully installed beautifulsoup4-4.9.3 bs4-0.0.1 soupsieve-2.2.1\nRequirement already satisfied: plotly in /shared-libs/python3.7/py/lib/python3.7/site-packages (4.14.3)\nRequirement already satisfied: six in /shared-libs/python3.7/py-core/lib/python3.7/site-packages (from plotly) (1.15.0)\nRequirement already satisfied: retrying>=1.3.3 in /shared-libs/python3.7/py/lib/python3.7/site-packages (from plotly) (1.3.3)\n",
          "output_type": "stream"
        }
      ]
    },
    {
      "cell_type": "code",
      "metadata": {
        "tags": [],
        "cell_id": "00001-cd7a642e-0511-45be-bbd6-eb725b2777e3",
        "deepnote_to_be_reexecuted": false,
        "source_hash": "1ed85f65",
        "execution_millis": 20,
        "execution_start": 1618800131595,
        "deepnote_cell_type": "code"
      },
      "source": "cf = os.getcwd()\ncf\n",
      "execution_count": 2,
      "outputs": [
        {
          "output_type": "execute_result",
          "execution_count": 2,
          "data": {
            "text/plain": "'/work'"
          },
          "metadata": {}
        }
      ]
    },
    {
      "cell_type": "code",
      "metadata": {
        "tags": [],
        "cell_id": "00002-c3a8efed-c2e4-4bc2-a5e4-904cf579af19",
        "deepnote_to_be_reexecuted": false,
        "source_hash": "844f9dc3",
        "execution_millis": 26,
        "execution_start": 1618800131613,
        "deepnote_cell_type": "code"
      },
      "source": "\nfilelist = os.listdir(\"./data/input/\")\nfilelist",
      "execution_count": 3,
      "outputs": [
        {
          "output_type": "execute_result",
          "execution_count": 3,
          "data": {
            "text/plain": "['data.yaml',\n 'MERGED2008_09_PP.csv',\n 'MERGED2016_17_PP.csv',\n 'MERGED2014_15_PP.csv',\n 'MERGED2009_10_PP.csv',\n 'MERGED2017_18_PP.csv',\n 'MERGED2001_02_PP.csv',\n 'MERGED2010_11_PP.csv',\n 'MERGED1998_99_PP.csv',\n 'MERGED2003_04_PP.csv',\n 'FieldOfStudyData1617_1718_PP.csv',\n 'MERGED2005_06_PP.csv',\n 'Most-Recent-Cohorts-All-Data-Elements.csv',\n 'FieldOfStudyData1415_1516_PP.csv',\n 'MERGED1999_00_PP.csv',\n 'FieldOfStudyData1516_1617_PP.csv',\n 'MERGED2012_13_PP.csv',\n 'Crosswalks.zip',\n 'Most-Recent-Cohorts-Field-of-Study.csv',\n 'MERGED2018_19_PP.csv',\n 'MERGED2006_07_PP.csv',\n 'MERGED2004_05_PP.csv',\n 'MERGED2007_08_PP.csv',\n 'MERGED2011_12_PP.csv',\n 'MERGED2000_01_PP.csv',\n 'MERGED2013_14_PP.csv',\n 'MERGED1996_97_PP.csv',\n 'MERGED2015_16_PP.csv',\n 'MERGED1997_98_PP.csv',\n 'MERGED2002_03_PP.csv']"
          },
          "metadata": {}
        }
      ]
    },
    {
      "cell_type": "code",
      "metadata": {
        "tags": [],
        "cell_id": "00003-eb9f5e36-e541-49dc-846f-4a601a4d1881",
        "deepnote_to_be_reexecuted": false,
        "source_hash": "11b53498",
        "execution_millis": 12,
        "execution_start": 1618800131642,
        "deepnote_cell_type": "code"
      },
      "source": "# 2 - Retrieve the names of the 22 files and assign them to a List variable\n# You would need to filter out other files\n# Display the names of these 22 files\nfilelist = [x for x  in filelist if 'MERGED' in x]\nfilelist",
      "execution_count": 4,
      "outputs": [
        {
          "output_type": "execute_result",
          "execution_count": 4,
          "data": {
            "text/plain": "['MERGED2008_09_PP.csv',\n 'MERGED2016_17_PP.csv',\n 'MERGED2014_15_PP.csv',\n 'MERGED2009_10_PP.csv',\n 'MERGED2017_18_PP.csv',\n 'MERGED2001_02_PP.csv',\n 'MERGED2010_11_PP.csv',\n 'MERGED1998_99_PP.csv',\n 'MERGED2003_04_PP.csv',\n 'MERGED2005_06_PP.csv',\n 'MERGED1999_00_PP.csv',\n 'MERGED2012_13_PP.csv',\n 'MERGED2018_19_PP.csv',\n 'MERGED2006_07_PP.csv',\n 'MERGED2004_05_PP.csv',\n 'MERGED2007_08_PP.csv',\n 'MERGED2011_12_PP.csv',\n 'MERGED2000_01_PP.csv',\n 'MERGED2013_14_PP.csv',\n 'MERGED1996_97_PP.csv',\n 'MERGED2015_16_PP.csv',\n 'MERGED1997_98_PP.csv',\n 'MERGED2002_03_PP.csv']"
          },
          "metadata": {}
        }
      ]
    },
    {
      "cell_type": "code",
      "metadata": {
        "tags": [],
        "cell_id": "00004-ca5029fc-4732-4d70-aa6e-c8840db97e62",
        "deepnote_to_be_reexecuted": false,
        "source_hash": "ab9076e5",
        "execution_millis": 0,
        "execution_start": 1618802473698,
        "deepnote_cell_type": "code"
      },
      "source": "# 3 - Write code to randomly select one file name out of the 22 files names. \n# Hint: generate a random integer between 0 and 21 first\n# Display the file name\nlist1 = random.choice(filelist)\nlist1",
      "execution_count": 21,
      "outputs": [
        {
          "output_type": "execute_result",
          "execution_count": 21,
          "data": {
            "text/plain": "'MERGED2013_14_PP.csv'"
          },
          "metadata": {}
        }
      ]
    },
    {
      "cell_type": "code",
      "metadata": {
        "tags": [],
        "cell_id": "00004-a6e1c89b-7037-4198-9cbd-034c5e39b082",
        "deepnote_to_be_reexecuted": false,
        "source_hash": "2f3addaf",
        "execution_millis": 803,
        "output_cleared": false,
        "execution_start": 1618801052365,
        "deepnote_cell_type": "code"
      },
      "source": "# 4 - Only read the two columns: college name (INSTNM) and in state tution (\"TUITIONFEE_IN\")\n# from this file into a data frame aand display use info() function to display a summary information\ndf=pd.read_csv(\"/work/data/input/MERGED2013_14_PP.csv\",usecols=[\"INSTNM\", \"TUITIONFEE_IN\"])\ndf.info()",
      "execution_count": 12,
      "outputs": [
        {
          "name": "stdout",
          "text": "<class 'pandas.core.frame.DataFrame'>\nRangeIndex: 7869 entries, 0 to 7868\nData columns (total 2 columns):\n #   Column         Non-Null Count  Dtype  \n---  ------         --------------  -----  \n 0   INSTNM         7869 non-null   object \n 1   TUITIONFEE_IN  4527 non-null   float64\ndtypes: float64(1), object(1)\nmemory usage: 123.1+ KB\n",
          "output_type": "stream"
        }
      ]
    },
    {
      "cell_type": "code",
      "metadata": {
        "tags": [],
        "cell_id": "00006-5fbaa1c3-51be-407b-831c-33b83a633baf",
        "deepnote_to_be_reexecuted": false,
        "source_hash": "f3dd26da",
        "execution_millis": 8,
        "execution_start": 1618801058379,
        "deepnote_cell_type": "code"
      },
      "source": "# 5 - Find out how many observations have missing value.\r\ndf.isnull().sum()",
      "execution_count": 13,
      "outputs": [
        {
          "output_type": "execute_result",
          "execution_count": 13,
          "data": {
            "text/plain": "INSTNM              0\nTUITIONFEE_IN    3342\ndtype: int64"
          },
          "metadata": {}
        }
      ]
    },
    {
      "cell_type": "code",
      "source": "# 6 - Drop those observations with missing value\n# Display the number of observations afterward\ndf = df.reset_index(drop=True)\ndf.shape",
      "metadata": {
        "tags": [],
        "cell_id": "00008-4d23f4d9-6f50-4efb-a3fd-fa42d2963cc7",
        "deepnote_to_be_reexecuted": false,
        "source_hash": "b9711bbd",
        "execution_millis": 7,
        "execution_start": 1618802338746,
        "deepnote_cell_type": "code"
      },
      "outputs": [
        {
          "output_type": "execute_result",
          "execution_count": 20,
          "data": {
            "text/plain": "(4527, 2)"
          },
          "metadata": {}
        }
      ],
      "execution_count": 20
    },
    {
      "cell_type": "code",
      "source": "# 7 - Find out how many observations have 0 tution. \n\ndf[df['TUITIONFEE_IN'] == 0].shape",
      "metadata": {
        "tags": [],
        "cell_id": "00008-3b9a0d86-815e-4352-85e0-5c67d5a7744c",
        "deepnote_to_be_reexecuted": false,
        "source_hash": "1df3ab47",
        "execution_millis": 8,
        "execution_start": 1618802490612,
        "deepnote_cell_type": "code"
      },
      "outputs": [
        {
          "output_type": "execute_result",
          "execution_count": 23,
          "data": {
            "text/plain": "(2, 2)"
          },
          "metadata": {}
        }
      ],
      "execution_count": 23
    },
    {
      "cell_type": "code",
      "source": "#8\n#Drop all observations with 0 tuition\ndf=df[df.TUITIONFEE_IN!= 0]\ndf=df.reset_index(drop=True)\nlen(df)",
      "metadata": {
        "tags": [],
        "cell_id": "00009-cd2a91f8-f850-46e8-b149-0dbbaf0308f5",
        "deepnote_to_be_reexecuted": false,
        "source_hash": "d120c787",
        "execution_millis": 29,
        "execution_start": 1618802719191,
        "deepnote_cell_type": "code"
      },
      "outputs": [
        {
          "output_type": "execute_result",
          "execution_count": 26,
          "data": {
            "text/plain": "4525"
          },
          "metadata": {}
        }
      ],
      "execution_count": 26
    },
    {
      "cell_type": "code",
      "metadata": {
        "tags": [],
        "cell_id": "00011-59be1592-82d8-4a98-a0e9-d4055441087c",
        "deepnote_to_be_reexecuted": false,
        "source_hash": "27d8ffc",
        "execution_millis": 10,
        "execution_start": 1618802855514,
        "deepnote_cell_type": "code"
      },
      "source": "#9\n#Print the mean tuition of the remaining rows\n\ny =round (df['TUITIONFEE_IN'].mean(),2)\nprint(y)",
      "execution_count": 29,
      "outputs": [
        {
          "name": "stdout",
          "text": "13859.76\n",
          "output_type": "stream"
        }
      ]
    },
    {
      "cell_type": "code",
      "source": "#10\n#Randomly select one tuition and display\nrandnum=random.randint(0,len(df)-1)\nr=df['TUITIONFEE_IN'][randnum]\nprint('Randomly selected tuition:', r)",
      "metadata": {
        "tags": [],
        "cell_id": "00011-2596e31a-077d-402f-b1d6-eeb43762ff6c",
        "deepnote_to_be_reexecuted": false,
        "source_hash": "6677527",
        "execution_start": 1618802958462,
        "execution_millis": 39,
        "deepnote_cell_type": "code"
      },
      "outputs": [
        {
          "name": "stdout",
          "text": "Randomly selected tuition: 3330.0\n",
          "output_type": "stream"
        }
      ],
      "execution_count": 30
    },
    {
      "cell_type": "code",
      "source": "#11 \n#Display the difference between the mean and the observation\ndiff=round(abs(y-r),2)\ndiff",
      "metadata": {
        "tags": [],
        "cell_id": "00012-5a6c9a38-1b3f-49e2-90f6-1b9bf2fef0fe",
        "deepnote_to_be_reexecuted": false,
        "source_hash": "3f39775a",
        "execution_millis": 6,
        "execution_start": 1618803110344,
        "deepnote_cell_type": "code"
      },
      "outputs": [
        {
          "output_type": "execute_result",
          "execution_count": 32,
          "data": {
            "text/plain": "10529.76"
          },
          "metadata": {}
        }
      ],
      "execution_count": 32
    },
    {
      "cell_type": "code",
      "source": "#12\n#Repeat above process 10 more times\nfor x in range(1,11):\n  randnum=random.randint(0,len(df)-1)\n  r=df['TUITIONFEE_IN'][randnum]\n  print(x)\n  print('Randomly selected tuition is:', r)\n  diff=round(abs(y-r), 2)\n  print('Difference is:', diff)",
      "metadata": {
        "tags": [],
        "cell_id": "00013-122f5f12-3e95-46e7-ae75-88815f3ee783",
        "deepnote_to_be_reexecuted": false,
        "source_hash": "3cd69904",
        "execution_millis": 11,
        "execution_start": 1618803969386,
        "deepnote_cell_type": "code"
      },
      "outputs": [
        {
          "name": "stdout",
          "text": "1\nRandomly selected tuition is: 1974.0\nDifference is: 1514.0\n2\nRandomly selected tuition is: 18048.0\nDifference is: 14560.0\n3\nRandomly selected tuition is: 10240.0\nDifference is: 6752.0\n4\nRandomly selected tuition is: 16200.0\nDifference is: 12712.0\n5\nRandomly selected tuition is: 18048.0\nDifference is: 14560.0\n6\nRandomly selected tuition is: 29934.0\nDifference is: 26446.0\n7\nRandomly selected tuition is: 15300.0\nDifference is: 11812.0\n8\nRandomly selected tuition is: 8550.0\nDifference is: 5062.0\n9\nRandomly selected tuition is: 5173.0\nDifference is: 1685.0\n10\nRandomly selected tuition is: 25890.0\nDifference is: 22402.0\n",
          "output_type": "stream"
        }
      ],
      "execution_count": 37
    },
    {
      "cell_type": "code",
      "source": "#13\n#Randomly select 20 observations, display the tuition of these observation\n#Create a list for the tuitions\nr_20=[]\nfor x in range(0,20):\n  randnum=random.randint(0,len(df)-1)\n  r=df['TUITIONFEE_IN'][randnum]\n  print('Randomly selected tuition is:', r)\n  #Append the randomly selected tuition to the list\n  r_20.append(r)",
      "metadata": {
        "tags": [],
        "cell_id": "00014-c211af59-14aa-4c2d-b571-ef8b10297aee",
        "deepnote_to_be_reexecuted": false,
        "source_hash": "6cd731d5",
        "execution_millis": 40,
        "execution_start": 1618804180494,
        "deepnote_cell_type": "code"
      },
      "outputs": [
        {
          "name": "stdout",
          "text": "Randomly selected tuition is: 4320.0\nRandomly selected tuition is: 17640.0\nRandomly selected tuition is: 11804.0\nRandomly selected tuition is: 11570.0\nRandomly selected tuition is: 3054.0\nRandomly selected tuition is: 22350.0\nRandomly selected tuition is: 12891.0\nRandomly selected tuition is: 11386.0\nRandomly selected tuition is: 15495.0\nRandomly selected tuition is: 12315.0\nRandomly selected tuition is: 18048.0\nRandomly selected tuition is: 9666.0\nRandomly selected tuition is: 4850.0\nRandomly selected tuition is: 29315.0\nRandomly selected tuition is: 12531.0\nRandomly selected tuition is: 3786.0\nRandomly selected tuition is: 4541.0\nRandomly selected tuition is: 30800.0\nRandomly selected tuition is: 20525.0\nRandomly selected tuition is: 17488.0\n",
          "output_type": "stream"
        }
      ],
      "execution_count": 44
    },
    {
      "cell_type": "code",
      "source": "#14\n#Calculate and display the mean of the preveously selected 20 oberservations\nmean_20=sum(y_20)/len(y_20)\nprint('Mean of randomly selected 20 observations:', mean_20)",
      "metadata": {
        "tags": [],
        "cell_id": "00015-2dd143fd-5c53-4254-a4e6-b507bacd3bfb",
        "deepnote_to_be_reexecuted": false,
        "source_hash": "37f1a429",
        "execution_start": 1618804227810,
        "execution_millis": 5,
        "deepnote_cell_type": "code"
      },
      "outputs": [
        {
          "name": "stdout",
          "text": "Mean of randomly selected 20 observations: 13099.6\n",
          "output_type": "stream"
        }
      ],
      "execution_count": 45
    },
    {
      "cell_type": "code",
      "source": "#15\n#Display the difference between the mean and the mean of the randomly selected 20 observations\ndiff=round(abs(y-mean_20),2)\nprint('Difference of total tuition mean and sample mean:', diff)",
      "metadata": {
        "tags": [],
        "cell_id": "00016-31f29a99-3062-4ecc-ac5f-81bce1461373",
        "deepnote_to_be_reexecuted": false,
        "source_hash": "faa7f271",
        "execution_millis": 6,
        "execution_start": 1618804705941,
        "deepnote_cell_type": "code"
      },
      "outputs": [
        {
          "name": "stdout",
          "text": "Difference of total tuition mean and sample mean: 9611.6\n",
          "output_type": "stream"
        }
      ],
      "execution_count": 52
    },
    {
      "cell_type": "markdown",
      "source": "\n#16 - Repeat 13 to 15 several times and get the feel of the size of the difference in means \n#Compare these differences with the differences calculated earlier with just 1 observation\n#Describe your hunch/conclusion\nDifference with one observation: 10,529\n\nDifference with 20 observations (1st try): 9,694\n\nDifference with 20 oberservations (2nd try): 9,680\n\nDifference with 20 oberservations (3rd try): 9,611`\n\nBased on the differences calculated when using one observation and 20 observations,  more samples calculated mean close to the mean of the whole set.",
      "metadata": {
        "tags": [],
        "cell_id": "00017-3b40531a-a37b-4991-94cc-201d0f40fafb",
        "deepnote_cell_type": "markdown"
      }
    },
    {
      "cell_type": "code",
      "source": "#17\n#Write a function to input sample size and data, calculate means, and return difference\ndef mean_diff(size, df):\n  sam_list=[]\n  for x in range(0, size):\n    randnum=random.randint(0,len(df)-1)\n    s=df['TUITIONFEE_IN'][randnum]\n    sam_list.append(s)\n  mean_sample=round(sum(sam_list)/len(sam_list),2)\n  mean_total=round(df.TUITIONFEE_IN.mean(),2)\n  diff=round(abs(mean_total-mean_sample),2)\n  return(diff)",
      "metadata": {
        "tags": [],
        "cell_id": "00018-5fef3074-f75c-4e9b-bdd5-b83d14ff6db8",
        "deepnote_to_be_reexecuted": false,
        "source_hash": "6fc181df",
        "execution_start": 1618804995961,
        "execution_millis": 2,
        "deepnote_cell_type": "code"
      },
      "outputs": [],
      "execution_count": 54
    },
    {
      "cell_type": "code",
      "source": "# 18 - test the function by passing a sample size and the name of the dataframe\nmean_diff(1000, df)",
      "metadata": {
        "tags": [],
        "cell_id": "00019-b9f9fa92-65be-43b1-b2cf-3d977c7ea117",
        "deepnote_to_be_reexecuted": false,
        "source_hash": "664e4ffc",
        "execution_millis": 34,
        "execution_start": 1618805048921,
        "deepnote_cell_type": "code"
      },
      "outputs": [
        {
          "output_type": "execute_result",
          "execution_count": 58,
          "data": {
            "text/plain": "892.4"
          },
          "metadata": {}
        }
      ],
      "execution_count": 58
    },
    {
      "cell_type": "code",
      "source": "# 19 - Create a list of sequence numbers from 1 to 50, name it \"sample_sizes\";\n# display it to make sure its members are from 1 to 50\nsample_sizes=list(range(1,51))\nsample_sizes",
      "metadata": {
        "tags": [],
        "cell_id": "00020-0d037c43-4405-4bf5-8848-7d9768831378",
        "deepnote_to_be_reexecuted": false,
        "source_hash": "ebf43e6a",
        "execution_start": 1618805131505,
        "execution_millis": 5,
        "deepnote_cell_type": "code"
      },
      "outputs": [
        {
          "output_type": "execute_result",
          "execution_count": 59,
          "data": {
            "text/plain": "[1,\n 2,\n 3,\n 4,\n 5,\n 6,\n 7,\n 8,\n 9,\n 10,\n 11,\n 12,\n 13,\n 14,\n 15,\n 16,\n 17,\n 18,\n 19,\n 20,\n 21,\n 22,\n 23,\n 24,\n 25,\n 26,\n 27,\n 28,\n 29,\n 30,\n 31,\n 32,\n 33,\n 34,\n 35,\n 36,\n 37,\n 38,\n 39,\n 40,\n 41,\n 42,\n 43,\n 44,\n 45,\n 46,\n 47,\n 48,\n 49,\n 50]"
          },
          "metadata": {}
        }
      ],
      "execution_count": 59
    },
    {
      "cell_type": "code",
      "source": "# 20 - Create an empty list and name it \"means_diff\" for differences of population mean and sample means;\n# Loop through the list sample_sizes:\n# For each element in the sample size list, obtain a random sample of that size from the data frame;\n# Calculate the sample mean \n# Calculate the difference between the population mean and the sample mean\n# Append the difference to the list \"means_diff\"\n# Display the list \"means_diff\" after the loop is completed\nmeans_diff = []\nfor x in sample_sizes:\n  means_diff.append(mean_diff(x, df))\nmeans_diff",
      "metadata": {
        "tags": [],
        "cell_id": "00022-0adea21d-c5bd-4080-b3fe-8f7f8ab3c752",
        "deepnote_to_be_reexecuted": false,
        "source_hash": "a7cdaf65",
        "execution_millis": 4,
        "execution_start": 1618806226102,
        "deepnote_cell_type": "code"
      },
      "outputs": [
        {
          "output_type": "execute_result",
          "execution_count": 66,
          "data": {
            "text/plain": "[12725.76,\n 607.76,\n 2129.24,\n 1521.74,\n 1218.16,\n 329.43,\n 397.38,\n 2781.74,\n 505.65,\n 2742.34,\n 618.24,\n 1022.59,\n 2481.39,\n 3654.69,\n 3328.43,\n 395.18,\n 3530.47,\n 557.57,\n 1415.5,\n 3199.39,\n 1926.0,\n 4266.44,\n 4477.98,\n 2463.86,\n 1133.12,\n 803.61,\n 1351.39,\n 1508.05,\n 2043.42,\n 193.83,\n 843.21,\n 1175.83,\n 2503.76,\n 2158.41,\n 1184.53,\n 2937.27,\n 654.05,\n 292.23,\n 2093.55,\n 221.71,\n 642.69,\n 1167.1,\n 449.5,\n 254.51,\n 1939.16,\n 1664.28,\n 1409.67,\n 2714.01,\n 2463.7,\n 761.38]"
          },
          "metadata": {}
        }
      ],
      "execution_count": 66
    },
    {
      "cell_type": "code",
      "source": "# 21 - Make a scatter plot with sample size on the x-axs and  mean difference on the y-axis\n# Observe as the sample size increases, the sample means converge to the population mean.\n# Make sure you make the plot large enough\nfig = px.scatter(df, x=sample_sizes, y=means_diff,title='Sample Size vs Mean Difference (Sample Size of 50)',labels={\n                     'x' : \"Sample sizes\",\n                     'y'  : \"Means difference\"\n                 })\n\nfig.show()",
      "metadata": {
        "tags": [],
        "cell_id": "00022-b6c26ffb-29f3-41ad-a0b1-98d534dbde56",
        "deepnote_to_be_reexecuted": false,
        "source_hash": "30f3efd8",
        "execution_start": 1618806312946,
        "execution_millis": 1928,
        "deepnote_cell_type": "code"
      },
      "outputs": [
        {
          "data": {
            "text/html": "<html>\n<head><meta charset=\"utf-8\" /></head>\n<body>\n    <div>            <script src=\"https://cdnjs.cloudflare.com/ajax/libs/mathjax/2.7.5/MathJax.js?config=TeX-AMS-MML_SVG\"></script><script type=\"text/javascript\">if (window.MathJax) {MathJax.Hub.Config({SVG: {font: \"STIX-Web\"}});}</script>                <script type=\"text/javascript\">window.PlotlyConfig = {MathJaxConfig: 'local'};</script>\n        <script src=\"https://cdn.plot.ly/plotly-latest.min.js\"></script>                <div id=\"48f81fcb-28da-48cf-a97a-50438d9e09e6\" class=\"plotly-graph-div\" style=\"height:525px; width:100%;\"></div>            <script type=\"text/javascript\">                                    window.PLOTLYENV=window.PLOTLYENV || {};                                    if (document.getElementById(\"48f81fcb-28da-48cf-a97a-50438d9e09e6\")) {                    Plotly.newPlot(                        \"48f81fcb-28da-48cf-a97a-50438d9e09e6\",                        [{\"hovertemplate\": \"Sample sizes=%{x}<br>Means difference=%{y}<extra></extra>\", \"legendgroup\": \"\", \"marker\": {\"color\": \"#636efa\", \"symbol\": \"circle\"}, \"mode\": \"markers\", \"name\": \"\", \"orientation\": \"v\", \"showlegend\": false, \"type\": \"scatter\", \"x\": [1, 2, 3, 4, 5, 6, 7, 8, 9, 10, 11, 12, 13, 14, 15, 16, 17, 18, 19, 20, 21, 22, 23, 24, 25, 26, 27, 28, 29, 30, 31, 32, 33, 34, 35, 36, 37, 38, 39, 40, 41, 42, 43, 44, 45, 46, 47, 48, 49, 50], \"xaxis\": \"x\", \"y\": [12725.76, 607.76, 2129.24, 1521.74, 1218.16, 329.43, 397.38, 2781.74, 505.65, 2742.34, 618.24, 1022.59, 2481.39, 3654.69, 3328.43, 395.18, 3530.47, 557.57, 1415.5, 3199.39, 1926.0, 4266.44, 4477.98, 2463.86, 1133.12, 803.61, 1351.39, 1508.05, 2043.42, 193.83, 843.21, 1175.83, 2503.76, 2158.41, 1184.53, 2937.27, 654.05, 292.23, 2093.55, 221.71, 642.69, 1167.1, 449.5, 254.51, 1939.16, 1664.28, 1409.67, 2714.01, 2463.7, 761.38], \"yaxis\": \"y\"}],                        {\"legend\": {\"tracegroupgap\": 0}, \"template\": {\"data\": {\"bar\": [{\"error_x\": {\"color\": \"#2a3f5f\"}, \"error_y\": {\"color\": \"#2a3f5f\"}, \"marker\": {\"line\": {\"color\": \"#E5ECF6\", \"width\": 0.5}}, \"type\": \"bar\"}], \"barpolar\": [{\"marker\": {\"line\": {\"color\": \"#E5ECF6\", \"width\": 0.5}}, \"type\": \"barpolar\"}], \"carpet\": [{\"aaxis\": {\"endlinecolor\": \"#2a3f5f\", \"gridcolor\": \"white\", \"linecolor\": \"white\", \"minorgridcolor\": \"white\", \"startlinecolor\": \"#2a3f5f\"}, \"baxis\": {\"endlinecolor\": \"#2a3f5f\", \"gridcolor\": \"white\", \"linecolor\": \"white\", \"minorgridcolor\": \"white\", \"startlinecolor\": \"#2a3f5f\"}, \"type\": \"carpet\"}], \"choropleth\": [{\"colorbar\": {\"outlinewidth\": 0, \"ticks\": \"\"}, \"type\": \"choropleth\"}], \"contour\": [{\"colorbar\": {\"outlinewidth\": 0, \"ticks\": \"\"}, \"colorscale\": [[0.0, \"#0d0887\"], [0.1111111111111111, \"#46039f\"], [0.2222222222222222, \"#7201a8\"], [0.3333333333333333, \"#9c179e\"], [0.4444444444444444, \"#bd3786\"], [0.5555555555555556, \"#d8576b\"], [0.6666666666666666, \"#ed7953\"], [0.7777777777777778, \"#fb9f3a\"], [0.8888888888888888, \"#fdca26\"], [1.0, \"#f0f921\"]], \"type\": \"contour\"}], \"contourcarpet\": [{\"colorbar\": {\"outlinewidth\": 0, \"ticks\": \"\"}, \"type\": \"contourcarpet\"}], \"heatmap\": [{\"colorbar\": {\"outlinewidth\": 0, \"ticks\": \"\"}, \"colorscale\": [[0.0, \"#0d0887\"], [0.1111111111111111, \"#46039f\"], [0.2222222222222222, \"#7201a8\"], [0.3333333333333333, \"#9c179e\"], [0.4444444444444444, \"#bd3786\"], [0.5555555555555556, \"#d8576b\"], [0.6666666666666666, \"#ed7953\"], [0.7777777777777778, \"#fb9f3a\"], [0.8888888888888888, \"#fdca26\"], [1.0, \"#f0f921\"]], \"type\": \"heatmap\"}], \"heatmapgl\": [{\"colorbar\": {\"outlinewidth\": 0, \"ticks\": \"\"}, \"colorscale\": [[0.0, \"#0d0887\"], [0.1111111111111111, \"#46039f\"], [0.2222222222222222, \"#7201a8\"], [0.3333333333333333, \"#9c179e\"], [0.4444444444444444, \"#bd3786\"], [0.5555555555555556, \"#d8576b\"], [0.6666666666666666, \"#ed7953\"], [0.7777777777777778, \"#fb9f3a\"], [0.8888888888888888, \"#fdca26\"], [1.0, \"#f0f921\"]], \"type\": \"heatmapgl\"}], \"histogram\": [{\"marker\": {\"colorbar\": {\"outlinewidth\": 0, \"ticks\": \"\"}}, \"type\": \"histogram\"}], \"histogram2d\": [{\"colorbar\": {\"outlinewidth\": 0, \"ticks\": \"\"}, \"colorscale\": [[0.0, \"#0d0887\"], [0.1111111111111111, \"#46039f\"], [0.2222222222222222, \"#7201a8\"], [0.3333333333333333, \"#9c179e\"], [0.4444444444444444, \"#bd3786\"], [0.5555555555555556, \"#d8576b\"], [0.6666666666666666, \"#ed7953\"], [0.7777777777777778, \"#fb9f3a\"], [0.8888888888888888, \"#fdca26\"], [1.0, \"#f0f921\"]], \"type\": \"histogram2d\"}], \"histogram2dcontour\": [{\"colorbar\": {\"outlinewidth\": 0, \"ticks\": \"\"}, \"colorscale\": [[0.0, \"#0d0887\"], [0.1111111111111111, \"#46039f\"], [0.2222222222222222, \"#7201a8\"], [0.3333333333333333, \"#9c179e\"], [0.4444444444444444, \"#bd3786\"], [0.5555555555555556, \"#d8576b\"], [0.6666666666666666, \"#ed7953\"], [0.7777777777777778, \"#fb9f3a\"], [0.8888888888888888, \"#fdca26\"], [1.0, \"#f0f921\"]], \"type\": \"histogram2dcontour\"}], \"mesh3d\": [{\"colorbar\": {\"outlinewidth\": 0, \"ticks\": \"\"}, \"type\": \"mesh3d\"}], \"parcoords\": [{\"line\": {\"colorbar\": {\"outlinewidth\": 0, \"ticks\": \"\"}}, \"type\": \"parcoords\"}], \"pie\": [{\"automargin\": true, \"type\": \"pie\"}], \"scatter\": [{\"marker\": {\"colorbar\": {\"outlinewidth\": 0, \"ticks\": \"\"}}, \"type\": \"scatter\"}], \"scatter3d\": [{\"line\": {\"colorbar\": {\"outlinewidth\": 0, \"ticks\": \"\"}}, \"marker\": {\"colorbar\": {\"outlinewidth\": 0, \"ticks\": \"\"}}, \"type\": \"scatter3d\"}], \"scattercarpet\": [{\"marker\": {\"colorbar\": {\"outlinewidth\": 0, \"ticks\": \"\"}}, \"type\": \"scattercarpet\"}], \"scattergeo\": [{\"marker\": {\"colorbar\": {\"outlinewidth\": 0, \"ticks\": \"\"}}, \"type\": \"scattergeo\"}], \"scattergl\": [{\"marker\": {\"colorbar\": {\"outlinewidth\": 0, \"ticks\": \"\"}}, \"type\": \"scattergl\"}], \"scattermapbox\": [{\"marker\": {\"colorbar\": {\"outlinewidth\": 0, \"ticks\": \"\"}}, \"type\": \"scattermapbox\"}], \"scatterpolar\": [{\"marker\": {\"colorbar\": {\"outlinewidth\": 0, \"ticks\": \"\"}}, \"type\": \"scatterpolar\"}], \"scatterpolargl\": [{\"marker\": {\"colorbar\": {\"outlinewidth\": 0, \"ticks\": \"\"}}, \"type\": \"scatterpolargl\"}], \"scatterternary\": [{\"marker\": {\"colorbar\": {\"outlinewidth\": 0, \"ticks\": \"\"}}, \"type\": \"scatterternary\"}], \"surface\": [{\"colorbar\": {\"outlinewidth\": 0, \"ticks\": \"\"}, \"colorscale\": [[0.0, \"#0d0887\"], [0.1111111111111111, \"#46039f\"], [0.2222222222222222, \"#7201a8\"], [0.3333333333333333, \"#9c179e\"], [0.4444444444444444, \"#bd3786\"], [0.5555555555555556, \"#d8576b\"], [0.6666666666666666, \"#ed7953\"], [0.7777777777777778, \"#fb9f3a\"], [0.8888888888888888, \"#fdca26\"], [1.0, \"#f0f921\"]], \"type\": \"surface\"}], \"table\": [{\"cells\": {\"fill\": {\"color\": \"#EBF0F8\"}, \"line\": {\"color\": \"white\"}}, \"header\": {\"fill\": {\"color\": \"#C8D4E3\"}, \"line\": {\"color\": \"white\"}}, \"type\": \"table\"}]}, \"layout\": {\"annotationdefaults\": {\"arrowcolor\": \"#2a3f5f\", \"arrowhead\": 0, \"arrowwidth\": 1}, \"autotypenumbers\": \"strict\", \"coloraxis\": {\"colorbar\": {\"outlinewidth\": 0, \"ticks\": \"\"}}, \"colorscale\": {\"diverging\": [[0, \"#8e0152\"], [0.1, \"#c51b7d\"], [0.2, \"#de77ae\"], [0.3, \"#f1b6da\"], [0.4, \"#fde0ef\"], [0.5, \"#f7f7f7\"], [0.6, \"#e6f5d0\"], [0.7, \"#b8e186\"], [0.8, \"#7fbc41\"], [0.9, \"#4d9221\"], [1, \"#276419\"]], \"sequential\": [[0.0, \"#0d0887\"], [0.1111111111111111, \"#46039f\"], [0.2222222222222222, \"#7201a8\"], [0.3333333333333333, \"#9c179e\"], [0.4444444444444444, \"#bd3786\"], [0.5555555555555556, \"#d8576b\"], [0.6666666666666666, \"#ed7953\"], [0.7777777777777778, \"#fb9f3a\"], [0.8888888888888888, \"#fdca26\"], [1.0, \"#f0f921\"]], \"sequentialminus\": [[0.0, \"#0d0887\"], [0.1111111111111111, \"#46039f\"], [0.2222222222222222, \"#7201a8\"], [0.3333333333333333, \"#9c179e\"], [0.4444444444444444, \"#bd3786\"], [0.5555555555555556, \"#d8576b\"], [0.6666666666666666, \"#ed7953\"], [0.7777777777777778, \"#fb9f3a\"], [0.8888888888888888, \"#fdca26\"], [1.0, \"#f0f921\"]]}, \"colorway\": [\"#636efa\", \"#EF553B\", \"#00cc96\", \"#ab63fa\", \"#FFA15A\", \"#19d3f3\", \"#FF6692\", \"#B6E880\", \"#FF97FF\", \"#FECB52\"], \"font\": {\"color\": \"#2a3f5f\"}, \"geo\": {\"bgcolor\": \"white\", \"lakecolor\": \"white\", \"landcolor\": \"#E5ECF6\", \"showlakes\": true, \"showland\": true, \"subunitcolor\": \"white\"}, \"hoverlabel\": {\"align\": \"left\"}, \"hovermode\": \"closest\", \"mapbox\": {\"style\": \"light\"}, \"paper_bgcolor\": \"white\", \"plot_bgcolor\": \"#E5ECF6\", \"polar\": {\"angularaxis\": {\"gridcolor\": \"white\", \"linecolor\": \"white\", \"ticks\": \"\"}, \"bgcolor\": \"#E5ECF6\", \"radialaxis\": {\"gridcolor\": \"white\", \"linecolor\": \"white\", \"ticks\": \"\"}}, \"scene\": {\"xaxis\": {\"backgroundcolor\": \"#E5ECF6\", \"gridcolor\": \"white\", \"gridwidth\": 2, \"linecolor\": \"white\", \"showbackground\": true, \"ticks\": \"\", \"zerolinecolor\": \"white\"}, \"yaxis\": {\"backgroundcolor\": \"#E5ECF6\", \"gridcolor\": \"white\", \"gridwidth\": 2, \"linecolor\": \"white\", \"showbackground\": true, \"ticks\": \"\", \"zerolinecolor\": \"white\"}, \"zaxis\": {\"backgroundcolor\": \"#E5ECF6\", \"gridcolor\": \"white\", \"gridwidth\": 2, \"linecolor\": \"white\", \"showbackground\": true, \"ticks\": \"\", \"zerolinecolor\": \"white\"}}, \"shapedefaults\": {\"line\": {\"color\": \"#2a3f5f\"}}, \"ternary\": {\"aaxis\": {\"gridcolor\": \"white\", \"linecolor\": \"white\", \"ticks\": \"\"}, \"baxis\": {\"gridcolor\": \"white\", \"linecolor\": \"white\", \"ticks\": \"\"}, \"bgcolor\": \"#E5ECF6\", \"caxis\": {\"gridcolor\": \"white\", \"linecolor\": \"white\", \"ticks\": \"\"}}, \"title\": {\"x\": 0.05}, \"xaxis\": {\"automargin\": true, \"gridcolor\": \"white\", \"linecolor\": \"white\", \"ticks\": \"\", \"title\": {\"standoff\": 15}, \"zerolinecolor\": \"white\", \"zerolinewidth\": 2}, \"yaxis\": {\"automargin\": true, \"gridcolor\": \"white\", \"linecolor\": \"white\", \"ticks\": \"\", \"title\": {\"standoff\": 15}, \"zerolinecolor\": \"white\", \"zerolinewidth\": 2}}}, \"title\": {\"text\": \"Sample Size vs Mean Difference (Sample Size of 50)\"}, \"xaxis\": {\"anchor\": \"y\", \"domain\": [0.0, 1.0], \"title\": {\"text\": \"Sample sizes\"}}, \"yaxis\": {\"anchor\": \"x\", \"domain\": [0.0, 1.0], \"title\": {\"text\": \"Means difference\"}}},                        {\"responsive\": true}                    ).then(function(){\n                            \nvar gd = document.getElementById('48f81fcb-28da-48cf-a97a-50438d9e09e6');\nvar x = new MutationObserver(function (mutations, observer) {{\n        var display = window.getComputedStyle(gd).display;\n        if (!display || display === 'none') {{\n            console.log([gd, 'removed!']);\n            Plotly.purge(gd);\n            observer.disconnect();\n        }}\n}});\n\n// Listen for the removal of the full notebook cells\nvar notebookContainer = gd.closest('#notebook-container');\nif (notebookContainer) {{\n    x.observe(notebookContainer, {childList: true});\n}}\n\n// Listen for the clearing of the current output cell\nvar outputEl = gd.closest('.output');\nif (outputEl) {{\n    x.observe(outputEl, {childList: true});\n}}\n\n                        })                };                            </script>        </div>\n</body>\n</html>"
          },
          "metadata": {},
          "output_type": "display_data"
        }
      ],
      "execution_count": 67
    },
    {
      "cell_type": "code",
      "source": "# 22 - repeat 18 to 21 by replacing 50 with a larger number. For example, 300, or even 1000.\n# and see how the plot looks.\nsample_sizes=list(range(1,301))\nmeans_diff=[]\nfor x in sample_sizes:\n  means_diff.append(mean_diff(x, df))\nfig = px.scatter(df, x=sample_sizes, y=means_diff,title='Sample Size vs Mean Difference',labels={\n                     'x' : \"Sample size\",\n                     'y'  : \"Means difference\"\n                 })\n\nfig.show()  ",
      "metadata": {
        "tags": [],
        "cell_id": "00023-f1f6a454-c6ad-4e4b-baf7-045ded096641",
        "deepnote_to_be_reexecuted": false,
        "source_hash": "f7915185",
        "execution_millis": 795,
        "execution_start": 1618806511651,
        "deepnote_cell_type": "code"
      },
      "outputs": [
        {
          "data": {
            "text/html": "<html>\n<head><meta charset=\"utf-8\" /></head>\n<body>\n    <div>            <script src=\"https://cdnjs.cloudflare.com/ajax/libs/mathjax/2.7.5/MathJax.js?config=TeX-AMS-MML_SVG\"></script><script type=\"text/javascript\">if (window.MathJax) {MathJax.Hub.Config({SVG: {font: \"STIX-Web\"}});}</script>                <script type=\"text/javascript\">window.PlotlyConfig = {MathJaxConfig: 'local'};</script>\n        <script src=\"https://cdn.plot.ly/plotly-latest.min.js\"></script>                <div id=\"29c342f7-247a-4ad0-8a0d-a577a9eb7842\" class=\"plotly-graph-div\" style=\"height:525px; width:100%;\"></div>            <script type=\"text/javascript\">                                    window.PLOTLYENV=window.PLOTLYENV || {};                                    if (document.getElementById(\"29c342f7-247a-4ad0-8a0d-a577a9eb7842\")) {                    Plotly.newPlot(                        \"29c342f7-247a-4ad0-8a0d-a577a9eb7842\",                        [{\"hovertemplate\": \"Sample size=%{x}<br>Means difference=%{y}<extra></extra>\", \"legendgroup\": \"\", \"marker\": {\"color\": \"#636efa\", \"symbol\": \"circle\"}, \"mode\": \"markers\", \"name\": \"\", \"orientation\": \"v\", \"showlegend\": false, \"type\": \"scatter\", \"x\": [1, 2, 3, 4, 5, 6, 7, 8, 9, 10, 11, 12, 13, 14, 15, 16, 17, 18, 19, 20, 21, 22, 23, 24, 25, 26, 27, 28, 29, 30, 31, 32, 33, 34, 35, 36, 37, 38, 39, 40, 41, 42, 43, 44, 45, 46, 47, 48, 49, 50, 51, 52, 53, 54, 55, 56, 57, 58, 59, 60, 61, 62, 63, 64, 65, 66, 67, 68, 69, 70, 71, 72, 73, 74, 75, 76, 77, 78, 79, 80, 81, 82, 83, 84, 85, 86, 87, 88, 89, 90, 91, 92, 93, 94, 95, 96, 97, 98, 99, 100, 101, 102, 103, 104, 105, 106, 107, 108, 109, 110, 111, 112, 113, 114, 115, 116, 117, 118, 119, 120, 121, 122, 123, 124, 125, 126, 127, 128, 129, 130, 131, 132, 133, 134, 135, 136, 137, 138, 139, 140, 141, 142, 143, 144, 145, 146, 147, 148, 149, 150, 151, 152, 153, 154, 155, 156, 157, 158, 159, 160, 161, 162, 163, 164, 165, 166, 167, 168, 169, 170, 171, 172, 173, 174, 175, 176, 177, 178, 179, 180, 181, 182, 183, 184, 185, 186, 187, 188, 189, 190, 191, 192, 193, 194, 195, 196, 197, 198, 199, 200, 201, 202, 203, 204, 205, 206, 207, 208, 209, 210, 211, 212, 213, 214, 215, 216, 217, 218, 219, 220, 221, 222, 223, 224, 225, 226, 227, 228, 229, 230, 231, 232, 233, 234, 235, 236, 237, 238, 239, 240, 241, 242, 243, 244, 245, 246, 247, 248, 249, 250, 251, 252, 253, 254, 255, 256, 257, 258, 259, 260, 261, 262, 263, 264, 265, 266, 267, 268, 269, 270, 271, 272, 273, 274, 275, 276, 277, 278, 279, 280, 281, 282, 283, 284, 285, 286, 287, 288, 289, 290, 291, 292, 293, 294, 295, 296, 297, 298, 299, 300], \"xaxis\": \"x\", \"y\": [32305.24, 5832.26, 4336.76, 6713.76, 3999.56, 7498.26, 1930.1, 459.62, 571.76, 2070.54, 695.69, 428.41, 1840.53, 4710.31, 1314.96, 2683.51, 648.0, 333.41, 4717.24, 2527.91, 3118.81, 859.62, 1831.24, 925.74, 6569.92, 573.97, 959.46, 1904.7, 405.83, 1392.09, 394.02, 253.36, 3263.03, 3205.02, 546.42, 248.02, 760.75, 1509.53, 462.32, 512.82, 1565.76, 906.48, 744.53, 159.65, 1433.6, 846.89, 1024.88, 82.8, 2940.31, 386.68, 761.58, 463.66, 3116.56, 1725.96, 631.27, 377.45, 33.31, 1455.86, 1726.05, 3065.04, 638.33, 734.11, 873.06, 1401.94, 1420.16, 96.74, 945.19, 426.11, 1635.41, 1085.44, 1065.11, 1120.14, 2664.17, 668.09, 1815.63, 705.6, 153.24, 41.32, 632.28, 98.06, 2219.12, 971.7, 2149.19, 544.22, 455.84, 796.61, 787.87, 197.89, 739.73, 2124.4, 1186.18, 764.31, 1242.35, 3129.0, 451.67, 1186.94, 1269.71, 117.12, 454.65, 83.13, 1201.99, 218.65, 39.81, 1109.03, 730.62, 702.38, 827.08, 566.06, 1101.84, 322.5, 1893.26, 1704.61, 802.63, 2135.45, 1124.4, 215.18, 209.32, 164.1, 1066.49, 88.88, 891.75, 1548.77, 388.41, 695.93, 77.65, 374.98, 1193.87, 602.78, 456.49, 1018.34, 1496.73, 2263.96, 784.56, 936.75, 311.91, 1081.22, 18.47, 292.69, 722.97, 517.32, 452.48, 616.07, 884.7, 931.86, 386.09, 286.47, 407.2, 230.42, 531.11, 299.29, 261.38, 163.73, 846.71, 260.05, 1176.77, 182.98, 378.0, 593.03, 830.73, 1197.86, 687.23, 129.28, 1002.64, 290.81, 348.71, 1886.97, 1181.28, 251.71, 336.6, 1379.39, 229.2, 861.64, 314.49, 8.68, 343.83, 214.96, 291.3, 1902.63, 290.54, 741.85, 664.09, 850.84, 570.99, 665.09, 1030.3, 81.24, 225.43, 567.3, 1043.78, 733.84, 1419.94, 266.25, 1411.26, 96.18, 949.54, 473.07, 394.28, 1075.95, 106.99, 261.45, 459.4, 2009.62, 112.22, 295.4, 419.1, 1547.29, 446.68, 28.12, 752.35, 548.48, 20.03, 901.22, 584.78, 1719.38, 279.51, 1000.79, 478.85, 333.25, 1186.42, 35.33, 18.04, 498.11, 327.03, 381.53, 137.52, 521.02, 11.87, 215.99, 37.48, 741.93, 115.21, 1000.59, 371.52, 122.17, 129.34, 778.53, 686.17, 192.68, 669.85, 185.51, 106.84, 458.54, 1757.12, 207.9, 1270.6, 691.95, 108.19, 228.98, 91.91, 26.46, 1400.25, 672.48, 322.68, 51.12, 1378.93, 213.42, 203.13, 31.36, 886.21, 253.77, 175.19, 348.44, 697.12, 202.13, 329.87, 1168.28, 1042.99, 496.72, 646.68, 1411.1, 217.02, 206.37, 1099.68, 834.67, 173.61, 13.74, 1125.39, 265.71, 586.37, 183.26, 858.54, 1017.16, 259.48, 11.75, 218.74, 296.66, 507.3, 241.87, 885.35, 147.31, 1243.74, 282.57, 376.47, 440.93, 249.3, 595.12, 254.28, 218.15, 855.34, 181.03], \"yaxis\": \"y\"}],                        {\"legend\": {\"tracegroupgap\": 0}, \"template\": {\"data\": {\"bar\": [{\"error_x\": {\"color\": \"#2a3f5f\"}, \"error_y\": {\"color\": \"#2a3f5f\"}, \"marker\": {\"line\": {\"color\": \"#E5ECF6\", \"width\": 0.5}}, \"type\": \"bar\"}], \"barpolar\": [{\"marker\": {\"line\": {\"color\": \"#E5ECF6\", \"width\": 0.5}}, \"type\": \"barpolar\"}], \"carpet\": [{\"aaxis\": {\"endlinecolor\": \"#2a3f5f\", \"gridcolor\": \"white\", \"linecolor\": \"white\", \"minorgridcolor\": \"white\", \"startlinecolor\": \"#2a3f5f\"}, \"baxis\": {\"endlinecolor\": \"#2a3f5f\", \"gridcolor\": \"white\", \"linecolor\": \"white\", \"minorgridcolor\": \"white\", \"startlinecolor\": \"#2a3f5f\"}, \"type\": \"carpet\"}], \"choropleth\": [{\"colorbar\": {\"outlinewidth\": 0, \"ticks\": \"\"}, \"type\": \"choropleth\"}], \"contour\": [{\"colorbar\": {\"outlinewidth\": 0, \"ticks\": \"\"}, \"colorscale\": [[0.0, \"#0d0887\"], [0.1111111111111111, \"#46039f\"], [0.2222222222222222, \"#7201a8\"], [0.3333333333333333, \"#9c179e\"], [0.4444444444444444, \"#bd3786\"], [0.5555555555555556, \"#d8576b\"], [0.6666666666666666, \"#ed7953\"], [0.7777777777777778, \"#fb9f3a\"], [0.8888888888888888, \"#fdca26\"], [1.0, \"#f0f921\"]], \"type\": \"contour\"}], \"contourcarpet\": [{\"colorbar\": {\"outlinewidth\": 0, \"ticks\": \"\"}, \"type\": \"contourcarpet\"}], \"heatmap\": [{\"colorbar\": {\"outlinewidth\": 0, \"ticks\": \"\"}, \"colorscale\": [[0.0, \"#0d0887\"], [0.1111111111111111, \"#46039f\"], [0.2222222222222222, \"#7201a8\"], [0.3333333333333333, \"#9c179e\"], [0.4444444444444444, \"#bd3786\"], [0.5555555555555556, \"#d8576b\"], [0.6666666666666666, \"#ed7953\"], [0.7777777777777778, \"#fb9f3a\"], [0.8888888888888888, \"#fdca26\"], [1.0, \"#f0f921\"]], \"type\": \"heatmap\"}], \"heatmapgl\": [{\"colorbar\": {\"outlinewidth\": 0, \"ticks\": \"\"}, \"colorscale\": [[0.0, \"#0d0887\"], [0.1111111111111111, \"#46039f\"], [0.2222222222222222, \"#7201a8\"], [0.3333333333333333, \"#9c179e\"], [0.4444444444444444, \"#bd3786\"], [0.5555555555555556, \"#d8576b\"], [0.6666666666666666, \"#ed7953\"], [0.7777777777777778, \"#fb9f3a\"], [0.8888888888888888, \"#fdca26\"], [1.0, \"#f0f921\"]], \"type\": \"heatmapgl\"}], \"histogram\": [{\"marker\": {\"colorbar\": {\"outlinewidth\": 0, \"ticks\": \"\"}}, \"type\": \"histogram\"}], \"histogram2d\": [{\"colorbar\": {\"outlinewidth\": 0, \"ticks\": \"\"}, \"colorscale\": [[0.0, \"#0d0887\"], [0.1111111111111111, \"#46039f\"], [0.2222222222222222, \"#7201a8\"], [0.3333333333333333, \"#9c179e\"], [0.4444444444444444, \"#bd3786\"], [0.5555555555555556, \"#d8576b\"], [0.6666666666666666, \"#ed7953\"], [0.7777777777777778, \"#fb9f3a\"], [0.8888888888888888, \"#fdca26\"], [1.0, \"#f0f921\"]], \"type\": \"histogram2d\"}], \"histogram2dcontour\": [{\"colorbar\": {\"outlinewidth\": 0, \"ticks\": \"\"}, \"colorscale\": [[0.0, \"#0d0887\"], [0.1111111111111111, \"#46039f\"], [0.2222222222222222, \"#7201a8\"], [0.3333333333333333, \"#9c179e\"], [0.4444444444444444, \"#bd3786\"], [0.5555555555555556, \"#d8576b\"], [0.6666666666666666, \"#ed7953\"], [0.7777777777777778, \"#fb9f3a\"], [0.8888888888888888, \"#fdca26\"], [1.0, \"#f0f921\"]], \"type\": \"histogram2dcontour\"}], \"mesh3d\": [{\"colorbar\": {\"outlinewidth\": 0, \"ticks\": \"\"}, \"type\": \"mesh3d\"}], \"parcoords\": [{\"line\": {\"colorbar\": {\"outlinewidth\": 0, \"ticks\": \"\"}}, \"type\": \"parcoords\"}], \"pie\": [{\"automargin\": true, \"type\": \"pie\"}], \"scatter\": [{\"marker\": {\"colorbar\": {\"outlinewidth\": 0, \"ticks\": \"\"}}, \"type\": \"scatter\"}], \"scatter3d\": [{\"line\": {\"colorbar\": {\"outlinewidth\": 0, \"ticks\": \"\"}}, \"marker\": {\"colorbar\": {\"outlinewidth\": 0, \"ticks\": \"\"}}, \"type\": \"scatter3d\"}], \"scattercarpet\": [{\"marker\": {\"colorbar\": {\"outlinewidth\": 0, \"ticks\": \"\"}}, \"type\": \"scattercarpet\"}], \"scattergeo\": [{\"marker\": {\"colorbar\": {\"outlinewidth\": 0, \"ticks\": \"\"}}, \"type\": \"scattergeo\"}], \"scattergl\": [{\"marker\": {\"colorbar\": {\"outlinewidth\": 0, \"ticks\": \"\"}}, \"type\": \"scattergl\"}], \"scattermapbox\": [{\"marker\": {\"colorbar\": {\"outlinewidth\": 0, \"ticks\": \"\"}}, \"type\": \"scattermapbox\"}], \"scatterpolar\": [{\"marker\": {\"colorbar\": {\"outlinewidth\": 0, \"ticks\": \"\"}}, \"type\": \"scatterpolar\"}], \"scatterpolargl\": [{\"marker\": {\"colorbar\": {\"outlinewidth\": 0, \"ticks\": \"\"}}, \"type\": \"scatterpolargl\"}], \"scatterternary\": [{\"marker\": {\"colorbar\": {\"outlinewidth\": 0, \"ticks\": \"\"}}, \"type\": \"scatterternary\"}], \"surface\": [{\"colorbar\": {\"outlinewidth\": 0, \"ticks\": \"\"}, \"colorscale\": [[0.0, \"#0d0887\"], [0.1111111111111111, \"#46039f\"], [0.2222222222222222, \"#7201a8\"], [0.3333333333333333, \"#9c179e\"], [0.4444444444444444, \"#bd3786\"], [0.5555555555555556, \"#d8576b\"], [0.6666666666666666, \"#ed7953\"], [0.7777777777777778, \"#fb9f3a\"], [0.8888888888888888, \"#fdca26\"], [1.0, \"#f0f921\"]], \"type\": \"surface\"}], \"table\": [{\"cells\": {\"fill\": {\"color\": \"#EBF0F8\"}, \"line\": {\"color\": \"white\"}}, \"header\": {\"fill\": {\"color\": \"#C8D4E3\"}, \"line\": {\"color\": \"white\"}}, \"type\": \"table\"}]}, \"layout\": {\"annotationdefaults\": {\"arrowcolor\": \"#2a3f5f\", \"arrowhead\": 0, \"arrowwidth\": 1}, \"autotypenumbers\": \"strict\", \"coloraxis\": {\"colorbar\": {\"outlinewidth\": 0, \"ticks\": \"\"}}, \"colorscale\": {\"diverging\": [[0, \"#8e0152\"], [0.1, \"#c51b7d\"], [0.2, \"#de77ae\"], [0.3, \"#f1b6da\"], [0.4, \"#fde0ef\"], [0.5, \"#f7f7f7\"], [0.6, \"#e6f5d0\"], [0.7, \"#b8e186\"], [0.8, \"#7fbc41\"], [0.9, \"#4d9221\"], [1, \"#276419\"]], \"sequential\": [[0.0, \"#0d0887\"], [0.1111111111111111, \"#46039f\"], [0.2222222222222222, \"#7201a8\"], [0.3333333333333333, \"#9c179e\"], [0.4444444444444444, \"#bd3786\"], [0.5555555555555556, \"#d8576b\"], [0.6666666666666666, \"#ed7953\"], [0.7777777777777778, \"#fb9f3a\"], [0.8888888888888888, \"#fdca26\"], [1.0, \"#f0f921\"]], \"sequentialminus\": [[0.0, \"#0d0887\"], [0.1111111111111111, \"#46039f\"], [0.2222222222222222, \"#7201a8\"], [0.3333333333333333, \"#9c179e\"], [0.4444444444444444, \"#bd3786\"], [0.5555555555555556, \"#d8576b\"], [0.6666666666666666, \"#ed7953\"], [0.7777777777777778, \"#fb9f3a\"], [0.8888888888888888, \"#fdca26\"], [1.0, \"#f0f921\"]]}, \"colorway\": [\"#636efa\", \"#EF553B\", \"#00cc96\", \"#ab63fa\", \"#FFA15A\", \"#19d3f3\", \"#FF6692\", \"#B6E880\", \"#FF97FF\", \"#FECB52\"], \"font\": {\"color\": \"#2a3f5f\"}, \"geo\": {\"bgcolor\": \"white\", \"lakecolor\": \"white\", \"landcolor\": \"#E5ECF6\", \"showlakes\": true, \"showland\": true, \"subunitcolor\": \"white\"}, \"hoverlabel\": {\"align\": \"left\"}, \"hovermode\": \"closest\", \"mapbox\": {\"style\": \"light\"}, \"paper_bgcolor\": \"white\", \"plot_bgcolor\": \"#E5ECF6\", \"polar\": {\"angularaxis\": {\"gridcolor\": \"white\", \"linecolor\": \"white\", \"ticks\": \"\"}, \"bgcolor\": \"#E5ECF6\", \"radialaxis\": {\"gridcolor\": \"white\", \"linecolor\": \"white\", \"ticks\": \"\"}}, \"scene\": {\"xaxis\": {\"backgroundcolor\": \"#E5ECF6\", \"gridcolor\": \"white\", \"gridwidth\": 2, \"linecolor\": \"white\", \"showbackground\": true, \"ticks\": \"\", \"zerolinecolor\": \"white\"}, \"yaxis\": {\"backgroundcolor\": \"#E5ECF6\", \"gridcolor\": \"white\", \"gridwidth\": 2, \"linecolor\": \"white\", \"showbackground\": true, \"ticks\": \"\", \"zerolinecolor\": \"white\"}, \"zaxis\": {\"backgroundcolor\": \"#E5ECF6\", \"gridcolor\": \"white\", \"gridwidth\": 2, \"linecolor\": \"white\", \"showbackground\": true, \"ticks\": \"\", \"zerolinecolor\": \"white\"}}, \"shapedefaults\": {\"line\": {\"color\": \"#2a3f5f\"}}, \"ternary\": {\"aaxis\": {\"gridcolor\": \"white\", \"linecolor\": \"white\", \"ticks\": \"\"}, \"baxis\": {\"gridcolor\": \"white\", \"linecolor\": \"white\", \"ticks\": \"\"}, \"bgcolor\": \"#E5ECF6\", \"caxis\": {\"gridcolor\": \"white\", \"linecolor\": \"white\", \"ticks\": \"\"}}, \"title\": {\"x\": 0.05}, \"xaxis\": {\"automargin\": true, \"gridcolor\": \"white\", \"linecolor\": \"white\", \"ticks\": \"\", \"title\": {\"standoff\": 15}, \"zerolinecolor\": \"white\", \"zerolinewidth\": 2}, \"yaxis\": {\"automargin\": true, \"gridcolor\": \"white\", \"linecolor\": \"white\", \"ticks\": \"\", \"title\": {\"standoff\": 15}, \"zerolinecolor\": \"white\", \"zerolinewidth\": 2}}}, \"title\": {\"text\": \"Sample Size vs Mean Difference\"}, \"xaxis\": {\"anchor\": \"y\", \"domain\": [0.0, 1.0], \"title\": {\"text\": \"Sample size\"}}, \"yaxis\": {\"anchor\": \"x\", \"domain\": [0.0, 1.0], \"title\": {\"text\": \"Means difference\"}}},                        {\"responsive\": true}                    ).then(function(){\n                            \nvar gd = document.getElementById('29c342f7-247a-4ad0-8a0d-a577a9eb7842');\nvar x = new MutationObserver(function (mutations, observer) {{\n        var display = window.getComputedStyle(gd).display;\n        if (!display || display === 'none') {{\n            console.log([gd, 'removed!']);\n            Plotly.purge(gd);\n            observer.disconnect();\n        }}\n}});\n\n// Listen for the removal of the full notebook cells\nvar notebookContainer = gd.closest('#notebook-container');\nif (notebookContainer) {{\n    x.observe(notebookContainer, {childList: true});\n}}\n\n// Listen for the clearing of the current output cell\nvar outputEl = gd.closest('.output');\nif (outputEl) {{\n    x.observe(outputEl, {childList: true});\n}}\n\n                        })                };                            </script>        </div>\n</body>\n</html>"
          },
          "metadata": {},
          "output_type": "display_data"
        }
      ],
      "execution_count": 72
    },
    {
      "cell_type": "code",
      "source": "#Repeat the process with 1001 samples\nsample_sizes=list(range(1,1001))\nmeans_diff=[]\nfor x in sample_sizes:\n  means_diff.append(mean_diff(x, df))\nfig = px.scatter(df, x=sample_sizes, y=means_diff,title='Sample Size vs Mean Difference',labels={\n                     'x' : \"Sample sizes\",\n                     'y'  : \"Means difference\"\n                 })\n\nfig.show()  ",
      "metadata": {
        "tags": [],
        "cell_id": "00024-24ba97b6-ae5d-4c71-af23-da57933f6665",
        "deepnote_to_be_reexecuted": false,
        "source_hash": "646e0436",
        "execution_millis": 5873,
        "execution_start": 1618806646378,
        "deepnote_cell_type": "code"
      },
      "outputs": [
        {
          "data": {
            "text/html": "<html>\n<head><meta charset=\"utf-8\" /></head>\n<body>\n    <div>            <script src=\"https://cdnjs.cloudflare.com/ajax/libs/mathjax/2.7.5/MathJax.js?config=TeX-AMS-MML_SVG\"></script><script type=\"text/javascript\">if (window.MathJax) {MathJax.Hub.Config({SVG: {font: \"STIX-Web\"}});}</script>                <script type=\"text/javascript\">window.PlotlyConfig = {MathJaxConfig: 'local'};</script>\n        <script src=\"https://cdn.plot.ly/plotly-latest.min.js\"></script>                <div id=\"a8a76c04-381b-459b-9515-f088ddefa580\" class=\"plotly-graph-div\" style=\"height:525px; width:100%;\"></div>            <script type=\"text/javascript\">                                    window.PLOTLYENV=window.PLOTLYENV || {};                                    if (document.getElementById(\"a8a76c04-381b-459b-9515-f088ddefa580\")) {                    Plotly.newPlot(                        \"a8a76c04-381b-459b-9515-f088ddefa580\",                        [{\"hovertemplate\": \"Sample sizes=%{x}<br>Means difference=%{y}<extra></extra>\", \"legendgroup\": \"\", \"marker\": {\"color\": \"#636efa\", \"symbol\": \"circle\"}, \"mode\": \"markers\", \"name\": \"\", \"orientation\": \"v\", \"showlegend\": false, \"type\": \"scatter\", \"x\": [1, 2, 3, 4, 5, 6, 7, 8, 9, 10, 11, 12, 13, 14, 15, 16, 17, 18, 19, 20, 21, 22, 23, 24, 25, 26, 27, 28, 29, 30, 31, 32, 33, 34, 35, 36, 37, 38, 39, 40, 41, 42, 43, 44, 45, 46, 47, 48, 49, 50, 51, 52, 53, 54, 55, 56, 57, 58, 59, 60, 61, 62, 63, 64, 65, 66, 67, 68, 69, 70, 71, 72, 73, 74, 75, 76, 77, 78, 79, 80, 81, 82, 83, 84, 85, 86, 87, 88, 89, 90, 91, 92, 93, 94, 95, 96, 97, 98, 99, 100, 101, 102, 103, 104, 105, 106, 107, 108, 109, 110, 111, 112, 113, 114, 115, 116, 117, 118, 119, 120, 121, 122, 123, 124, 125, 126, 127, 128, 129, 130, 131, 132, 133, 134, 135, 136, 137, 138, 139, 140, 141, 142, 143, 144, 145, 146, 147, 148, 149, 150, 151, 152, 153, 154, 155, 156, 157, 158, 159, 160, 161, 162, 163, 164, 165, 166, 167, 168, 169, 170, 171, 172, 173, 174, 175, 176, 177, 178, 179, 180, 181, 182, 183, 184, 185, 186, 187, 188, 189, 190, 191, 192, 193, 194, 195, 196, 197, 198, 199, 200, 201, 202, 203, 204, 205, 206, 207, 208, 209, 210, 211, 212, 213, 214, 215, 216, 217, 218, 219, 220, 221, 222, 223, 224, 225, 226, 227, 228, 229, 230, 231, 232, 233, 234, 235, 236, 237, 238, 239, 240, 241, 242, 243, 244, 245, 246, 247, 248, 249, 250, 251, 252, 253, 254, 255, 256, 257, 258, 259, 260, 261, 262, 263, 264, 265, 266, 267, 268, 269, 270, 271, 272, 273, 274, 275, 276, 277, 278, 279, 280, 281, 282, 283, 284, 285, 286, 287, 288, 289, 290, 291, 292, 293, 294, 295, 296, 297, 298, 299, 300, 301, 302, 303, 304, 305, 306, 307, 308, 309, 310, 311, 312, 313, 314, 315, 316, 317, 318, 319, 320, 321, 322, 323, 324, 325, 326, 327, 328, 329, 330, 331, 332, 333, 334, 335, 336, 337, 338, 339, 340, 341, 342, 343, 344, 345, 346, 347, 348, 349, 350, 351, 352, 353, 354, 355, 356, 357, 358, 359, 360, 361, 362, 363, 364, 365, 366, 367, 368, 369, 370, 371, 372, 373, 374, 375, 376, 377, 378, 379, 380, 381, 382, 383, 384, 385, 386, 387, 388, 389, 390, 391, 392, 393, 394, 395, 396, 397, 398, 399, 400, 401, 402, 403, 404, 405, 406, 407, 408, 409, 410, 411, 412, 413, 414, 415, 416, 417, 418, 419, 420, 421, 422, 423, 424, 425, 426, 427, 428, 429, 430, 431, 432, 433, 434, 435, 436, 437, 438, 439, 440, 441, 442, 443, 444, 445, 446, 447, 448, 449, 450, 451, 452, 453, 454, 455, 456, 457, 458, 459, 460, 461, 462, 463, 464, 465, 466, 467, 468, 469, 470, 471, 472, 473, 474, 475, 476, 477, 478, 479, 480, 481, 482, 483, 484, 485, 486, 487, 488, 489, 490, 491, 492, 493, 494, 495, 496, 497, 498, 499, 500, 501, 502, 503, 504, 505, 506, 507, 508, 509, 510, 511, 512, 513, 514, 515, 516, 517, 518, 519, 520, 521, 522, 523, 524, 525, 526, 527, 528, 529, 530, 531, 532, 533, 534, 535, 536, 537, 538, 539, 540, 541, 542, 543, 544, 545, 546, 547, 548, 549, 550, 551, 552, 553, 554, 555, 556, 557, 558, 559, 560, 561, 562, 563, 564, 565, 566, 567, 568, 569, 570, 571, 572, 573, 574, 575, 576, 577, 578, 579, 580, 581, 582, 583, 584, 585, 586, 587, 588, 589, 590, 591, 592, 593, 594, 595, 596, 597, 598, 599, 600, 601, 602, 603, 604, 605, 606, 607, 608, 609, 610, 611, 612, 613, 614, 615, 616, 617, 618, 619, 620, 621, 622, 623, 624, 625, 626, 627, 628, 629, 630, 631, 632, 633, 634, 635, 636, 637, 638, 639, 640, 641, 642, 643, 644, 645, 646, 647, 648, 649, 650, 651, 652, 653, 654, 655, 656, 657, 658, 659, 660, 661, 662, 663, 664, 665, 666, 667, 668, 669, 670, 671, 672, 673, 674, 675, 676, 677, 678, 679, 680, 681, 682, 683, 684, 685, 686, 687, 688, 689, 690, 691, 692, 693, 694, 695, 696, 697, 698, 699, 700, 701, 702, 703, 704, 705, 706, 707, 708, 709, 710, 711, 712, 713, 714, 715, 716, 717, 718, 719, 720, 721, 722, 723, 724, 725, 726, 727, 728, 729, 730, 731, 732, 733, 734, 735, 736, 737, 738, 739, 740, 741, 742, 743, 744, 745, 746, 747, 748, 749, 750, 751, 752, 753, 754, 755, 756, 757, 758, 759, 760, 761, 762, 763, 764, 765, 766, 767, 768, 769, 770, 771, 772, 773, 774, 775, 776, 777, 778, 779, 780, 781, 782, 783, 784, 785, 786, 787, 788, 789, 790, 791, 792, 793, 794, 795, 796, 797, 798, 799, 800, 801, 802, 803, 804, 805, 806, 807, 808, 809, 810, 811, 812, 813, 814, 815, 816, 817, 818, 819, 820, 821, 822, 823, 824, 825, 826, 827, 828, 829, 830, 831, 832, 833, 834, 835, 836, 837, 838, 839, 840, 841, 842, 843, 844, 845, 846, 847, 848, 849, 850, 851, 852, 853, 854, 855, 856, 857, 858, 859, 860, 861, 862, 863, 864, 865, 866, 867, 868, 869, 870, 871, 872, 873, 874, 875, 876, 877, 878, 879, 880, 881, 882, 883, 884, 885, 886, 887, 888, 889, 890, 891, 892, 893, 894, 895, 896, 897, 898, 899, 900, 901, 902, 903, 904, 905, 906, 907, 908, 909, 910, 911, 912, 913, 914, 915, 916, 917, 918, 919, 920, 921, 922, 923, 924, 925, 926, 927, 928, 929, 930, 931, 932, 933, 934, 935, 936, 937, 938, 939, 940, 941, 942, 943, 944, 945, 946, 947, 948, 949, 950, 951, 952, 953, 954, 955, 956, 957, 958, 959, 960, 961, 962, 963, 964, 965, 966, 967, 968, 969, 970, 971, 972, 973, 974, 975, 976, 977, 978, 979, 980, 981, 982, 983, 984, 985, 986, 987, 988, 989, 990, 991, 992, 993, 994, 995, 996, 997, 998, 999, 1000], \"xaxis\": \"x\", \"y\": [7619.76, 8740.26, 288.24, 314.24, 4255.44, 4114.57, 2633.19, 5098.76, 657.09, 488.64, 6419.24, 814.99, 1736.39, 527.83, 6562.17, 4664.38, 3870.41, 1197.18, 291.66, 2621.54, 1871.38, 1119.42, 1007.33, 1400.24, 413.04, 4255.28, 474.28, 2005.31, 1854.38, 136.91, 238.05, 1495.24, 915.63, 2480.59, 689.55, 1595.4, 742.43, 906.27, 1054.5, 1809.38, 1124.02, 1159.76, 689.82, 467.28, 1707.43, 1744.76, 3425.92, 1200.57, 616.88, 3027.5, 3541.55, 1921.8, 1812.22, 2032.17, 1705.25, 850.49, 588.85, 168.71, 3061.1, 267.38, 3420.16, 2311.32, 58.78, 175.14, 176.44, 223.3, 863.99, 1019.62, 922.18, 1158.59, 862.01, 1060.42, 526.99, 1715.75, 614.19, 1327.67, 1656.5, 3.99, 1592.08, 1543.64, 1883.6, 37.7, 284.69, 287.2, 1024.63, 942.17, 1368.94, 234.48, 1311.26, 612.7, 1302.95, 437.33, 25.84, 490.61, 417.39, 428.4, 535.29, 575.67, 815.55, 1437.58, 1332.98, 1087.73, 363.26, 354.89, 461.66, 186.43, 857.45, 2483.78, 571.5, 59.62, 153.54, 39.96, 1039.54, 520.65, 873.19, 240.05, 375.98, 463.91, 1641.33, 537.52, 197.03, 286.25, 1140.02, 479.46, 35.04, 1131.34, 49.5, 707.53, 385.57, 1048.25, 210.26, 758.74, 359.01, 742.55, 30.86, 54.72, 802.74, 64.25, 39.21, 991.82, 69.81, 140.84, 109.31, 966.75, 564.52, 38.26, 180.92, 292.58, 568.48, 401.48, 595.54, 75.15, 731.04, 495.86, 649.75, 910.99, 907.54, 640.01, 286.3, 453.42, 1299.76, 1939.49, 492.76, 126.24, 94.48, 1313.56, 1997.31, 1571.63, 1634.13, 336.91, 563.76, 366.57, 282.36, 741.38, 1180.71, 10.58, 979.57, 172.19, 1467.11, 13.53, 1271.54, 836.34, 108.01, 1084.38, 498.36, 79.78, 1047.11, 414.1, 31.71, 2524.33, 114.35, 543.45, 297.58, 424.74, 543.87, 1421.51, 392.92, 601.59, 582.45, 1047.96, 1447.92, 647.06, 773.79, 579.66, 706.89, 12.16, 224.13, 6.15, 540.76, 1555.29, 387.68, 200.12, 693.13, 953.08, 1277.36, 1161.93, 218.27, 516.42, 169.63, 113.74, 425.17, 136.0, 118.24, 1111.44, 755.24, 1001.58, 82.08, 129.53, 674.55, 749.53, 750.03, 130.13, 961.16, 538.61, 299.33, 589.84, 919.25, 113.63, 245.41, 161.48, 533.7, 845.79, 636.86, 760.66, 155.64, 426.15, 369.58, 721.62, 563.89, 1269.48, 946.57, 688.41, 588.45, 1704.86, 330.56, 523.13, 417.36, 416.81, 122.15, 141.9, 291.64, 545.51, 419.04, 518.97, 731.0, 794.05, 97.93, 109.28, 226.26, 1264.59, 319.21, 602.47, 310.69, 182.37, 277.05, 763.65, 88.68, 502.45, 391.25, 220.57, 661.89, 487.04, 322.8, 995.3, 129.11, 213.21, 824.74, 128.08, 920.5, 254.53, 235.98, 220.62, 1225.5, 431.1, 566.9, 111.12, 902.71, 464.5, 302.17, 71.82, 39.73, 844.3, 1010.31, 1089.34, 330.71, 1203.31, 18.26, 643.92, 105.74, 1039.38, 825.12, 469.92, 52.36, 401.19, 174.4, 866.13, 574.15, 1030.91, 309.45, 79.52, 203.49, 775.43, 607.81, 482.63, 26.29, 1454.03, 301.31, 944.77, 488.05, 639.37, 569.2, 48.34, 544.0, 390.47, 1332.16, 475.54, 326.15, 290.98, 190.77, 919.45, 403.3, 1120.32, 735.7, 350.9, 297.9, 392.32, 399.84, 573.54, 1022.93, 356.43, 349.46, 728.67, 270.76, 608.79, 438.07, 489.37, 678.82, 223.55, 414.41, 137.38, 589.18, 250.81, 724.4, 519.18, 377.64, 491.65, 280.41, 497.97, 392.91, 394.24, 182.62, 243.93, 434.39, 806.03, 165.26, 950.73, 212.76, 1174.04, 646.15, 226.46, 349.43, 147.61, 389.96, 123.52, 162.94, 204.31, 946.15, 625.46, 505.23, 495.25, 319.41, 728.25, 161.09, 734.06, 570.91, 588.71, 893.71, 184.3, 21.97, 462.85, 626.05, 48.21, 462.07, 785.44, 398.54, 326.41, 553.82, 584.75, 165.69, 883.9, 695.52, 37.18, 297.62, 179.03, 593.01, 1150.86, 454.57, 16.44, 705.25, 733.75, 2.19, 68.53, 504.79, 204.32, 1284.88, 594.72, 621.61, 313.23, 306.24, 393.4, 11.09, 588.7, 512.31, 328.2, 534.97, 393.48, 227.22, 688.22, 1208.5, 236.79, 84.54, 95.34, 46.39, 292.47, 85.15, 368.7, 486.21, 151.01, 542.0, 52.4, 387.3, 1190.66, 1134.84, 106.85, 393.11, 1366.11, 537.75, 101.31, 26.9, 191.25, 140.01, 406.87, 149.97, 721.5, 151.12, 798.82, 322.87, 676.86, 354.14, 173.99, 14.78, 852.96, 534.72, 586.04, 446.92, 45.67, 249.12, 464.64, 469.39, 360.44, 211.52, 366.17, 669.66, 163.96, 249.87, 628.82, 79.8, 103.46, 577.96, 201.93, 430.28, 710.11, 435.89, 481.74, 145.89, 293.01, 611.08, 194.32, 403.96, 104.77, 624.25, 252.54, 495.27, 49.56, 66.02, 148.34, 110.33, 361.9, 1.6, 251.64, 221.6, 65.33, 500.39, 665.97, 350.35, 425.45, 652.59, 257.73, 275.43, 13.08, 227.43, 85.33, 83.42, 83.68, 118.74, 395.78, 676.69, 352.65, 322.46, 89.78, 221.66, 231.04, 541.69, 3.57, 1069.72, 364.83, 232.46, 142.79, 491.56, 202.32, 645.44, 226.26, 27.48, 321.69, 214.83, 124.68, 27.08, 429.08, 105.97, 160.88, 256.27, 427.04, 344.66, 437.79, 289.82, 6.67, 19.73, 463.41, 95.05, 121.31, 71.12, 495.01, 1318.44, 340.23, 313.5, 477.38, 153.03, 552.57, 153.67, 418.23, 325.99, 88.19, 6.99, 52.59, 524.21, 256.67, 164.55, 220.07, 321.6, 114.97, 511.96, 86.2, 617.65, 171.67, 245.96, 130.69, 796.42, 235.87, 17.73, 575.88, 393.3, 157.76, 483.12, 276.19, 263.54, 223.08, 854.2, 569.6, 603.25, 861.17, 63.03, 342.13, 347.41, 161.55, 370.49, 61.69, 55.23, 141.24, 581.84, 55.97, 595.12, 881.31, 29.14, 455.31, 87.47, 58.52, 733.6, 802.82, 88.09, 19.52, 731.56, 445.84, 48.26, 58.54, 91.18, 169.72, 267.58, 39.54, 203.63, 338.68, 576.15, 490.88, 110.85, 457.08, 600.73, 460.65, 449.38, 318.17, 182.93, 173.55, 31.17, 284.3, 108.72, 350.6, 350.83, 58.44, 566.07, 293.1, 631.38, 33.43, 149.87, 101.61, 534.58, 999.49, 290.64, 124.48, 93.11, 5.97, 366.29, 462.99, 263.19, 453.64, 189.5, 287.68, 473.52, 243.15, 644.23, 231.05, 367.97, 322.26, 441.22, 144.67, 276.86, 344.48, 20.57, 95.98, 33.93, 21.53, 224.35, 166.85, 78.33, 168.77, 724.14, 351.32, 1146.83, 166.71, 646.18, 755.56, 471.02, 627.7, 387.95, 440.3, 478.53, 479.27, 153.45, 128.91, 154.81, 141.42, 238.57, 33.24, 1005.53, 29.46, 246.81, 540.79, 116.41, 464.81, 205.95, 772.94, 684.27, 369.92, 122.31, 431.25, 220.97, 297.86, 6.36, 278.35, 374.97, 703.32, 511.42, 695.06, 288.83, 369.76, 225.75, 345.68, 1088.24, 339.54, 156.78, 93.04, 1080.46, 478.13, 378.84, 536.86, 187.97, 191.25, 558.69, 460.9, 120.44, 187.48, 335.82, 196.64, 400.31, 120.63, 431.94, 141.16, 115.79, 227.12, 219.13, 452.31, 289.62, 788.44, 708.85, 134.48, 362.95, 672.61, 349.52, 130.99, 206.0, 40.54, 41.95, 1107.92, 187.17, 79.88, 175.61, 407.84, 40.0, 130.99, 267.62, 294.67, 291.46, 114.16, 333.55, 62.37, 577.37, 352.13, 66.51, 2.39, 185.55, 231.81, 173.03, 240.53, 196.33, 179.11, 551.91, 631.37, 324.54, 182.07, 443.12, 753.55, 594.96, 375.88, 312.25, 356.32, 745.31, 271.24, 172.0, 296.53, 195.8, 439.82, 117.95, 422.72, 270.54, 18.03, 379.74, 695.15, 635.12, 493.19, 85.91, 671.86, 537.63, 321.85, 523.17, 329.22, 24.3, 41.74, 292.38, 122.01, 237.13, 249.37, 640.22, 143.9, 274.07, 191.47, 359.73, 174.66, 615.05, 300.76, 255.17, 56.95, 375.29, 76.36, 87.94, 232.96, 744.75, 304.98, 870.46, 291.28, 413.53, 172.73, 155.55, 56.24, 121.9, 298.63, 334.22, 646.49, 314.16, 664.97, 28.68, 414.94, 354.63, 338.27, 197.76, 50.61, 536.62, 291.96, 158.26, 427.02, 221.37, 248.85, 451.15, 38.53, 402.29, 146.9, 84.27, 581.68, 113.77, 115.11, 578.54, 189.02, 240.73, 448.73, 313.84, 533.3, 191.3, 383.16, 62.01, 169.04, 245.47, 632.25, 127.83, 22.15, 27.78, 44.93, 404.09, 201.2, 166.16, 277.94, 881.67, 148.19, 42.41, 518.71, 190.42, 375.37, 388.46, 84.2, 328.04, 619.77, 329.29, 378.15, 432.57, 429.34, 173.62, 134.6, 508.07, 30.33, 328.79, 214.44, 541.9, 238.38, 230.84, 353.56, 14.09, 253.42, 7.55, 293.79, 423.86, 357.48, 762.86, 411.53, 67.4, 434.41, 677.79, 368.32, 317.1, 128.98, 333.2, 391.2, 225.12, 249.01, 202.33, 257.31, 537.78, 351.35, 155.16, 526.49, 404.95, 24.14, 231.37, 455.63, 597.47, 273.46, 256.21, 103.61, 229.94, 150.01, 163.65, 699.79, 465.79, 188.0, 600.2, 18.1, 406.79, 76.58, 100.51, 629.34, 296.59, 21.38, 197.37, 723.04, 191.91, 312.57, 59.27, 77.79, 241.52, 38.73, 96.69, 234.41, 394.32, 588.57, 76.72, 208.84, 157.3, 338.57, 332.07, 104.07, 417.23, 388.91, 326.4, 130.26, 643.17, 761.28, 303.47, 313.12, 795.66, 262.38, 510.97, 43.3, 368.36, 41.02, 190.56, 131.06, 792.4, 281.26, 624.24, 327.09, 69.37, 380.13, 84.65, 392.13, 304.15, 922.59], \"yaxis\": \"y\"}],                        {\"legend\": {\"tracegroupgap\": 0}, \"template\": {\"data\": {\"bar\": [{\"error_x\": {\"color\": \"#2a3f5f\"}, \"error_y\": {\"color\": \"#2a3f5f\"}, \"marker\": {\"line\": {\"color\": \"#E5ECF6\", \"width\": 0.5}}, \"type\": \"bar\"}], \"barpolar\": [{\"marker\": {\"line\": {\"color\": \"#E5ECF6\", \"width\": 0.5}}, \"type\": \"barpolar\"}], \"carpet\": [{\"aaxis\": {\"endlinecolor\": \"#2a3f5f\", \"gridcolor\": \"white\", \"linecolor\": \"white\", \"minorgridcolor\": \"white\", \"startlinecolor\": \"#2a3f5f\"}, \"baxis\": {\"endlinecolor\": \"#2a3f5f\", \"gridcolor\": \"white\", \"linecolor\": \"white\", \"minorgridcolor\": \"white\", \"startlinecolor\": \"#2a3f5f\"}, \"type\": \"carpet\"}], \"choropleth\": [{\"colorbar\": {\"outlinewidth\": 0, \"ticks\": \"\"}, \"type\": \"choropleth\"}], \"contour\": [{\"colorbar\": {\"outlinewidth\": 0, \"ticks\": \"\"}, \"colorscale\": [[0.0, \"#0d0887\"], [0.1111111111111111, \"#46039f\"], [0.2222222222222222, \"#7201a8\"], [0.3333333333333333, \"#9c179e\"], [0.4444444444444444, \"#bd3786\"], [0.5555555555555556, \"#d8576b\"], [0.6666666666666666, \"#ed7953\"], [0.7777777777777778, \"#fb9f3a\"], [0.8888888888888888, \"#fdca26\"], [1.0, \"#f0f921\"]], \"type\": \"contour\"}], \"contourcarpet\": [{\"colorbar\": {\"outlinewidth\": 0, \"ticks\": \"\"}, \"type\": \"contourcarpet\"}], \"heatmap\": [{\"colorbar\": {\"outlinewidth\": 0, \"ticks\": \"\"}, \"colorscale\": [[0.0, \"#0d0887\"], [0.1111111111111111, \"#46039f\"], [0.2222222222222222, \"#7201a8\"], [0.3333333333333333, \"#9c179e\"], [0.4444444444444444, \"#bd3786\"], [0.5555555555555556, \"#d8576b\"], [0.6666666666666666, \"#ed7953\"], [0.7777777777777778, \"#fb9f3a\"], [0.8888888888888888, \"#fdca26\"], [1.0, \"#f0f921\"]], \"type\": \"heatmap\"}], \"heatmapgl\": [{\"colorbar\": {\"outlinewidth\": 0, \"ticks\": \"\"}, \"colorscale\": [[0.0, \"#0d0887\"], [0.1111111111111111, \"#46039f\"], [0.2222222222222222, \"#7201a8\"], [0.3333333333333333, \"#9c179e\"], [0.4444444444444444, \"#bd3786\"], [0.5555555555555556, \"#d8576b\"], [0.6666666666666666, \"#ed7953\"], [0.7777777777777778, \"#fb9f3a\"], [0.8888888888888888, \"#fdca26\"], [1.0, \"#f0f921\"]], \"type\": \"heatmapgl\"}], \"histogram\": [{\"marker\": {\"colorbar\": {\"outlinewidth\": 0, \"ticks\": \"\"}}, \"type\": \"histogram\"}], \"histogram2d\": [{\"colorbar\": {\"outlinewidth\": 0, \"ticks\": \"\"}, \"colorscale\": [[0.0, \"#0d0887\"], [0.1111111111111111, \"#46039f\"], [0.2222222222222222, \"#7201a8\"], [0.3333333333333333, \"#9c179e\"], [0.4444444444444444, \"#bd3786\"], [0.5555555555555556, \"#d8576b\"], [0.6666666666666666, \"#ed7953\"], [0.7777777777777778, \"#fb9f3a\"], [0.8888888888888888, \"#fdca26\"], [1.0, \"#f0f921\"]], \"type\": \"histogram2d\"}], \"histogram2dcontour\": [{\"colorbar\": {\"outlinewidth\": 0, \"ticks\": \"\"}, \"colorscale\": [[0.0, \"#0d0887\"], [0.1111111111111111, \"#46039f\"], [0.2222222222222222, \"#7201a8\"], [0.3333333333333333, \"#9c179e\"], [0.4444444444444444, \"#bd3786\"], [0.5555555555555556, \"#d8576b\"], [0.6666666666666666, \"#ed7953\"], [0.7777777777777778, \"#fb9f3a\"], [0.8888888888888888, \"#fdca26\"], [1.0, \"#f0f921\"]], \"type\": \"histogram2dcontour\"}], \"mesh3d\": [{\"colorbar\": {\"outlinewidth\": 0, \"ticks\": \"\"}, \"type\": \"mesh3d\"}], \"parcoords\": [{\"line\": {\"colorbar\": {\"outlinewidth\": 0, \"ticks\": \"\"}}, \"type\": \"parcoords\"}], \"pie\": [{\"automargin\": true, \"type\": \"pie\"}], \"scatter\": [{\"marker\": {\"colorbar\": {\"outlinewidth\": 0, \"ticks\": \"\"}}, \"type\": \"scatter\"}], \"scatter3d\": [{\"line\": {\"colorbar\": {\"outlinewidth\": 0, \"ticks\": \"\"}}, \"marker\": {\"colorbar\": {\"outlinewidth\": 0, \"ticks\": \"\"}}, \"type\": \"scatter3d\"}], \"scattercarpet\": [{\"marker\": {\"colorbar\": {\"outlinewidth\": 0, \"ticks\": \"\"}}, \"type\": \"scattercarpet\"}], \"scattergeo\": [{\"marker\": {\"colorbar\": {\"outlinewidth\": 0, \"ticks\": \"\"}}, \"type\": \"scattergeo\"}], \"scattergl\": [{\"marker\": {\"colorbar\": {\"outlinewidth\": 0, \"ticks\": \"\"}}, \"type\": \"scattergl\"}], \"scattermapbox\": [{\"marker\": {\"colorbar\": {\"outlinewidth\": 0, \"ticks\": \"\"}}, \"type\": \"scattermapbox\"}], \"scatterpolar\": [{\"marker\": {\"colorbar\": {\"outlinewidth\": 0, \"ticks\": \"\"}}, \"type\": \"scatterpolar\"}], \"scatterpolargl\": [{\"marker\": {\"colorbar\": {\"outlinewidth\": 0, \"ticks\": \"\"}}, \"type\": \"scatterpolargl\"}], \"scatterternary\": [{\"marker\": {\"colorbar\": {\"outlinewidth\": 0, \"ticks\": \"\"}}, \"type\": \"scatterternary\"}], \"surface\": [{\"colorbar\": {\"outlinewidth\": 0, \"ticks\": \"\"}, \"colorscale\": [[0.0, \"#0d0887\"], [0.1111111111111111, \"#46039f\"], [0.2222222222222222, \"#7201a8\"], [0.3333333333333333, \"#9c179e\"], [0.4444444444444444, \"#bd3786\"], [0.5555555555555556, \"#d8576b\"], [0.6666666666666666, \"#ed7953\"], [0.7777777777777778, \"#fb9f3a\"], [0.8888888888888888, \"#fdca26\"], [1.0, \"#f0f921\"]], \"type\": \"surface\"}], \"table\": [{\"cells\": {\"fill\": {\"color\": \"#EBF0F8\"}, \"line\": {\"color\": \"white\"}}, \"header\": {\"fill\": {\"color\": \"#C8D4E3\"}, \"line\": {\"color\": \"white\"}}, \"type\": \"table\"}]}, \"layout\": {\"annotationdefaults\": {\"arrowcolor\": \"#2a3f5f\", \"arrowhead\": 0, \"arrowwidth\": 1}, \"autotypenumbers\": \"strict\", \"coloraxis\": {\"colorbar\": {\"outlinewidth\": 0, \"ticks\": \"\"}}, \"colorscale\": {\"diverging\": [[0, \"#8e0152\"], [0.1, \"#c51b7d\"], [0.2, \"#de77ae\"], [0.3, \"#f1b6da\"], [0.4, \"#fde0ef\"], [0.5, \"#f7f7f7\"], [0.6, \"#e6f5d0\"], [0.7, \"#b8e186\"], [0.8, \"#7fbc41\"], [0.9, \"#4d9221\"], [1, \"#276419\"]], \"sequential\": [[0.0, \"#0d0887\"], [0.1111111111111111, \"#46039f\"], [0.2222222222222222, \"#7201a8\"], [0.3333333333333333, \"#9c179e\"], [0.4444444444444444, \"#bd3786\"], [0.5555555555555556, \"#d8576b\"], [0.6666666666666666, \"#ed7953\"], [0.7777777777777778, \"#fb9f3a\"], [0.8888888888888888, \"#fdca26\"], [1.0, \"#f0f921\"]], \"sequentialminus\": [[0.0, \"#0d0887\"], [0.1111111111111111, \"#46039f\"], [0.2222222222222222, \"#7201a8\"], [0.3333333333333333, \"#9c179e\"], [0.4444444444444444, \"#bd3786\"], [0.5555555555555556, \"#d8576b\"], [0.6666666666666666, \"#ed7953\"], [0.7777777777777778, \"#fb9f3a\"], [0.8888888888888888, \"#fdca26\"], [1.0, \"#f0f921\"]]}, \"colorway\": [\"#636efa\", \"#EF553B\", \"#00cc96\", \"#ab63fa\", \"#FFA15A\", \"#19d3f3\", \"#FF6692\", \"#B6E880\", \"#FF97FF\", \"#FECB52\"], \"font\": {\"color\": \"#2a3f5f\"}, \"geo\": {\"bgcolor\": \"white\", \"lakecolor\": \"white\", \"landcolor\": \"#E5ECF6\", \"showlakes\": true, \"showland\": true, \"subunitcolor\": \"white\"}, \"hoverlabel\": {\"align\": \"left\"}, \"hovermode\": \"closest\", \"mapbox\": {\"style\": \"light\"}, \"paper_bgcolor\": \"white\", \"plot_bgcolor\": \"#E5ECF6\", \"polar\": {\"angularaxis\": {\"gridcolor\": \"white\", \"linecolor\": \"white\", \"ticks\": \"\"}, \"bgcolor\": \"#E5ECF6\", \"radialaxis\": {\"gridcolor\": \"white\", \"linecolor\": \"white\", \"ticks\": \"\"}}, \"scene\": {\"xaxis\": {\"backgroundcolor\": \"#E5ECF6\", \"gridcolor\": \"white\", \"gridwidth\": 2, \"linecolor\": \"white\", \"showbackground\": true, \"ticks\": \"\", \"zerolinecolor\": \"white\"}, \"yaxis\": {\"backgroundcolor\": \"#E5ECF6\", \"gridcolor\": \"white\", \"gridwidth\": 2, \"linecolor\": \"white\", \"showbackground\": true, \"ticks\": \"\", \"zerolinecolor\": \"white\"}, \"zaxis\": {\"backgroundcolor\": \"#E5ECF6\", \"gridcolor\": \"white\", \"gridwidth\": 2, \"linecolor\": \"white\", \"showbackground\": true, \"ticks\": \"\", \"zerolinecolor\": \"white\"}}, \"shapedefaults\": {\"line\": {\"color\": \"#2a3f5f\"}}, \"ternary\": {\"aaxis\": {\"gridcolor\": \"white\", \"linecolor\": \"white\", \"ticks\": \"\"}, \"baxis\": {\"gridcolor\": \"white\", \"linecolor\": \"white\", \"ticks\": \"\"}, \"bgcolor\": \"#E5ECF6\", \"caxis\": {\"gridcolor\": \"white\", \"linecolor\": \"white\", \"ticks\": \"\"}}, \"title\": {\"x\": 0.05}, \"xaxis\": {\"automargin\": true, \"gridcolor\": \"white\", \"linecolor\": \"white\", \"ticks\": \"\", \"title\": {\"standoff\": 15}, \"zerolinecolor\": \"white\", \"zerolinewidth\": 2}, \"yaxis\": {\"automargin\": true, \"gridcolor\": \"white\", \"linecolor\": \"white\", \"ticks\": \"\", \"title\": {\"standoff\": 15}, \"zerolinecolor\": \"white\", \"zerolinewidth\": 2}}}, \"title\": {\"text\": \"Sample Size vs Mean Difference\"}, \"xaxis\": {\"anchor\": \"y\", \"domain\": [0.0, 1.0], \"title\": {\"text\": \"Sample sizes\"}}, \"yaxis\": {\"anchor\": \"x\", \"domain\": [0.0, 1.0], \"title\": {\"text\": \"Means difference\"}}},                        {\"responsive\": true}                    ).then(function(){\n                            \nvar gd = document.getElementById('a8a76c04-381b-459b-9515-f088ddefa580');\nvar x = new MutationObserver(function (mutations, observer) {{\n        var display = window.getComputedStyle(gd).display;\n        if (!display || display === 'none') {{\n            console.log([gd, 'removed!']);\n            Plotly.purge(gd);\n            observer.disconnect();\n        }}\n}});\n\n// Listen for the removal of the full notebook cells\nvar notebookContainer = gd.closest('#notebook-container');\nif (notebookContainer) {{\n    x.observe(notebookContainer, {childList: true});\n}}\n\n// Listen for the clearing of the current output cell\nvar outputEl = gd.closest('.output');\nif (outputEl) {{\n    x.observe(outputEl, {childList: true});\n}}\n\n                        })                };                            </script>        </div>\n</body>\n</html>"
          },
          "metadata": {},
          "output_type": "display_data"
        }
      ],
      "execution_count": 75
    },
    {
      "cell_type": "markdown",
      "source": "<a style='text-decoration:none;line-height:16px;display:flex;color:#5B5B62;padding:10px;justify-content:end;' href='https://deepnote.com?utm_source=created-in-deepnote-cell&projectId=448c9915-a913-46fc-ae78-919ae91b0726' target=\"_blank\">\n<img alt='Created in deepnote.com' style='display:inline;max-height:16px;margin:0px;margin-right:7.5px;' src='data:image/svg+xml;base64,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' > </img>\nCreated in <span style='font-weight:600;margin-left:4px;'>Deepnote</span></a>",
      "metadata": {
        "tags": [],
        "created_in_deepnote_cell": true,
        "deepnote_cell_type": "markdown"
      }
    }
  ],
  "nbformat": 4,
  "nbformat_minor": 2,
  "metadata": {
    "orig_nbformat": 2,
    "deepnote": {
      "is_reactive": false
    },
    "deepnote_notebook_id": "4b244790-5e44-41d6-bed5-5212547fb96d",
    "deepnote_execution_queue": []
  }
}