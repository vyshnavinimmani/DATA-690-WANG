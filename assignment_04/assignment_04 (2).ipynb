{
  "cells": [
    {
      "cell_type": "code",
      "metadata": {
        "tags": [],
        "cell_id": "00001-3481e932-dc73-4a4e-93e6-016fde74c05f",
        "deepnote_to_be_reexecuted": false,
        "execution_millis": 5,
        "output_cleared": false,
        "source_hash": "6f567cca",
        "execution_start": 1614915273744,
        "deepnote_cell_type": "code"
      },
      "source": "# read all lines from census_cost to line_list\nwith open (\"census_cost.py\",\"rt\")as f:\n    line_list = f.readlines()\n    line_list=[line.replace('\\n',',') for line in line_list]\nfor row in line_list:\n    print(row)",
      "execution_count": 1,
      "outputs": [
        {
          "name": "stdout",
          "text": "Source: https://www.genealogybranches.com/censuscosts.html,\nCensus Year\tTotal Population\tCensus Cost\tAverage Cost Per Person,\n1790\t3,929,214\t$44,377\t1.13 cents,\n1800\t5,308,483\t$66,109\t1.24 cents,\n1810\t7,239,881\t$178,445\t2.46 cents,\n1820\t9,633,822\t$208,526\t2.16 cents,\n1830\t12,866,020\t$378,545\t2.94 cents,\n1840\t17,069,458\t$833,371\t4.88 cents,\n1850\t23,191,876\t$1,423,351\t6.14 cents,\n1860\t31,443,321\t$1,969,377\t6.26 cents,\n1870\t38,558,371\t$3,421,198\t8.87 cents,\n1880\t50,155,783\t$5,790,678\t11.54 cents,\n1890\t62,979,766\t$11,547,127\t18.33 cents,\n1900\t76,303,387\t$11,854,000\t15.54 cents,\n1910\t91,972,266\t$15,968,000\t17.07 cents,\n1920\t105,710,620\t$25,117,000\t23.76 cents,\n1930\t122,775,046\t$40,156,000\t32.71 cents,\n1940\t131,669,275\t$67,527,000\t51.29 cents,\n1950\t151,325,798\t$91,462,000\t60.44 cents,\n1960\t179,323,175\t$127,934,000\t71.34 cents,\n1970\t203,302,031\t$247,653,000\t$1.22,\n1980\t226,542,199\t$1,078,488,000\t$4.76,\n1990\t248,718,301\t$2,492,830,000\t$10.02,\n2000\t281,421,906\t$4.5 Billion\t$15.99,\n2010*\t308,745,538\t$13 Billion\t$42.11\n",
          "output_type": "stream"
        }
      ]
    },
    {
      "cell_type": "code",
      "metadata": {
        "tags": [],
        "cell_id": "00003-ba33c5f6-7543-4eb1-8351-aa10210b3d3e",
        "deepnote_to_be_reexecuted": false,
        "source_hash": "75bd31c",
        "execution_millis": 6,
        "output_cleared": false,
        "execution_start": 1614915273747,
        "deepnote_cell_type": "code"
      },
      "source": "top2_list = (line_list[0:2])\nprint(*top2_list, sep='\\n')",
      "execution_count": 2,
      "outputs": [
        {
          "name": "stdout",
          "text": "Source: https://www.genealogybranches.com/censuscosts.html,\nCensus Year\tTotal Population\tCensus Cost\tAverage Cost Per Person,\n",
          "output_type": "stream"
        }
      ]
    },
    {
      "cell_type": "code",
      "metadata": {
        "tags": [],
        "cell_id": "00003-56868604-be25-4d65-8e96-8b0b95ee9103",
        "deepnote_to_be_reexecuted": false,
        "source_hash": "894e8c4",
        "execution_millis": 8,
        "output_cleared": false,
        "execution_start": 1614915273754,
        "deepnote_cell_type": "code"
      },
      "source": "data_list = (line_list[2:])\nprint(*data_list, sep='\\n')\n",
      "execution_count": 3,
      "outputs": [
        {
          "name": "stdout",
          "text": "1790\t3,929,214\t$44,377\t1.13 cents,\n1800\t5,308,483\t$66,109\t1.24 cents,\n1810\t7,239,881\t$178,445\t2.46 cents,\n1820\t9,633,822\t$208,526\t2.16 cents,\n1830\t12,866,020\t$378,545\t2.94 cents,\n1840\t17,069,458\t$833,371\t4.88 cents,\n1850\t23,191,876\t$1,423,351\t6.14 cents,\n1860\t31,443,321\t$1,969,377\t6.26 cents,\n1870\t38,558,371\t$3,421,198\t8.87 cents,\n1880\t50,155,783\t$5,790,678\t11.54 cents,\n1890\t62,979,766\t$11,547,127\t18.33 cents,\n1900\t76,303,387\t$11,854,000\t15.54 cents,\n1910\t91,972,266\t$15,968,000\t17.07 cents,\n1920\t105,710,620\t$25,117,000\t23.76 cents,\n1930\t122,775,046\t$40,156,000\t32.71 cents,\n1940\t131,669,275\t$67,527,000\t51.29 cents,\n1950\t151,325,798\t$91,462,000\t60.44 cents,\n1960\t179,323,175\t$127,934,000\t71.34 cents,\n1970\t203,302,031\t$247,653,000\t$1.22,\n1980\t226,542,199\t$1,078,488,000\t$4.76,\n1990\t248,718,301\t$2,492,830,000\t$10.02,\n2000\t281,421,906\t$4.5 Billion\t$15.99,\n2010*\t308,745,538\t$13 Billion\t$42.11\n",
          "output_type": "stream"
        }
      ]
    },
    {
      "cell_type": "code",
      "metadata": {
        "tags": [],
        "cell_id": "00004-202301d6-aa9d-42c7-a61a-c73fc580ab6c",
        "deepnote_to_be_reexecuted": false,
        "source_hash": "85e48709",
        "execution_millis": 10,
        "execution_start": 1614915273768,
        "deepnote_cell_type": "code"
      },
      "source": "year_list=[]\nfor x in range(len(data_list)):\n    year_list.append(data_list[x][:4])\nyear_list",
      "execution_count": 4,
      "outputs": [
        {
          "output_type": "execute_result",
          "execution_count": 4,
          "data": {
            "text/plain": "['1790',\n '1800',\n '1810',\n '1820',\n '1830',\n '1840',\n '1850',\n '1860',\n '1870',\n '1880',\n '1890',\n '1900',\n '1910',\n '1920',\n '1930',\n '1940',\n '1950',\n '1960',\n '1970',\n '1980',\n '1990',\n '2000',\n '2010']"
          },
          "metadata": {}
        }
      ]
    },
    {
      "cell_type": "code",
      "metadata": {
        "tags": [],
        "cell_id": "00004-87a387e3-a339-48c4-936f-bcfecb24ff1c",
        "deepnote_to_be_reexecuted": false,
        "source_hash": "8a63a3e8",
        "execution_millis": 9,
        "execution_start": 1614915273775,
        "deepnote_cell_type": "code"
      },
      "source": "data_list[-1][:4]",
      "execution_count": 5,
      "outputs": [
        {
          "output_type": "execute_result",
          "execution_count": 5,
          "data": {
            "text/plain": "'2010'"
          },
          "metadata": {}
        }
      ]
    },
    {
      "cell_type": "code",
      "metadata": {
        "tags": [],
        "cell_id": "00005-1b325702-9343-46a8-a0c1-54b18d494059",
        "deepnote_to_be_reexecuted": false,
        "source_hash": "709cc831",
        "execution_millis": 7,
        "execution_start": 1614915273829,
        "deepnote_cell_type": "code"
      },
      "source": "pop_list = []\ntotal_pop = []\nfor i in range(len(data_list)):\n    temp_string = data_list[i].replace(\"\\t\", \"    \")\n    temp_string = temp_string.replace(\",\",\"\")\n    total_pop.append(temp_string[8:17])\nfor x in range(len(total_pop)):\n    pop_list.append(total_pop[x].replace(\" \",\"\"))\npop_list",
      "execution_count": 6,
      "outputs": [
        {
          "output_type": "execute_result",
          "execution_count": 6,
          "data": {
            "text/plain": "['3929214',\n '5308483',\n '7239881',\n '9633822',\n '12866020',\n '17069458',\n '23191876',\n '31443321',\n '38558371',\n '50155783',\n '62979766',\n '76303387',\n '91972266',\n '105710620',\n '122775046',\n '131669275',\n '151325798',\n '179323175',\n '203302031',\n '226542199',\n '248718301',\n '281421906',\n '30874553']"
          },
          "metadata": {}
        }
      ]
    },
    {
      "cell_type": "code",
      "metadata": {
        "tags": [],
        "cell_id": "00006-28218014-59c4-4743-ae20-193a0388e423",
        "deepnote_to_be_reexecuted": false,
        "source_hash": "528a20be",
        "execution_millis": 10,
        "execution_start": 1614915273839,
        "deepnote_cell_type": "code"
      },
      "source": "cost_list = []\ntemp_string=''\nfor x in range(len(data_list)):\n    temp_string=data_list[x].split('\\t')[2]\n    temp_string = temp_string.replace(\",\",\"\")\n    temp_string = temp_string.replace(\" Billion\",\"000000000\")\n    temp_string = temp_string.replace(\"$\",\"\")\n    cost_list.append(temp_string)\n\ncost_list",
      "execution_count": 7,
      "outputs": [
        {
          "output_type": "execute_result",
          "execution_count": 7,
          "data": {
            "text/plain": "['44377',\n '66109',\n '178445',\n '208526',\n '378545',\n '833371',\n '1423351',\n '1969377',\n '3421198',\n '5790678',\n '11547127',\n '11854000',\n '15968000',\n '25117000',\n '40156000',\n '67527000',\n '91462000',\n '127934000',\n '247653000',\n '1078488000',\n '2492830000',\n '4.5000000000',\n '13000000000']"
          },
          "metadata": {}
        }
      ]
    },
    {
      "cell_type": "code",
      "metadata": {
        "tags": [],
        "cell_id": "00008-fecd0892-a448-4fed-9aa1-0abc09cab726",
        "deepnote_to_be_reexecuted": false,
        "source_hash": "50ac9fdd",
        "execution_millis": 31,
        "output_cleared": false,
        "execution_start": 1614915273852,
        "deepnote_cell_type": "code"
      },
      "source": "avg_list = []\ntemp_value=''\nfor x in range(len(data_list)):\n    temp_value=data_list[x].split('\\t')[3]\n    temp_value = temp_value.replace(\"$\",\"\")\n    \n    temp_value=temp_value.replace(',','')\n    if 'cents' in temp_value:\n        temp_value=temp_value.replace(\" cents\",\"\")\n        temp_value=temp_value.replace(',','')\n        x1=(float(temp_value))/100\n        avg_list.append(x1)\n    else:\n    \n        temp_value\n        avg_list.append(float(temp_value))\n\navg_list",
      "execution_count": 8,
      "outputs": [
        {
          "output_type": "execute_result",
          "execution_count": 8,
          "data": {
            "text/plain": "[0.0113,\n 0.0124,\n 0.0246,\n 0.0216,\n 0.0294,\n 0.048799999999999996,\n 0.061399999999999996,\n 0.0626,\n 0.08869999999999999,\n 0.11539999999999999,\n 0.1833,\n 0.15539999999999998,\n 0.1707,\n 0.2376,\n 0.3271,\n 0.5129,\n 0.6043999999999999,\n 0.7134,\n 1.22,\n 4.76,\n 10.02,\n 15.99,\n 42.11]"
          },
          "metadata": {}
        }
      ]
    },
    {
      "cell_type": "code",
      "metadata": {
        "tags": [],
        "cell_id": "00008-a62cd635-fa65-42a4-8f42-63bebb86e58b",
        "deepnote_to_be_reexecuted": false,
        "source_hash": "99087841",
        "execution_millis": 4,
        "execution_start": 1614915273883,
        "deepnote_cell_type": "code"
      },
      "source": "z=top2_list[1].split(\"\\t\")\nz",
      "execution_count": 9,
      "outputs": [
        {
          "output_type": "execute_result",
          "execution_count": 9,
          "data": {
            "text/plain": "['Census Year', 'Total Population', 'Census Cost', 'Average Cost Per Person,']"
          },
          "metadata": {}
        }
      ]
    },
    {
      "cell_type": "code",
      "metadata": {
        "tags": [],
        "cell_id": "00008-a1329c03-1932-4827-9961-5ef8156b7252",
        "deepnote_to_be_reexecuted": false,
        "source_hash": "574e334a",
        "execution_millis": 3,
        "execution_start": 1614915273884,
        "deepnote_cell_type": "code"
      },
      "source": "import pandas as pd\ndata=pd.DataFrame(columns =z )\ndata",
      "execution_count": 10,
      "outputs": [
        {
          "output_type": "execute_result",
          "execution_count": 10,
          "data": {
            "application/vnd.deepnote.dataframe.v2+json": {
              "row_count": 0,
              "column_count": 4,
              "columns": [
                {
                  "name": "Census Year",
                  "dtype": "object",
                  "stats": {
                    "unique_count": 0,
                    "nan_count": 0,
                    "categories": []
                  }
                },
                {
                  "name": "Total Population",
                  "dtype": "object",
                  "stats": {
                    "unique_count": 0,
                    "nan_count": 0,
                    "categories": []
                  }
                },
                {
                  "name": "Census Cost",
                  "dtype": "object",
                  "stats": {
                    "unique_count": 0,
                    "nan_count": 0,
                    "categories": []
                  }
                },
                {
                  "name": "Average Cost Per Person,",
                  "dtype": "object",
                  "stats": {
                    "unique_count": 0,
                    "nan_count": 0,
                    "categories": []
                  }
                },
                {
                  "name": "_deepnote_index_column",
                  "dtype": "object"
                }
              ],
              "rows_top": [],
              "rows_bottom": null
            },
            "text/plain": "Empty DataFrame\nColumns: [Census Year, Total Population, Census Cost, Average Cost Per Person,]\nIndex: []",
            "text/html": "<div>\n<style scoped>\n    .dataframe tbody tr th:only-of-type {\n        vertical-align: middle;\n    }\n\n    .dataframe tbody tr th {\n        vertical-align: top;\n    }\n\n    .dataframe thead th {\n        text-align: right;\n    }\n</style>\n<table border=\"1\" class=\"dataframe\">\n  <thead>\n    <tr style=\"text-align: right;\">\n      <th></th>\n      <th>Census Year</th>\n      <th>Total Population</th>\n      <th>Census Cost</th>\n      <th>Average Cost Per Person,</th>\n    </tr>\n  </thead>\n  <tbody>\n  </tbody>\n</table>\n</div>"
          },
          "metadata": {}
        }
      ]
    },
    {
      "cell_type": "code",
      "metadata": {
        "tags": [],
        "cell_id": "00010-0e07e473-b378-450e-a971-147f552d4cc7",
        "deepnote_to_be_reexecuted": false,
        "source_hash": "e0317a89",
        "execution_millis": 8,
        "output_cleared": false,
        "execution_start": 1614915273927,
        "deepnote_cell_type": "code"
      },
      "source": "data['Census Year'] = year_list\ndata['Total Population'] = pop_list\ndata['Census Cost']= cost_list\ndata['Average Cost Per Person,']= avg_list\ndata\n",
      "execution_count": 11,
      "outputs": [
        {
          "output_type": "execute_result",
          "execution_count": 11,
          "data": {
            "application/vnd.deepnote.dataframe.v2+json": {
              "row_count": 23,
              "column_count": 4,
              "columns": [
                {
                  "name": "Census Year",
                  "dtype": "object",
                  "stats": {
                    "unique_count": 23,
                    "nan_count": 0,
                    "categories": [
                      {
                        "name": "1790",
                        "count": 1
                      },
                      {
                        "name": "1800",
                        "count": 1
                      },
                      {
                        "name": "21 others",
                        "count": 21
                      }
                    ]
                  }
                },
                {
                  "name": "Total Population",
                  "dtype": "object",
                  "stats": {
                    "unique_count": 23,
                    "nan_count": 0,
                    "categories": [
                      {
                        "name": "3929214",
                        "count": 1
                      },
                      {
                        "name": "5308483",
                        "count": 1
                      },
                      {
                        "name": "21 others",
                        "count": 21
                      }
                    ]
                  }
                },
                {
                  "name": "Census Cost",
                  "dtype": "object",
                  "stats": {
                    "unique_count": 23,
                    "nan_count": 0,
                    "categories": [
                      {
                        "name": "44377",
                        "count": 1
                      },
                      {
                        "name": "66109",
                        "count": 1
                      },
                      {
                        "name": "21 others",
                        "count": 21
                      }
                    ]
                  }
                },
                {
                  "name": "Average Cost Per Person,",
                  "dtype": "float64",
                  "stats": {
                    "unique_count": 23,
                    "nan_count": 0,
                    "min": 0.0113,
                    "max": 42.11,
                    "histogram": [
                      {
                        "bin_start": 0.0113,
                        "bin_end": 4.221170000000001,
                        "count": 19
                      },
                      {
                        "bin_start": 4.221170000000001,
                        "bin_end": 8.431040000000001,
                        "count": 1
                      },
                      {
                        "bin_start": 8.431040000000001,
                        "bin_end": 12.640910000000002,
                        "count": 1
                      },
                      {
                        "bin_start": 12.640910000000002,
                        "bin_end": 16.85078,
                        "count": 1
                      },
                      {
                        "bin_start": 16.85078,
                        "bin_end": 21.060650000000003,
                        "count": 0
                      },
                      {
                        "bin_start": 21.060650000000003,
                        "bin_end": 25.27052,
                        "count": 0
                      },
                      {
                        "bin_start": 25.27052,
                        "bin_end": 29.48039,
                        "count": 0
                      },
                      {
                        "bin_start": 29.48039,
                        "bin_end": 33.69026,
                        "count": 0
                      },
                      {
                        "bin_start": 33.69026,
                        "bin_end": 37.900130000000004,
                        "count": 0
                      },
                      {
                        "bin_start": 37.900130000000004,
                        "bin_end": 42.11,
                        "count": 1
                      }
                    ]
                  }
                },
                {
                  "name": "_deepnote_index_column",
                  "dtype": "int64"
                }
              ],
              "rows_top": [
                {
                  "Census Year": "1790",
                  "Total Population": "3929214",
                  "Census Cost": "44377",
                  "Average Cost Per Person,": 0.0113,
                  "_deepnote_index_column": 0
                },
                {
                  "Census Year": "1800",
                  "Total Population": "5308483",
                  "Census Cost": "66109",
                  "Average Cost Per Person,": 0.0124,
                  "_deepnote_index_column": 1
                },
                {
                  "Census Year": "1810",
                  "Total Population": "7239881",
                  "Census Cost": "178445",
                  "Average Cost Per Person,": 0.0246,
                  "_deepnote_index_column": 2
                },
                {
                  "Census Year": "1820",
                  "Total Population": "9633822",
                  "Census Cost": "208526",
                  "Average Cost Per Person,": 0.0216,
                  "_deepnote_index_column": 3
                },
                {
                  "Census Year": "1830",
                  "Total Population": "12866020",
                  "Census Cost": "378545",
                  "Average Cost Per Person,": 0.0294,
                  "_deepnote_index_column": 4
                },
                {
                  "Census Year": "1840",
                  "Total Population": "17069458",
                  "Census Cost": "833371",
                  "Average Cost Per Person,": 0.048799999999999996,
                  "_deepnote_index_column": 5
                },
                {
                  "Census Year": "1850",
                  "Total Population": "23191876",
                  "Census Cost": "1423351",
                  "Average Cost Per Person,": 0.061399999999999996,
                  "_deepnote_index_column": 6
                },
                {
                  "Census Year": "1860",
                  "Total Population": "31443321",
                  "Census Cost": "1969377",
                  "Average Cost Per Person,": 0.0626,
                  "_deepnote_index_column": 7
                },
                {
                  "Census Year": "1870",
                  "Total Population": "38558371",
                  "Census Cost": "3421198",
                  "Average Cost Per Person,": 0.08869999999999999,
                  "_deepnote_index_column": 8
                },
                {
                  "Census Year": "1880",
                  "Total Population": "50155783",
                  "Census Cost": "5790678",
                  "Average Cost Per Person,": 0.11539999999999999,
                  "_deepnote_index_column": 9
                },
                {
                  "Census Year": "1890",
                  "Total Population": "62979766",
                  "Census Cost": "11547127",
                  "Average Cost Per Person,": 0.1833,
                  "_deepnote_index_column": 10
                },
                {
                  "Census Year": "1900",
                  "Total Population": "76303387",
                  "Census Cost": "11854000",
                  "Average Cost Per Person,": 0.15539999999999998,
                  "_deepnote_index_column": 11
                },
                {
                  "Census Year": "1910",
                  "Total Population": "91972266",
                  "Census Cost": "15968000",
                  "Average Cost Per Person,": 0.1707,
                  "_deepnote_index_column": 12
                },
                {
                  "Census Year": "1920",
                  "Total Population": "105710620",
                  "Census Cost": "25117000",
                  "Average Cost Per Person,": 0.2376,
                  "_deepnote_index_column": 13
                },
                {
                  "Census Year": "1930",
                  "Total Population": "122775046",
                  "Census Cost": "40156000",
                  "Average Cost Per Person,": 0.3271,
                  "_deepnote_index_column": 14
                },
                {
                  "Census Year": "1940",
                  "Total Population": "131669275",
                  "Census Cost": "67527000",
                  "Average Cost Per Person,": 0.5129,
                  "_deepnote_index_column": 15
                },
                {
                  "Census Year": "1950",
                  "Total Population": "151325798",
                  "Census Cost": "91462000",
                  "Average Cost Per Person,": 0.6043999999999999,
                  "_deepnote_index_column": 16
                },
                {
                  "Census Year": "1960",
                  "Total Population": "179323175",
                  "Census Cost": "127934000",
                  "Average Cost Per Person,": 0.7134,
                  "_deepnote_index_column": 17
                },
                {
                  "Census Year": "1970",
                  "Total Population": "203302031",
                  "Census Cost": "247653000",
                  "Average Cost Per Person,": 1.22,
                  "_deepnote_index_column": 18
                },
                {
                  "Census Year": "1980",
                  "Total Population": "226542199",
                  "Census Cost": "1078488000",
                  "Average Cost Per Person,": 4.76,
                  "_deepnote_index_column": 19
                },
                {
                  "Census Year": "1990",
                  "Total Population": "248718301",
                  "Census Cost": "2492830000",
                  "Average Cost Per Person,": 10.02,
                  "_deepnote_index_column": 20
                },
                {
                  "Census Year": "2000",
                  "Total Population": "281421906",
                  "Census Cost": "4.5000000000",
                  "Average Cost Per Person,": 15.99,
                  "_deepnote_index_column": 21
                },
                {
                  "Census Year": "2010",
                  "Total Population": "30874553",
                  "Census Cost": "13000000000",
                  "Average Cost Per Person,": 42.11,
                  "_deepnote_index_column": 22
                }
              ],
              "rows_bottom": null
            },
            "text/plain": "   Census Year Total Population   Census Cost  Average Cost Per Person,\n0         1790          3929214         44377                    0.0113\n1         1800          5308483         66109                    0.0124\n2         1810          7239881        178445                    0.0246\n3         1820          9633822        208526                    0.0216\n4         1830         12866020        378545                    0.0294\n5         1840         17069458        833371                    0.0488\n6         1850         23191876       1423351                    0.0614\n7         1860         31443321       1969377                    0.0626\n8         1870         38558371       3421198                    0.0887\n9         1880         50155783       5790678                    0.1154\n10        1890         62979766      11547127                    0.1833\n11        1900         76303387      11854000                    0.1554\n12        1910         91972266      15968000                    0.1707\n13        1920        105710620      25117000                    0.2376\n14        1930        122775046      40156000                    0.3271\n15        1940        131669275      67527000                    0.5129\n16        1950        151325798      91462000                    0.6044\n17        1960        179323175     127934000                    0.7134\n18        1970        203302031     247653000                    1.2200\n19        1980        226542199    1078488000                    4.7600\n20        1990        248718301    2492830000                   10.0200\n21        2000        281421906  4.5000000000                   15.9900\n22        2010         30874553   13000000000                   42.1100",
            "text/html": "<div>\n<style scoped>\n    .dataframe tbody tr th:only-of-type {\n        vertical-align: middle;\n    }\n\n    .dataframe tbody tr th {\n        vertical-align: top;\n    }\n\n    .dataframe thead th {\n        text-align: right;\n    }\n</style>\n<table border=\"1\" class=\"dataframe\">\n  <thead>\n    <tr style=\"text-align: right;\">\n      <th></th>\n      <th>Census Year</th>\n      <th>Total Population</th>\n      <th>Census Cost</th>\n      <th>Average Cost Per Person,</th>\n    </tr>\n  </thead>\n  <tbody>\n    <tr>\n      <th>0</th>\n      <td>1790</td>\n      <td>3929214</td>\n      <td>44377</td>\n      <td>0.0113</td>\n    </tr>\n    <tr>\n      <th>1</th>\n      <td>1800</td>\n      <td>5308483</td>\n      <td>66109</td>\n      <td>0.0124</td>\n    </tr>\n    <tr>\n      <th>2</th>\n      <td>1810</td>\n      <td>7239881</td>\n      <td>178445</td>\n      <td>0.0246</td>\n    </tr>\n    <tr>\n      <th>3</th>\n      <td>1820</td>\n      <td>9633822</td>\n      <td>208526</td>\n      <td>0.0216</td>\n    </tr>\n    <tr>\n      <th>4</th>\n      <td>1830</td>\n      <td>12866020</td>\n      <td>378545</td>\n      <td>0.0294</td>\n    </tr>\n    <tr>\n      <th>5</th>\n      <td>1840</td>\n      <td>17069458</td>\n      <td>833371</td>\n      <td>0.0488</td>\n    </tr>\n    <tr>\n      <th>6</th>\n      <td>1850</td>\n      <td>23191876</td>\n      <td>1423351</td>\n      <td>0.0614</td>\n    </tr>\n    <tr>\n      <th>7</th>\n      <td>1860</td>\n      <td>31443321</td>\n      <td>1969377</td>\n      <td>0.0626</td>\n    </tr>\n    <tr>\n      <th>8</th>\n      <td>1870</td>\n      <td>38558371</td>\n      <td>3421198</td>\n      <td>0.0887</td>\n    </tr>\n    <tr>\n      <th>9</th>\n      <td>1880</td>\n      <td>50155783</td>\n      <td>5790678</td>\n      <td>0.1154</td>\n    </tr>\n    <tr>\n      <th>10</th>\n      <td>1890</td>\n      <td>62979766</td>\n      <td>11547127</td>\n      <td>0.1833</td>\n    </tr>\n    <tr>\n      <th>11</th>\n      <td>1900</td>\n      <td>76303387</td>\n      <td>11854000</td>\n      <td>0.1554</td>\n    </tr>\n    <tr>\n      <th>12</th>\n      <td>1910</td>\n      <td>91972266</td>\n      <td>15968000</td>\n      <td>0.1707</td>\n    </tr>\n    <tr>\n      <th>13</th>\n      <td>1920</td>\n      <td>105710620</td>\n      <td>25117000</td>\n      <td>0.2376</td>\n    </tr>\n    <tr>\n      <th>14</th>\n      <td>1930</td>\n      <td>122775046</td>\n      <td>40156000</td>\n      <td>0.3271</td>\n    </tr>\n    <tr>\n      <th>15</th>\n      <td>1940</td>\n      <td>131669275</td>\n      <td>67527000</td>\n      <td>0.5129</td>\n    </tr>\n    <tr>\n      <th>16</th>\n      <td>1950</td>\n      <td>151325798</td>\n      <td>91462000</td>\n      <td>0.6044</td>\n    </tr>\n    <tr>\n      <th>17</th>\n      <td>1960</td>\n      <td>179323175</td>\n      <td>127934000</td>\n      <td>0.7134</td>\n    </tr>\n    <tr>\n      <th>18</th>\n      <td>1970</td>\n      <td>203302031</td>\n      <td>247653000</td>\n      <td>1.2200</td>\n    </tr>\n    <tr>\n      <th>19</th>\n      <td>1980</td>\n      <td>226542199</td>\n      <td>1078488000</td>\n      <td>4.7600</td>\n    </tr>\n    <tr>\n      <th>20</th>\n      <td>1990</td>\n      <td>248718301</td>\n      <td>2492830000</td>\n      <td>10.0200</td>\n    </tr>\n    <tr>\n      <th>21</th>\n      <td>2000</td>\n      <td>281421906</td>\n      <td>4.5000000000</td>\n      <td>15.9900</td>\n    </tr>\n    <tr>\n      <th>22</th>\n      <td>2010</td>\n      <td>30874553</td>\n      <td>13000000000</td>\n      <td>42.1100</td>\n    </tr>\n  </tbody>\n</table>\n</div>"
          },
          "metadata": {}
        }
      ]
    },
    {
      "cell_type": "code",
      "metadata": {
        "tags": [],
        "cell_id": "00011-1906e049-0d04-4c80-bf23-2107a84985ff",
        "deepnote_to_be_reexecuted": false,
        "source_hash": "dd01ebe1",
        "execution_millis": 7,
        "execution_start": 1614915273934,
        "deepnote_cell_type": "code"
      },
      "source": "file = open('census_cost.csv', 'a')\nfile.write(top2_list[0] + '\\n')\nfile.close()  \ndata.to_csv('census_cost.csv')",
      "execution_count": 12,
      "outputs": []
    },
    {
      "cell_type": "code",
      "metadata": {
        "tags": [],
        "cell_id": "00012-e787fcd6-9d83-4aaf-b524-8b2b507f986f",
        "deepnote_to_be_reexecuted": false,
        "source_hash": "16de80fb",
        "execution_millis": 28,
        "execution_start": 1614915273944,
        "deepnote_cell_type": "code"
      },
      "source": "import pandas as pd\ncsv_file = pd.read_csv(\"census_cost.csv\")\ncsv_file",
      "execution_count": 13,
      "outputs": [
        {
          "output_type": "execute_result",
          "execution_count": 13,
          "data": {
            "application/vnd.deepnote.dataframe.v2+json": {
              "row_count": 23,
              "column_count": 5,
              "columns": [
                {
                  "name": "Unnamed: 0",
                  "dtype": "int64",
                  "stats": {
                    "unique_count": 23,
                    "nan_count": 0,
                    "min": 0,
                    "max": 22,
                    "histogram": [
                      {
                        "bin_start": 0,
                        "bin_end": 2.2,
                        "count": 3
                      },
                      {
                        "bin_start": 2.2,
                        "bin_end": 4.4,
                        "count": 2
                      },
                      {
                        "bin_start": 4.4,
                        "bin_end": 6.6000000000000005,
                        "count": 2
                      },
                      {
                        "bin_start": 6.6000000000000005,
                        "bin_end": 8.8,
                        "count": 2
                      },
                      {
                        "bin_start": 8.8,
                        "bin_end": 11,
                        "count": 2
                      },
                      {
                        "bin_start": 11,
                        "bin_end": 13.200000000000001,
                        "count": 3
                      },
                      {
                        "bin_start": 13.200000000000001,
                        "bin_end": 15.400000000000002,
                        "count": 2
                      },
                      {
                        "bin_start": 15.400000000000002,
                        "bin_end": 17.6,
                        "count": 2
                      },
                      {
                        "bin_start": 17.6,
                        "bin_end": 19.8,
                        "count": 2
                      },
                      {
                        "bin_start": 19.8,
                        "bin_end": 22,
                        "count": 3
                      }
                    ]
                  }
                },
                {
                  "name": "Census Year",
                  "dtype": "int64",
                  "stats": {
                    "unique_count": 23,
                    "nan_count": 0,
                    "min": 1790,
                    "max": 2010,
                    "histogram": [
                      {
                        "bin_start": 1790,
                        "bin_end": 1812,
                        "count": 3
                      },
                      {
                        "bin_start": 1812,
                        "bin_end": 1834,
                        "count": 2
                      },
                      {
                        "bin_start": 1834,
                        "bin_end": 1856,
                        "count": 2
                      },
                      {
                        "bin_start": 1856,
                        "bin_end": 1878,
                        "count": 2
                      },
                      {
                        "bin_start": 1878,
                        "bin_end": 1900,
                        "count": 2
                      },
                      {
                        "bin_start": 1900,
                        "bin_end": 1922,
                        "count": 3
                      },
                      {
                        "bin_start": 1922,
                        "bin_end": 1944,
                        "count": 2
                      },
                      {
                        "bin_start": 1944,
                        "bin_end": 1966,
                        "count": 2
                      },
                      {
                        "bin_start": 1966,
                        "bin_end": 1988,
                        "count": 2
                      },
                      {
                        "bin_start": 1988,
                        "bin_end": 2010,
                        "count": 3
                      }
                    ]
                  }
                },
                {
                  "name": "Total Population",
                  "dtype": "int64",
                  "stats": {
                    "unique_count": 23,
                    "nan_count": 0,
                    "min": 3929214,
                    "max": 281421906,
                    "histogram": [
                      {
                        "bin_start": 3929214,
                        "bin_end": 31678483.2,
                        "count": 9
                      },
                      {
                        "bin_start": 31678483.2,
                        "bin_end": 59427752.4,
                        "count": 2
                      },
                      {
                        "bin_start": 59427752.4,
                        "bin_end": 87177021.6,
                        "count": 2
                      },
                      {
                        "bin_start": 87177021.6,
                        "bin_end": 114926290.8,
                        "count": 2
                      },
                      {
                        "bin_start": 114926290.8,
                        "bin_end": 142675560,
                        "count": 2
                      },
                      {
                        "bin_start": 142675560,
                        "bin_end": 170424829.2,
                        "count": 1
                      },
                      {
                        "bin_start": 170424829.2,
                        "bin_end": 198174098.4,
                        "count": 1
                      },
                      {
                        "bin_start": 198174098.4,
                        "bin_end": 225923367.6,
                        "count": 1
                      },
                      {
                        "bin_start": 225923367.6,
                        "bin_end": 253672636.79999998,
                        "count": 2
                      },
                      {
                        "bin_start": 253672636.79999998,
                        "bin_end": 281421906,
                        "count": 1
                      }
                    ]
                  }
                },
                {
                  "name": "Census Cost",
                  "dtype": "float64",
                  "stats": {
                    "unique_count": 23,
                    "nan_count": 0,
                    "min": 4.5,
                    "max": 13000000000,
                    "histogram": [
                      {
                        "bin_start": 4.5,
                        "bin_end": 1300000004.05,
                        "count": 21
                      },
                      {
                        "bin_start": 1300000004.05,
                        "bin_end": 2600000003.6,
                        "count": 1
                      },
                      {
                        "bin_start": 2600000003.6,
                        "bin_end": 3900000003.1499996,
                        "count": 0
                      },
                      {
                        "bin_start": 3900000003.1499996,
                        "bin_end": 5200000002.7,
                        "count": 0
                      },
                      {
                        "bin_start": 5200000002.7,
                        "bin_end": 6500000002.25,
                        "count": 0
                      },
                      {
                        "bin_start": 6500000002.25,
                        "bin_end": 7800000001.799999,
                        "count": 0
                      },
                      {
                        "bin_start": 7800000001.799999,
                        "bin_end": 9100000001.35,
                        "count": 0
                      },
                      {
                        "bin_start": 9100000001.35,
                        "bin_end": 10400000000.9,
                        "count": 0
                      },
                      {
                        "bin_start": 10400000000.9,
                        "bin_end": 11700000000.449999,
                        "count": 0
                      },
                      {
                        "bin_start": 11700000000.449999,
                        "bin_end": 13000000000,
                        "count": 1
                      }
                    ]
                  }
                },
                {
                  "name": "Average Cost Per Person,",
                  "dtype": "float64",
                  "stats": {
                    "unique_count": 23,
                    "nan_count": 0,
                    "min": 0.0113,
                    "max": 42.11,
                    "histogram": [
                      {
                        "bin_start": 0.0113,
                        "bin_end": 4.221170000000001,
                        "count": 19
                      },
                      {
                        "bin_start": 4.221170000000001,
                        "bin_end": 8.431040000000001,
                        "count": 1
                      },
                      {
                        "bin_start": 8.431040000000001,
                        "bin_end": 12.640910000000002,
                        "count": 1
                      },
                      {
                        "bin_start": 12.640910000000002,
                        "bin_end": 16.85078,
                        "count": 1
                      },
                      {
                        "bin_start": 16.85078,
                        "bin_end": 21.060650000000003,
                        "count": 0
                      },
                      {
                        "bin_start": 21.060650000000003,
                        "bin_end": 25.27052,
                        "count": 0
                      },
                      {
                        "bin_start": 25.27052,
                        "bin_end": 29.48039,
                        "count": 0
                      },
                      {
                        "bin_start": 29.48039,
                        "bin_end": 33.69026,
                        "count": 0
                      },
                      {
                        "bin_start": 33.69026,
                        "bin_end": 37.900130000000004,
                        "count": 0
                      },
                      {
                        "bin_start": 37.900130000000004,
                        "bin_end": 42.11,
                        "count": 1
                      }
                    ]
                  }
                },
                {
                  "name": "_deepnote_index_column",
                  "dtype": "int64"
                }
              ],
              "rows_top": [
                {
                  "Unnamed: 0": 0,
                  "Census Year": 1790,
                  "Total Population": 3929214,
                  "Census Cost": 44377,
                  "Average Cost Per Person,": 0.0113,
                  "_deepnote_index_column": 0
                },
                {
                  "Unnamed: 0": 1,
                  "Census Year": 1800,
                  "Total Population": 5308483,
                  "Census Cost": 66109,
                  "Average Cost Per Person,": 0.0124,
                  "_deepnote_index_column": 1
                },
                {
                  "Unnamed: 0": 2,
                  "Census Year": 1810,
                  "Total Population": 7239881,
                  "Census Cost": 178445,
                  "Average Cost Per Person,": 0.0246,
                  "_deepnote_index_column": 2
                },
                {
                  "Unnamed: 0": 3,
                  "Census Year": 1820,
                  "Total Population": 9633822,
                  "Census Cost": 208526,
                  "Average Cost Per Person,": 0.0216,
                  "_deepnote_index_column": 3
                },
                {
                  "Unnamed: 0": 4,
                  "Census Year": 1830,
                  "Total Population": 12866020,
                  "Census Cost": 378545,
                  "Average Cost Per Person,": 0.0294,
                  "_deepnote_index_column": 4
                },
                {
                  "Unnamed: 0": 5,
                  "Census Year": 1840,
                  "Total Population": 17069458,
                  "Census Cost": 833371,
                  "Average Cost Per Person,": 0.0487999999999999,
                  "_deepnote_index_column": 5
                },
                {
                  "Unnamed: 0": 6,
                  "Census Year": 1850,
                  "Total Population": 23191876,
                  "Census Cost": 1423351,
                  "Average Cost Per Person,": 0.0613999999999999,
                  "_deepnote_index_column": 6
                },
                {
                  "Unnamed: 0": 7,
                  "Census Year": 1860,
                  "Total Population": 31443321,
                  "Census Cost": 1969377,
                  "Average Cost Per Person,": 0.0626,
                  "_deepnote_index_column": 7
                },
                {
                  "Unnamed: 0": 8,
                  "Census Year": 1870,
                  "Total Population": 38558371,
                  "Census Cost": 3421198,
                  "Average Cost Per Person,": 0.0886999999999999,
                  "_deepnote_index_column": 8
                },
                {
                  "Unnamed: 0": 9,
                  "Census Year": 1880,
                  "Total Population": 50155783,
                  "Census Cost": 5790678,
                  "Average Cost Per Person,": 0.1153999999999999,
                  "_deepnote_index_column": 9
                },
                {
                  "Unnamed: 0": 10,
                  "Census Year": 1890,
                  "Total Population": 62979766,
                  "Census Cost": 11547127,
                  "Average Cost Per Person,": 0.1833,
                  "_deepnote_index_column": 10
                },
                {
                  "Unnamed: 0": 11,
                  "Census Year": 1900,
                  "Total Population": 76303387,
                  "Census Cost": 11854000,
                  "Average Cost Per Person,": 0.1553999999999999,
                  "_deepnote_index_column": 11
                },
                {
                  "Unnamed: 0": 12,
                  "Census Year": 1910,
                  "Total Population": 91972266,
                  "Census Cost": 15968000,
                  "Average Cost Per Person,": 0.1707,
                  "_deepnote_index_column": 12
                },
                {
                  "Unnamed: 0": 13,
                  "Census Year": 1920,
                  "Total Population": 105710620,
                  "Census Cost": 25117000,
                  "Average Cost Per Person,": 0.2376,
                  "_deepnote_index_column": 13
                },
                {
                  "Unnamed: 0": 14,
                  "Census Year": 1930,
                  "Total Population": 122775046,
                  "Census Cost": 40156000,
                  "Average Cost Per Person,": 0.3271,
                  "_deepnote_index_column": 14
                },
                {
                  "Unnamed: 0": 15,
                  "Census Year": 1940,
                  "Total Population": 131669275,
                  "Census Cost": 67527000,
                  "Average Cost Per Person,": 0.5129,
                  "_deepnote_index_column": 15
                },
                {
                  "Unnamed: 0": 16,
                  "Census Year": 1950,
                  "Total Population": 151325798,
                  "Census Cost": 91462000,
                  "Average Cost Per Person,": 0.6043999999999999,
                  "_deepnote_index_column": 16
                },
                {
                  "Unnamed: 0": 17,
                  "Census Year": 1960,
                  "Total Population": 179323175,
                  "Census Cost": 127934000,
                  "Average Cost Per Person,": 0.7134,
                  "_deepnote_index_column": 17
                },
                {
                  "Unnamed: 0": 18,
                  "Census Year": 1970,
                  "Total Population": 203302031,
                  "Census Cost": 247653000,
                  "Average Cost Per Person,": 1.22,
                  "_deepnote_index_column": 18
                },
                {
                  "Unnamed: 0": 19,
                  "Census Year": 1980,
                  "Total Population": 226542199,
                  "Census Cost": 1078488000,
                  "Average Cost Per Person,": 4.76,
                  "_deepnote_index_column": 19
                },
                {
                  "Unnamed: 0": 20,
                  "Census Year": 1990,
                  "Total Population": 248718301,
                  "Census Cost": 2492830000,
                  "Average Cost Per Person,": 10.02,
                  "_deepnote_index_column": 20
                },
                {
                  "Unnamed: 0": 21,
                  "Census Year": 2000,
                  "Total Population": 281421906,
                  "Census Cost": 4.5,
                  "Average Cost Per Person,": 15.99,
                  "_deepnote_index_column": 21
                },
                {
                  "Unnamed: 0": 22,
                  "Census Year": 2010,
                  "Total Population": 30874553,
                  "Census Cost": 13000000000,
                  "Average Cost Per Person,": 42.11,
                  "_deepnote_index_column": 22
                }
              ],
              "rows_bottom": null
            },
            "text/plain": "    Unnamed: 0  Census Year  Total Population   Census Cost  \\\n0            0         1790           3929214  4.437700e+04   \n1            1         1800           5308483  6.610900e+04   \n2            2         1810           7239881  1.784450e+05   \n3            3         1820           9633822  2.085260e+05   \n4            4         1830          12866020  3.785450e+05   \n5            5         1840          17069458  8.333710e+05   \n6            6         1850          23191876  1.423351e+06   \n7            7         1860          31443321  1.969377e+06   \n8            8         1870          38558371  3.421198e+06   \n9            9         1880          50155783  5.790678e+06   \n10          10         1890          62979766  1.154713e+07   \n11          11         1900          76303387  1.185400e+07   \n12          12         1910          91972266  1.596800e+07   \n13          13         1920         105710620  2.511700e+07   \n14          14         1930         122775046  4.015600e+07   \n15          15         1940         131669275  6.752700e+07   \n16          16         1950         151325798  9.146200e+07   \n17          17         1960         179323175  1.279340e+08   \n18          18         1970         203302031  2.476530e+08   \n19          19         1980         226542199  1.078488e+09   \n20          20         1990         248718301  2.492830e+09   \n21          21         2000         281421906  4.500000e+00   \n22          22         2010          30874553  1.300000e+10   \n\n    Average Cost Per Person,  \n0                     0.0113  \n1                     0.0124  \n2                     0.0246  \n3                     0.0216  \n4                     0.0294  \n5                     0.0488  \n6                     0.0614  \n7                     0.0626  \n8                     0.0887  \n9                     0.1154  \n10                    0.1833  \n11                    0.1554  \n12                    0.1707  \n13                    0.2376  \n14                    0.3271  \n15                    0.5129  \n16                    0.6044  \n17                    0.7134  \n18                    1.2200  \n19                    4.7600  \n20                   10.0200  \n21                   15.9900  \n22                   42.1100  ",
            "text/html": "<div>\n<style scoped>\n    .dataframe tbody tr th:only-of-type {\n        vertical-align: middle;\n    }\n\n    .dataframe tbody tr th {\n        vertical-align: top;\n    }\n\n    .dataframe thead th {\n        text-align: right;\n    }\n</style>\n<table border=\"1\" class=\"dataframe\">\n  <thead>\n    <tr style=\"text-align: right;\">\n      <th></th>\n      <th>Unnamed: 0</th>\n      <th>Census Year</th>\n      <th>Total Population</th>\n      <th>Census Cost</th>\n      <th>Average Cost Per Person,</th>\n    </tr>\n  </thead>\n  <tbody>\n    <tr>\n      <th>0</th>\n      <td>0</td>\n      <td>1790</td>\n      <td>3929214</td>\n      <td>4.437700e+04</td>\n      <td>0.0113</td>\n    </tr>\n    <tr>\n      <th>1</th>\n      <td>1</td>\n      <td>1800</td>\n      <td>5308483</td>\n      <td>6.610900e+04</td>\n      <td>0.0124</td>\n    </tr>\n    <tr>\n      <th>2</th>\n      <td>2</td>\n      <td>1810</td>\n      <td>7239881</td>\n      <td>1.784450e+05</td>\n      <td>0.0246</td>\n    </tr>\n    <tr>\n      <th>3</th>\n      <td>3</td>\n      <td>1820</td>\n      <td>9633822</td>\n      <td>2.085260e+05</td>\n      <td>0.0216</td>\n    </tr>\n    <tr>\n      <th>4</th>\n      <td>4</td>\n      <td>1830</td>\n      <td>12866020</td>\n      <td>3.785450e+05</td>\n      <td>0.0294</td>\n    </tr>\n    <tr>\n      <th>5</th>\n      <td>5</td>\n      <td>1840</td>\n      <td>17069458</td>\n      <td>8.333710e+05</td>\n      <td>0.0488</td>\n    </tr>\n    <tr>\n      <th>6</th>\n      <td>6</td>\n      <td>1850</td>\n      <td>23191876</td>\n      <td>1.423351e+06</td>\n      <td>0.0614</td>\n    </tr>\n    <tr>\n      <th>7</th>\n      <td>7</td>\n      <td>1860</td>\n      <td>31443321</td>\n      <td>1.969377e+06</td>\n      <td>0.0626</td>\n    </tr>\n    <tr>\n      <th>8</th>\n      <td>8</td>\n      <td>1870</td>\n      <td>38558371</td>\n      <td>3.421198e+06</td>\n      <td>0.0887</td>\n    </tr>\n    <tr>\n      <th>9</th>\n      <td>9</td>\n      <td>1880</td>\n      <td>50155783</td>\n      <td>5.790678e+06</td>\n      <td>0.1154</td>\n    </tr>\n    <tr>\n      <th>10</th>\n      <td>10</td>\n      <td>1890</td>\n      <td>62979766</td>\n      <td>1.154713e+07</td>\n      <td>0.1833</td>\n    </tr>\n    <tr>\n      <th>11</th>\n      <td>11</td>\n      <td>1900</td>\n      <td>76303387</td>\n      <td>1.185400e+07</td>\n      <td>0.1554</td>\n    </tr>\n    <tr>\n      <th>12</th>\n      <td>12</td>\n      <td>1910</td>\n      <td>91972266</td>\n      <td>1.596800e+07</td>\n      <td>0.1707</td>\n    </tr>\n    <tr>\n      <th>13</th>\n      <td>13</td>\n      <td>1920</td>\n      <td>105710620</td>\n      <td>2.511700e+07</td>\n      <td>0.2376</td>\n    </tr>\n    <tr>\n      <th>14</th>\n      <td>14</td>\n      <td>1930</td>\n      <td>122775046</td>\n      <td>4.015600e+07</td>\n      <td>0.3271</td>\n    </tr>\n    <tr>\n      <th>15</th>\n      <td>15</td>\n      <td>1940</td>\n      <td>131669275</td>\n      <td>6.752700e+07</td>\n      <td>0.5129</td>\n    </tr>\n    <tr>\n      <th>16</th>\n      <td>16</td>\n      <td>1950</td>\n      <td>151325798</td>\n      <td>9.146200e+07</td>\n      <td>0.6044</td>\n    </tr>\n    <tr>\n      <th>17</th>\n      <td>17</td>\n      <td>1960</td>\n      <td>179323175</td>\n      <td>1.279340e+08</td>\n      <td>0.7134</td>\n    </tr>\n    <tr>\n      <th>18</th>\n      <td>18</td>\n      <td>1970</td>\n      <td>203302031</td>\n      <td>2.476530e+08</td>\n      <td>1.2200</td>\n    </tr>\n    <tr>\n      <th>19</th>\n      <td>19</td>\n      <td>1980</td>\n      <td>226542199</td>\n      <td>1.078488e+09</td>\n      <td>4.7600</td>\n    </tr>\n    <tr>\n      <th>20</th>\n      <td>20</td>\n      <td>1990</td>\n      <td>248718301</td>\n      <td>2.492830e+09</td>\n      <td>10.0200</td>\n    </tr>\n    <tr>\n      <th>21</th>\n      <td>21</td>\n      <td>2000</td>\n      <td>281421906</td>\n      <td>4.500000e+00</td>\n      <td>15.9900</td>\n    </tr>\n    <tr>\n      <th>22</th>\n      <td>22</td>\n      <td>2010</td>\n      <td>30874553</td>\n      <td>1.300000e+10</td>\n      <td>42.1100</td>\n    </tr>\n  </tbody>\n</table>\n</div>"
          },
          "metadata": {}
        }
      ]
    },
    {
      "cell_type": "markdown",
      "source": "<a style='text-decoration:none;line-height:16px;display:flex;color:#5B5B62;padding:10px;justify-content:end;' href='https://deepnote.com?utm_source=created-in-deepnote-cell&projectId=db928347-f211-47ce-84a6-bd25f9c8d897' target=\"_blank\">\n<img style='display:inline;max-height:16px;margin:0px;margin-right:7.5px;' src='data:image/svg+xml;base64,PD94bWwgdmVyc2lvbj0iMS4wIiBlbmNvZGluZz0iVVRGLTgiPz4KPHN2ZyB3aWR0aD0iODBweCIgaGVpZ2h0PSI4MHB4IiB2aWV3Qm94PSIwIDAgODAgODAiIHZlcnNpb249IjEuMSIgeG1sbnM9Imh0dHA6Ly93d3cudzMub3JnLzIwMDAvc3ZnIiB4bWxuczp4bGluaz0iaHR0cDovL3d3dy53My5vcmcvMTk5OS94bGluayI+CiAgICA8IS0tIEdlbmVyYXRvcjogU2tldGNoIDU0LjEgKDc2NDkwKSAtIGh0dHBzOi8vc2tldGNoYXBwLmNvbSAtLT4KICAgIDx0aXRsZT5Hcm91cCAzPC90aXRsZT4KICAgIDxkZXNjPkNyZWF0ZWQgd2l0aCBTa2V0Y2guPC9kZXNjPgogICAgPGcgaWQ9IkxhbmRpbmciIHN0cm9rZT0ibm9uZSIgc3Ryb2tlLXdpZHRoPSIxIiBmaWxsPSJub25lIiBmaWxsLXJ1bGU9ImV2ZW5vZGQiPgogICAgICAgIDxnIGlkPSJBcnRib2FyZCIgdHJhbnNmb3JtPSJ0cmFuc2xhdGUoLTEyMzUuMDAwMDAwLCAtNzkuMDAwMDAwKSI+CiAgICAgICAgICAgIDxnIGlkPSJHcm91cC0zIiB0cmFuc2Zvcm09InRyYW5zbGF0ZSgxMjM1LjAwMDAwMCwgNzkuMDAwMDAwKSI+CiAgICAgICAgICAgICAgICA8cG9seWdvbiBpZD0iUGF0aC0yMCIgZmlsbD0iIzAyNjVCNCIgcG9pbnRzPSIyLjM3NjIzNzYyIDgwIDM4LjA0NzY2NjcgODAgNTcuODIxNzgyMiA3My44MDU3NTkyIDU3LjgyMTc4MjIgMzIuNzU5MjczOSAzOS4xNDAyMjc4IDMxLjY4MzE2ODMiPjwvcG9seWdvbj4KICAgICAgICAgICAgICAgIDxwYXRoIGQ9Ik0zNS4wMDc3MTgsODAgQzQyLjkwNjIwMDcsNzYuNDU0OTM1OCA0Ny41NjQ5MTY3LDcxLjU0MjI2NzEgNDguOTgzODY2LDY1LjI2MTk5MzkgQzUxLjExMjI4OTksNTUuODQxNTg0MiA0MS42NzcxNzk1LDQ5LjIxMjIyODQgMjUuNjIzOTg0Niw0OS4yMTIyMjg0IEMyNS40ODQ5Mjg5LDQ5LjEyNjg0NDggMjkuODI2MTI5Niw0My4yODM4MjQ4IDM4LjY0NzU4NjksMzEuNjgzMTY4MyBMNzIuODcxMjg3MSwzMi41NTQ0MjUgTDY1LjI4MDk3Myw2Ny42NzYzNDIxIEw1MS4xMTIyODk5LDc3LjM3NjE0NCBMMzUuMDA3NzE4LDgwIFoiIGlkPSJQYXRoLTIyIiBmaWxsPSIjMDAyODY4Ij48L3BhdGg+CiAgICAgICAgICAgICAgICA8cGF0aCBkPSJNMCwzNy43MzA0NDA1IEwyNy4xMTQ1MzcsMC4yNTcxMTE0MzYgQzYyLjM3MTUxMjMsLTEuOTkwNzE3MDEgODAsMTAuNTAwMzkyNyA4MCwzNy43MzA0NDA1IEM4MCw2NC45NjA0ODgyIDY0Ljc3NjUwMzgsNzkuMDUwMzQxNCAzNC4zMjk1MTEzLDgwIEM0Ny4wNTUzNDg5LDc3LjU2NzA4MDggNTMuNDE4MjY3Nyw3MC4zMTM2MTAzIDUzLjQxODI2NzcsNTguMjM5NTg4NSBDNTMuNDE4MjY3Nyw0MC4xMjg1NTU3IDM2LjMwMzk1NDQsMzcuNzMwNDQwNSAyNS4yMjc0MTcsMzcuNzMwNDQwNSBDMTcuODQzMDU4NiwzNy43MzA0NDA1IDkuNDMzOTE5NjYsMzcuNzMwNDQwNSAwLDM3LjczMDQ0MDUgWiIgaWQ9IlBhdGgtMTkiIGZpbGw9IiMzNzkzRUYiPjwvcGF0aD4KICAgICAgICAgICAgPC9nPgogICAgICAgIDwvZz4KICAgIDwvZz4KPC9zdmc+' > </img>\nCreated in <span style='font-weight:600;margin-left:4px;'>Deepnote</span></a>",
      "metadata": {
        "tags": [],
        "created_in_deepnote_cell": true,
        "deepnote_cell_type": "markdown"
      }
    }
  ],
  "nbformat": 4,
  "nbformat_minor": 2,
  "metadata": {
    "orig_nbformat": 2,
    "deepnote_notebook_id": "03e24d6e-bbd8-4ee6-8181-4462d630d7af",
    "deepnote": {},
    "deepnote_execution_queue": []
  }
}